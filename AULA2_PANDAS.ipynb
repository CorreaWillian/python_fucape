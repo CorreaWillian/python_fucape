{
 "cells": [
  {
   "cell_type": "markdown",
   "metadata": {},
   "source": [
    "# Biblioteca Pandas"
   ]
  },
  {
   "cell_type": "code",
   "execution_count": null,
   "metadata": {},
   "outputs": [],
   "source": [
    "# importar biblioteca\n",
    "import pandas as pd"
   ]
  },
  {
   "cell_type": "code",
   "execution_count": null,
   "metadata": {},
   "outputs": [],
   "source": [
    "local_arquivo = r'arquivos\\petr4.csv'\n"
   ]
  },
  {
   "cell_type": "markdown",
   "metadata": {},
   "source": [
    "Lendo arquivo csv local"
   ]
  },
  {
   "cell_type": "code",
   "execution_count": null,
   "metadata": {},
   "outputs": [],
   "source": [
    "df = pd.read_csv(local_arquivo, decimal=',')\n",
    "df"
   ]
  },
  {
   "cell_type": "markdown",
   "metadata": {},
   "source": [
    "Tipo de objeto"
   ]
  },
  {
   "cell_type": "code",
   "execution_count": null,
   "metadata": {},
   "outputs": [],
   "source": [
    "print(type(df))"
   ]
  },
  {
   "cell_type": "markdown",
   "metadata": {},
   "source": [
    "Tipos de objetos dentro do dataframe"
   ]
  },
  {
   "cell_type": "code",
   "execution_count": null,
   "metadata": {},
   "outputs": [],
   "source": [
    "df.dtypes"
   ]
  },
  {
   "cell_type": "markdown",
   "metadata": {},
   "source": [
    "Descrever o formato dos dados (linhas, colunas)"
   ]
  },
  {
   "cell_type": "code",
   "execution_count": null,
   "metadata": {},
   "outputs": [],
   "source": [
    "print(df.shape)"
   ]
  },
  {
   "cell_type": "markdown",
   "metadata": {},
   "source": [
    "## Acesso à tabelas em html\n",
    "\n",
    "datasets damodaran: http://pages.stern.nyu.edu/~adamodar/New_Home_Page/dataarchived.html"
   ]
  },
  {
   "cell_type": "code",
   "execution_count": null,
   "metadata": {},
   "outputs": [],
   "source": [
    "# TABELAS DA PÁGINA DO DAMODARAN\n",
    "link = 'http://pages.stern.nyu.edu/~adamodar/New_Home_Page/datafile/histretSP.html'\n",
    "\n",
    "df_html = pd.read_html(link)\n",
    "df_html"
   ]
  },
  {
   "cell_type": "markdown",
   "metadata": {},
   "source": [
    "Tipo do objeto"
   ]
  },
  {
   "cell_type": "code",
   "execution_count": null,
   "metadata": {},
   "outputs": [],
   "source": [
    "print(type(df_html))"
   ]
  },
  {
   "cell_type": "markdown",
   "metadata": {},
   "source": [
    "## Tratando dados"
   ]
  },
  {
   "cell_type": "markdown",
   "metadata": {},
   "source": [
    "Selecionando primeiro item da lista"
   ]
  },
  {
   "cell_type": "code",
   "execution_count": null,
   "metadata": {},
   "outputs": [],
   "source": [
    "df_html = df_html[0]\n",
    "df_html"
   ]
  },
  {
   "cell_type": "markdown",
   "metadata": {},
   "source": [
    "Trocando o cabeçalho da coluna"
   ]
  },
  {
   "cell_type": "code",
   "execution_count": null,
   "metadata": {},
   "outputs": [],
   "source": [
    "df_html.columns = df_html.loc[1]\n",
    "df_html"
   ]
  },
  {
   "cell_type": "markdown",
   "metadata": {},
   "source": [
    "Deletando colunas"
   ]
  },
  {
   "cell_type": "code",
   "execution_count": null,
   "metadata": {},
   "outputs": [],
   "source": [
    "df_html.drop([0, 1], inplace=True)\n",
    "df_html"
   ]
  },
  {
   "cell_type": "code",
   "execution_count": null,
   "metadata": {},
   "outputs": [],
   "source": [
    "print(df_html.dtypes)"
   ]
  },
  {
   "cell_type": "markdown",
   "metadata": {},
   "source": [
    "Substituindo strings dentro do dataframe"
   ]
  },
  {
   "cell_type": "code",
   "execution_count": null,
   "metadata": {},
   "outputs": [],
   "source": [
    "df_html.replace('%', '', regex=True, inplace=True)\n",
    "df_html.replace(',', '', regex=True, inplace=True)\n",
    "df_html.replace('\\$ ', '', regex=True, inplace=True)"
   ]
  },
  {
   "cell_type": "markdown",
   "metadata": {},
   "source": [
    "Transformando objetos em dados numéricos"
   ]
  },
  {
   "cell_type": "code",
   "execution_count": null,
   "metadata": {},
   "outputs": [],
   "source": [
    "df_html = df_html.apply(pd.to_numeric)"
   ]
  },
  {
   "cell_type": "code",
   "execution_count": null,
   "metadata": {},
   "outputs": [],
   "source": [
    "df_html.dtypes"
   ]
  },
  {
   "cell_type": "markdown",
   "metadata": {},
   "source": [
    "Agora podemos fazer operações com o dataframe"
   ]
  },
  {
   "cell_type": "code",
   "execution_count": null,
   "metadata": {},
   "outputs": [],
   "source": [
    "df_html['S&P 500 (includes dividends)'] = df_html['S&P 500 (includes dividends)']/100"
   ]
  },
  {
   "cell_type": "code",
   "execution_count": null,
   "metadata": {},
   "outputs": [],
   "source": [
    "df_html"
   ]
  },
  {
   "cell_type": "markdown",
   "metadata": {},
   "source": [
    "Transformar o \"Year\" em index"
   ]
  },
  {
   "cell_type": "code",
   "execution_count": null,
   "metadata": {},
   "outputs": [],
   "source": [
    "df_html.set_index('Year', inplace=True)\n",
    "df_html"
   ]
  },
  {
   "cell_type": "markdown",
   "metadata": {},
   "source": [
    "Ordenar pelo índice"
   ]
  },
  {
   "cell_type": "code",
   "execution_count": null,
   "metadata": {},
   "outputs": [],
   "source": [
    "df_html.sort_index(ascending=False, inplace=True)\n",
    "df_html"
   ]
  },
  {
   "cell_type": "markdown",
   "metadata": {},
   "source": [
    "Ordernar por outras colunas"
   ]
  },
  {
   "cell_type": "code",
   "execution_count": null,
   "metadata": {},
   "outputs": [],
   "source": [
    "df_html.sort_values(by='S&P 500 (includes dividends)', ascending=False, inplace=True)\n",
    "df_html"
   ]
  },
  {
   "cell_type": "markdown",
   "metadata": {},
   "source": [
    "## Código completo read_html"
   ]
  },
  {
   "cell_type": "code",
   "execution_count": null,
   "metadata": {},
   "outputs": [],
   "source": [
    "# TABELAS DA PÁGINA DO DAMODARAN\n",
    "link = 'http://pages.stern.nyu.edu/~adamodar/New_Home_Page/datafile/histretSP.html'\n",
    "\n",
    "# Lê a tabela e já seleciona o primeiro item da lista de dataframes\n",
    "df_html = pd.read_html(link)[0]\n",
    "\n",
    "# Troca os títulos das colunas para a segunda linha do dataframe\n",
    "df_html.columns = df_html.loc[1]\n",
    "\n",
    "# Apaga a linha 0 e 1 do dataframe pois são iguais aos títulos\n",
    "df_html.drop([0, 1], inplace=True)\n",
    "\n",
    "# Substituindo strings que atrapalham a identificação correta dos tipos de objeto\n",
    "df_html.replace('%', '', regex=True, inplace=True)\n",
    "df_html.replace(',', '', regex=True, inplace=True)\n",
    "df_html.replace('\\$ ', '', regex=True, inplace=True)\n",
    "\n",
    "# Transformando em objetos do tipo numérico\n",
    "df_html = df_html.apply(pd.to_numeric)\n",
    "\n",
    "# Dividindo a coluna da rentabilidade por 100 para ficar em porcentagem\n",
    "df_html['S&P 500 (includes dividends)'] = df_html['S&P 500 (includes dividends)']/100\n",
    "\n",
    "# Usando a data como índice\n",
    "df_html['Year'] = pd.to_datetime(df_html['Year'], format='%Y')\n",
    "df_html.set_index('Year', inplace=True)\n",
    "\n",
    "df_html"
   ]
  },
  {
   "cell_type": "markdown",
   "metadata": {},
   "source": [
    "## Trabalhando com datetime"
   ]
  },
  {
   "cell_type": "code",
   "execution_count": null,
   "metadata": {},
   "outputs": [],
   "source": [
    "arquivo = r'arquivos\\ibov.csv'\n",
    "nome_papel = arquivo.split('\\\\')[-1][:-4]\n",
    "nome_papel = nome_papel.upper()\n",
    "print(nome_papel)\n",
    "df = pd.read_csv(arquivo, decimal=',', thousands='.')\n",
    "df"
   ]
  },
  {
   "cell_type": "markdown",
   "metadata": {},
   "source": [
    "Apagando as colunas que não serão usadas"
   ]
  },
  {
   "cell_type": "code",
   "execution_count": null,
   "metadata": {},
   "outputs": [],
   "source": [
    "df.drop(columns=['Hora', 'ULT'], inplace=True)"
   ]
  },
  {
   "cell_type": "markdown",
   "metadata": {},
   "source": [
    "Transformar a data em datetime"
   ]
  },
  {
   "cell_type": "code",
   "execution_count": null,
   "metadata": {},
   "outputs": [],
   "source": [
    "df.dtypes"
   ]
  },
  {
   "cell_type": "code",
   "execution_count": null,
   "metadata": {},
   "outputs": [],
   "source": [
    "df['Data_teste'] = pd.to_datetime(df['Data'])\n",
    "df.dtypes"
   ]
  },
  {
   "cell_type": "markdown",
   "metadata": {},
   "source": [
    "Conferindo formato da data\n",
    "\n",
    "aaaa-mm-dd"
   ]
  },
  {
   "cell_type": "code",
   "execution_count": null,
   "metadata": {},
   "outputs": [],
   "source": [
    "df.sort_values(by='Data_teste', ascending=False)"
   ]
  },
  {
   "cell_type": "code",
   "execution_count": null,
   "metadata": {},
   "outputs": [],
   "source": [
    "df['Data'] = pd.to_datetime(df['Data'], format='%d/%m/%Y')\n",
    "df.sort_values(by='Data', ascending=False, inplace=True)"
   ]
  },
  {
   "cell_type": "code",
   "execution_count": null,
   "metadata": {},
   "outputs": [],
   "source": [
    "df.drop(columns='Data_teste', inplace=True)\n",
    "df"
   ]
  },
  {
   "cell_type": "markdown",
   "metadata": {},
   "source": [
    "Usando a data como índice"
   ]
  },
  {
   "cell_type": "code",
   "execution_count": null,
   "metadata": {},
   "outputs": [],
   "source": [
    "df.set_index('Data', inplace=True)"
   ]
  },
  {
   "cell_type": "markdown",
   "metadata": {},
   "source": [
    "Transformando em dados mensais"
   ]
  },
  {
   "cell_type": "code",
   "execution_count": null,
   "metadata": {},
   "outputs": [],
   "source": [
    "df_mensal = df.resample('M').last()\n",
    "df_mensal"
   ]
  },
  {
   "cell_type": "code",
   "execution_count": null,
   "metadata": {},
   "outputs": [],
   "source": [
    "df.rename(columns={'Fechamento': nome_papel}, inplace=True)\n",
    "df"
   ]
  },
  {
   "cell_type": "code",
   "execution_count": null,
   "metadata": {},
   "outputs": [],
   "source": [
    "df_anual = df.resample('Y').last()\n",
    "df_anual"
   ]
  },
  {
   "cell_type": "markdown",
   "metadata": {},
   "source": [
    "Calcular o retorno anual"
   ]
  },
  {
   "cell_type": "code",
   "execution_count": null,
   "metadata": {},
   "outputs": [],
   "source": [
    "df_anual[f'retorno_{nome_papel}'] = df_anual[nome_papel].pct_change()\n",
    "df_anual"
   ]
  },
  {
   "cell_type": "markdown",
   "metadata": {},
   "source": [
    "## Juntando dois dataframes"
   ]
  },
  {
   "cell_type": "code",
   "execution_count": null,
   "metadata": {},
   "outputs": [],
   "source": [
    "df_html"
   ]
  },
  {
   "cell_type": "code",
   "execution_count": null,
   "metadata": {},
   "outputs": [],
   "source": [
    "df_sp = df_html.copy()\n",
    "df_sp"
   ]
  },
  {
   "cell_type": "markdown",
   "metadata": {},
   "source": [
    "Selecionando as primeiras colunas"
   ]
  },
  {
   "cell_type": "code",
   "execution_count": null,
   "metadata": {},
   "outputs": [],
   "source": [
    "df_sp = df_sp[df_sp.columns[0:3]]\n",
    "df_sp"
   ]
  },
  {
   "cell_type": "markdown",
   "metadata": {},
   "source": [
    "Transformar a data e ano em apenas ano"
   ]
  },
  {
   "cell_type": "code",
   "execution_count": null,
   "metadata": {},
   "outputs": [],
   "source": [
    "df_sp.index = df_sp.index.year\n",
    "df_sp"
   ]
  },
  {
   "cell_type": "code",
   "execution_count": null,
   "metadata": {},
   "outputs": [],
   "source": [
    "df_anual.index = df_anual.index.year\n",
    "df_anual"
   ]
  },
  {
   "cell_type": "code",
   "execution_count": null,
   "metadata": {},
   "outputs": [],
   "source": [
    "df_junto = df_anual.merge(df_sp, right_index=True, left_index=True)\n",
    "df_junto.dropna(inplace=True)\n",
    "df_junto = df_junto[['retorno_IBOV', 'S&P 500 (includes dividends)']]\n",
    "df_junto"
   ]
  },
  {
   "cell_type": "code",
   "execution_count": null,
   "metadata": {},
   "outputs": [],
   "source": [
    "df_junto.plot()"
   ]
  },
  {
   "cell_type": "code",
   "execution_count": null,
   "metadata": {},
   "outputs": [],
   "source": [
    "# Retornos do IBOV\n",
    "link_ibov = 'http://bvmf.bmfbovespa.com.br/indices/ResumoVariacaoAnual.aspx?Indice=IBOV&idioma=pt-br'\n",
    "df_online = pd.read_html(link_ibov, decimal=',', thousands='.')[0].dropna()\n",
    "\n",
    "# Limpando o dataframe\n",
    "df_online.replace('\\*', '', regex=True, inplace=True)\n",
    "df_online.replace(' \\(\\)', '', regex=True, inplace=True)\n",
    "\n",
    "# Transformando o ano em índice\n",
    "df_online['Ano'] = pd.to_datetime(df_online['Ano'], format='%Y')\n",
    "df_online.set_index('Ano', inplace=True)\n",
    "df_online.index = df_online.index.year\n",
    "\n",
    "# Transformando em %\n",
    "df_online[['Variação anual em US$', 'Variação Anual Nominal']] = df_online[['Variação anual em US$', 'Variação Anual Nominal']]/100\n",
    "\n",
    "df_online"
   ]
  },
  {
   "cell_type": "markdown",
   "metadata": {},
   "source": [
    "Juntando o novo dataframe"
   ]
  },
  {
   "cell_type": "code",
   "execution_count": null,
   "metadata": {},
   "outputs": [],
   "source": [
    "df_junto = df_junto.merge(df_online[['Variação anual em US$']], right_index=True, left_index=True)\n",
    "df_junto"
   ]
  },
  {
   "cell_type": "markdown",
   "metadata": {},
   "source": [
    "Plotando gráfico"
   ]
  },
  {
   "cell_type": "code",
   "execution_count": null,
   "metadata": {},
   "outputs": [],
   "source": [
    "df_junto[['S&P 500 (includes dividends)', 'Variação anual em US$']].plot()"
   ]
  },
  {
   "cell_type": "markdown",
   "metadata": {},
   "source": [
    "Descrevendo os dados"
   ]
  },
  {
   "cell_type": "code",
   "execution_count": null,
   "metadata": {},
   "outputs": [],
   "source": [
    "df_junto.describe()"
   ]
  },
  {
   "cell_type": "markdown",
   "metadata": {},
   "source": [
    "## Criando a função + Código completo retorno"
   ]
  },
  {
   "cell_type": "code",
   "execution_count": null,
   "metadata": {},
   "outputs": [],
   "source": [
    "def dados_retornos(arquivo, freq='Y'):\n",
    "    \n",
    "    # Nome do ativo do arquivo\n",
    "    nome_papel = arquivo.split('\\\\')[-1][:-4]\n",
    "    nome_papel = nome_papel.upper()\n",
    "    \n",
    "    # Ler o arquivo em csv\n",
    "    df = pd.read_csv(arquivo, decimal=',', thousands='.')\n",
    "    \n",
    "    # Dropando colunas não usadas\n",
    "    df.drop(columns=['Hora', 'ULT', 'Abertura', 'Maxima', 'Minima'], inplace=True)\n",
    "    \n",
    "    # Trocando o nome 'Fechamento' para o nome do ativo\n",
    "    df.rename(columns={'Fechamento': nome_papel}, inplace=True)\n",
    "\n",
    "    # Transformando a data no formato correto de datetime\n",
    "    df['Data'] = pd.to_datetime(df['Data'], format='%d/%m/%Y')\n",
    "    \n",
    "    # Usando a coluna Data como índice\n",
    "    df.set_index('Data', inplace=True)\n",
    "    \n",
    "    # Frequência dos dados 'M', 'Q', 'Y'\n",
    "    df = df.resample(freq).last()\n",
    "    \n",
    "    # Ordenando por data menor para maior\n",
    "    df.sort_index(ascending=True, inplace=True)\n",
    "    \n",
    "    # Calculando o retorno no período\n",
    "    df[f'retorno_{nome_papel}'] = df[nome_papel].pct_change()\n",
    "    \n",
    "    # Apagando linhas onde existem dados em branco\n",
    "    df.dropna(inplace=True)\n",
    "    \n",
    "    return df"
   ]
  },
  {
   "cell_type": "code",
   "execution_count": null,
   "metadata": {},
   "outputs": [],
   "source": [
    "arquivo = r'arquivos\\ibov.csv'\n",
    "retorno_papel = dados_retornos(arquivo, 'Y')\n",
    "retorno_papel"
   ]
  },
  {
   "cell_type": "markdown",
   "metadata": {},
   "source": [
    "Juntando todos arquivos baixados"
   ]
  },
  {
   "cell_type": "code",
   "execution_count": null,
   "metadata": {},
   "outputs": [],
   "source": [
    "# Pacote que faz iteração com arquivos e pastas\n",
    "import glob\n",
    "\n",
    "# Local onde se encontram os arquivos \\ tipo do arquivo\n",
    "path = 'arquivos'\n",
    "todos_arquivos = glob.glob(path+'\\*.csv')\n",
    "\n",
    "# Criar um dataframe em branco\n",
    "geral = pd.DataFrame()\n",
    "\n",
    "# Loop executando nossa função e adicionando ao dataframe em branco \n",
    "for local in todos_arquivos:\n",
    "    \n",
    "    print(local)\n",
    "    \n",
    "    df = dados_retornos(local, 'M')\n",
    "    geral = pd.concat([geral, df], axis=1)\n",
    "\n",
    "geral"
   ]
  },
  {
   "cell_type": "markdown",
   "metadata": {},
   "source": [
    "Apagando as linhas onde há dados em branco"
   ]
  },
  {
   "cell_type": "code",
   "execution_count": null,
   "metadata": {},
   "outputs": [],
   "source": [
    "geral.dropna(inplace=True)\n",
    "geral"
   ]
  },
  {
   "cell_type": "markdown",
   "metadata": {},
   "source": [
    "Separando listas de colunas do tipo retorno e fechamento"
   ]
  },
  {
   "cell_type": "code",
   "execution_count": null,
   "metadata": {},
   "outputs": [],
   "source": [
    "colunas_retorno = [coluna for coluna in geral.columns if 'retorno' in coluna]\n",
    "colunas_fechamento = [coluna for coluna in geral.columns if 'retorno' not in coluna]\n",
    "colunas_retorno"
   ]
  },
  {
   "cell_type": "code",
   "execution_count": null,
   "metadata": {},
   "outputs": [],
   "source": [
    "geral[colunas_fechamento].drop(columns=['IBOV']).plot()"
   ]
  },
  {
   "cell_type": "code",
   "execution_count": null,
   "metadata": {},
   "outputs": [],
   "source": [
    "geral[colunas_retorno].describe()"
   ]
  },
  {
   "cell_type": "code",
   "execution_count": null,
   "metadata": {},
   "outputs": [],
   "source": []
  }
 ],
 "metadata": {
  "kernelspec": {
   "display_name": "Python 3",
   "language": "python",
   "name": "python3"
  },
  "language_info": {
   "codemirror_mode": {
    "name": "ipython",
    "version": 3
   },
   "file_extension": ".py",
   "mimetype": "text/x-python",
   "name": "python",
   "nbconvert_exporter": "python",
   "pygments_lexer": "ipython3",
   "version": "3.8.4"
  }
 },
 "nbformat": 4,
 "nbformat_minor": 4
}
