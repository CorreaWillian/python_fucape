{
 "cells": [
  {
   "cell_type": "markdown",
   "metadata": {},
   "source": [
    "# USANDO API DA BLOOMBERG"
   ]
  },
  {
   "cell_type": "markdown",
   "metadata": {},
   "source": [
    "api: https://rapidapi.com/pt/apidojo/api/bloomberg-market-and-financial-news"
   ]
  },
  {
   "cell_type": "markdown",
   "metadata": {},
   "source": [
    "bloomberg: https://www.bloomberg.com/quote/PETR4:BZ"
   ]
  },
  {
   "cell_type": "code",
   "execution_count": 7,
   "metadata": {},
   "outputs": [],
   "source": [
    "# Importanto request - Biblioteca padrão do python\n",
    "import requests"
   ]
  },
  {
   "cell_type": "markdown",
   "metadata": {},
   "source": [
    "APIs rest são chamadas por endpoints, que são enredeços."
   ]
  },
  {
   "cell_type": "code",
   "execution_count": 8,
   "metadata": {},
   "outputs": [],
   "source": [
    "# Endpoint de ações\n",
    "stocks = \"https://bloomberg-market-and-financial-news.p.rapidapi.com/stock/get-statistics\""
   ]
  },
  {
   "cell_type": "markdown",
   "metadata": {},
   "source": [
    "Na maioria das vezes login e senha são necessários. São registrados via \"headers\"."
   ]
  },
  {
   "cell_type": "code",
   "execution_count": 15,
   "metadata": {},
   "outputs": [],
   "source": [
    "headers = {\n",
    "    'x-rapidapi-key': \"62e009c1e8mshf7af6c7605e81e3p1df53djsncbc832e98471\",\n",
    "    'x-rapidapi-host': \"bloomberg-market-and-financial-news.p.rapidapi.com\"\n",
    "    }"
   ]
  },
  {
   "cell_type": "code",
   "execution_count": 50,
   "metadata": {},
   "outputs": [
    {
     "name": "stdout",
     "output_type": "stream",
     "text": [
      "<Response [200]>\n"
     ]
    }
   ],
   "source": [
    "response = requests.request(\"GET\", stocks, headers=headers, params={'id':'PETR4:BZ'})\n",
    "print(response)"
   ]
  },
  {
   "cell_type": "markdown",
   "metadata": {},
   "source": [
    "**Lista de respostas mais comuns:**\n",
    "    - 200 OK\n",
    "    - 400 Bad Request\n",
    "    - 403 Forbidden\n",
    "    - 401 Unauthorized\n",
    "    - 404 Not Found\n",
    "    - 500 Internal Server Error"
   ]
  },
  {
   "cell_type": "code",
   "execution_count": 51,
   "metadata": {},
   "outputs": [
    {
     "name": "stdout",
     "output_type": "stream",
     "text": [
      "{\"result\":[{\"name\":\"Key Statistics\",\"table\":[{\"name\":\"Current P/E Ratio (ttm)\",\"value\":\"6.09\"},{\"name\":\"Estimated P/E\",\"value\":\"6.54\",\"comment\":\"(2021-12)\"},{\"name\":\"Relative P/E\",\"value\":\"0.40\",\"comment\":\"vs IBOV:IND\"},{\"name\":\"Earnings Per Share (ttm)\",\"value\":\"4.35\"},{\"name\":\"Est. EPS\",\"value\":\"4.04\",\"comment\":\"(2021-12)\"},{\"name\":\"Est. PEG Ratio\",\"value\":\"0.38\"},{\"name\":\"Market Cap (M)\",\"value\":\"340,358.22\"},{\"name\":\"Shares Outstanding (M)\",\"value\":\"5,602.04\"},{\"name\":\"Price/Book (mrq)\",\"value\":\"1.10\"},{\"name\":\"Price/Sales (ttm)\",\"value\":\"1.22\"},{\"name\":\"Dividend Indicated Gross Yield\",\"value\":\"2.97%\"},{\"name\":\"Next Earnings Announcement\",\"value\":\"2021-07-29\"},{\"name\":\"Last Dividend Reported\",\"value\":\"0.79\",\"comment\":\"(2021-04-15)\"},{\"name\":\"Average Volume (30-day)\",\"value\":\"71,663,340\"}]}]}\n"
     ]
    }
   ],
   "source": [
    "response = response.text\n",
    "print(response)"
   ]
  },
  {
   "cell_type": "markdown",
   "metadata": {},
   "source": [
    "Dict em formato de texto."
   ]
  },
  {
   "cell_type": "code",
   "execution_count": 52,
   "metadata": {},
   "outputs": [
    {
     "ename": "TypeError",
     "evalue": "string indices must be integers",
     "output_type": "error",
     "traceback": [
      "\u001b[1;31m---------------------------------------------------------------------------\u001b[0m",
      "\u001b[1;31mTypeError\u001b[0m                                 Traceback (most recent call last)",
      "\u001b[1;32m<ipython-input-52-2fb3ca5c9f98>\u001b[0m in \u001b[0;36m<module>\u001b[1;34m\u001b[0m\n\u001b[1;32m----> 1\u001b[1;33m \u001b[0mprint\u001b[0m\u001b[1;33m(\u001b[0m\u001b[0mresponse\u001b[0m\u001b[1;33m[\u001b[0m\u001b[1;34m'result'\u001b[0m\u001b[1;33m]\u001b[0m\u001b[1;33m)\u001b[0m\u001b[1;33m\u001b[0m\u001b[1;33m\u001b[0m\u001b[0m\n\u001b[0m",
      "\u001b[1;31mTypeError\u001b[0m: string indices must be integers"
     ]
    }
   ],
   "source": [
    "print(response['result'])"
   ]
  },
  {
   "cell_type": "code",
   "execution_count": null,
   "metadata": {},
   "outputs": [],
   "source": [
    "print(type(response))"
   ]
  },
  {
   "cell_type": "code",
   "execution_count": null,
   "metadata": {},
   "outputs": [],
   "source": [
    "# transformar em dict\n",
    "import json\n",
    "\n",
    "response = json.loads(response)"
   ]
  },
  {
   "cell_type": "code",
   "execution_count": null,
   "metadata": {},
   "outputs": [],
   "source": [
    "print(type(response))"
   ]
  },
  {
   "cell_type": "code",
   "execution_count": null,
   "metadata": {},
   "outputs": [],
   "source": [
    "print(response['result'])"
   ]
  },
  {
   "cell_type": "code",
   "execution_count": null,
   "metadata": {},
   "outputs": [],
   "source": [
    "print(response['result'][0]['table'])"
   ]
  },
  {
   "cell_type": "code",
   "execution_count": null,
   "metadata": {},
   "outputs": [],
   "source": [
    "for dicionario in response['result'][0]['table']:\n",
    "    print(dicionario.keys())"
   ]
  },
  {
   "cell_type": "markdown",
   "metadata": {},
   "source": [
    "É uma lista de dicionários com as mesmas keys"
   ]
  },
  {
   "cell_type": "code",
   "execution_count": null,
   "metadata": {},
   "outputs": [],
   "source": [
    "# importando a biblioteca pandas\n",
    "import pandas as pd\n",
    "\n",
    "df = pd.DataFrame(response['result'][0]['table'])\n",
    "print(df)"
   ]
  },
  {
   "cell_type": "code",
   "execution_count": 53,
   "metadata": {},
   "outputs": [
    {
     "name": "stdout",
     "output_type": "stream",
     "text": [
      "name\n",
      "Current P/E Ratio (ttm)                    NaN\n",
      "Estimated P/E                        (2021-12)\n",
      "Relative P/E                       vs IBOV:IND\n",
      "Earnings Per Share (ttm)                   NaN\n",
      "Est. EPS                             (2021-12)\n",
      "Est. PEG Ratio                             NaN\n",
      "Market Cap (M)                             NaN\n",
      "Shares Outstanding (M)                     NaN\n",
      "Price/Book (mrq)                           NaN\n",
      "Price/Sales (ttm)                          NaN\n",
      "Dividend Indicated Gross Yield             NaN\n",
      "Next Earnings Announcement                 NaN\n",
      "Last Dividend Reported            (2021-04-15)\n",
      "Average Volume (30-day)                    NaN\n",
      "Name: comment, dtype: object\n"
     ]
    }
   ],
   "source": [
    "print(df['comment'])"
   ]
  },
  {
   "cell_type": "code",
   "execution_count": 56,
   "metadata": {},
   "outputs": [
    {
     "ename": "KeyError",
     "evalue": "\"None of ['name'] are in the columns\"",
     "output_type": "error",
     "traceback": [
      "\u001b[1;31m---------------------------------------------------------------------------\u001b[0m",
      "\u001b[1;31mKeyError\u001b[0m                                  Traceback (most recent call last)",
      "\u001b[1;32m<ipython-input-56-e79be5a0fd73>\u001b[0m in \u001b[0;36m<module>\u001b[1;34m\u001b[0m\n\u001b[0;32m      1\u001b[0m \u001b[1;31m# tornar o \"name\" em index\u001b[0m\u001b[1;33m\u001b[0m\u001b[1;33m\u001b[0m\u001b[1;33m\u001b[0m\u001b[0m\n\u001b[1;32m----> 2\u001b[1;33m \u001b[0mdf\u001b[0m\u001b[1;33m.\u001b[0m\u001b[0mset_index\u001b[0m\u001b[1;33m(\u001b[0m\u001b[1;34m'name'\u001b[0m\u001b[1;33m,\u001b[0m \u001b[0minplace\u001b[0m\u001b[1;33m=\u001b[0m\u001b[1;32mTrue\u001b[0m\u001b[1;33m)\u001b[0m\u001b[1;33m\u001b[0m\u001b[1;33m\u001b[0m\u001b[0m\n\u001b[0m\u001b[0;32m      3\u001b[0m \u001b[0mprint\u001b[0m\u001b[1;33m(\u001b[0m\u001b[0mdf\u001b[0m\u001b[1;33m)\u001b[0m\u001b[1;33m\u001b[0m\u001b[1;33m\u001b[0m\u001b[0m\n",
      "\u001b[1;32mc:\\users\\willi\\appdata\\local\\programs\\python\\python38\\lib\\site-packages\\pandas\\core\\frame.py\u001b[0m in \u001b[0;36mset_index\u001b[1;34m(self, keys, drop, append, inplace, verify_integrity)\u001b[0m\n\u001b[0;32m   4301\u001b[0m \u001b[1;33m\u001b[0m\u001b[0m\n\u001b[0;32m   4302\u001b[0m         \u001b[1;32mif\u001b[0m \u001b[0mmissing\u001b[0m\u001b[1;33m:\u001b[0m\u001b[1;33m\u001b[0m\u001b[1;33m\u001b[0m\u001b[0m\n\u001b[1;32m-> 4303\u001b[1;33m             \u001b[1;32mraise\u001b[0m \u001b[0mKeyError\u001b[0m\u001b[1;33m(\u001b[0m\u001b[1;34mf\"None of {missing} are in the columns\"\u001b[0m\u001b[1;33m)\u001b[0m\u001b[1;33m\u001b[0m\u001b[1;33m\u001b[0m\u001b[0m\n\u001b[0m\u001b[0;32m   4304\u001b[0m \u001b[1;33m\u001b[0m\u001b[0m\n\u001b[0;32m   4305\u001b[0m         \u001b[1;32mif\u001b[0m \u001b[0minplace\u001b[0m\u001b[1;33m:\u001b[0m\u001b[1;33m\u001b[0m\u001b[1;33m\u001b[0m\u001b[0m\n",
      "\u001b[1;31mKeyError\u001b[0m: \"None of ['name'] are in the columns\""
     ]
    }
   ],
   "source": [
    "# tornar o \"name\" em index\n",
    "df.set_index('name', inplace=True)\n",
    "print(df)"
   ]
  },
  {
   "cell_type": "code",
   "execution_count": 55,
   "metadata": {},
   "outputs": [
    {
     "name": "stdout",
     "output_type": "stream",
     "text": [
      "6.54\n"
     ]
    }
   ],
   "source": [
    "# Iterações com o index usando .loc\n",
    "print(df.loc['Estimated P/E']['value'])"
   ]
  },
  {
   "cell_type": "code",
   "execution_count": 57,
   "metadata": {},
   "outputs": [
    {
     "name": "stdout",
     "output_type": "stream",
     "text": [
      "{\"result\":[{\"name\":\"Income Statement\",\"securityID\":\"PETR4:BZ\",\"timeBasedSheets\":[{\"name\":\"Quarterly\",\"columnHeadings\":[\"6/2020\",\"9/2020\",\"12/2020\",\"3/2021\"],\"chartData\":[{\"name\":\"Revenue\",\"chartType\":\"bar\",\"isPercentage\":false,\"values\":[5.0898E10,7.073E10,7.4972E10,8.6174E10]},{\"name\":\"Net Income\",\"chartType\":\"bar\",\"isPercentage\":false,\"values\":[-2.713E9,-1.546E9,5.989E10,1.167E9]},{\"name\":\"Profit Margin\",\"chartType\":\"line\",\"isPercentage\":true,\"values\":[-5.3303,-2.1858,79.8832,1.3542]}]},{\"name\":\"Annual\",\"columnHeadings\":[\"2017\",\"2018\",\"2019\",\"2020\"],\"chartData\":[{\"name\":\"Revenue\",\"chartType\":\"bar\",\"isPercentage\":false,\"values\":[2.83695E11,3.10255E11,3.02245E11,2.72069E11]},{\"name\":\"Net Income\",\"chartType\":\"bar\",\"isPercentage\":false,\"values\":[-4.46E8,2.5779E10,4.0137E10,7.108E9]},{\"name\":\"Profit Margin\",\"chartType\":\"line\",\"isPercentage\":true,\"values\":[-0.1572,8.309,13.2796,2.6126]}]}]},{\"name\":\"Balance Sheet\",\"securityID\":\"PETR4:BZ\",\"timeBasedSheets\":[{\"name\":\"Quarterly\",\"columnHeadings\":[\"6/2020\",\"9/2020\",\"12/2020\",\"3/2021\"],\"chartData\":[{\"name\":\"Total Assets\",\"chartType\":\"bar\",\"isPercentage\":false,\"values\":[1.015142E12,9.6543E11,9.87419E11,9.98283E11]},{\"name\":\"Total Liabilities\",\"chartType\":\"bar\",\"isPercentage\":false,\"values\":[7.69421E11,7.15069E11,6.76269E11,6.78038E11]},{\"name\":\"Debt to Assets\",\"chartType\":\"line\",\"isPercentage\":true,\"values\":[49.2104,46.5004,39.755,40.5011]}]},{\"name\":\"Annual\",\"columnHeadings\":[\"2017\",\"2018\",\"2019\",\"2020\"],\"chartData\":[{\"name\":\"Total Assets\",\"chartType\":\"bar\",\"isPercentage\":false,\"values\":[8.31515E11,8.60473E11,9.26011E11,9.87419E11]},{\"name\":\"Total Liabilities\",\"chartType\":\"bar\",\"isPercentage\":false,\"values\":[5.61906E11,5.7693E11,6.26874E11,6.76269E11]},{\"name\":\"Debt to Assets\",\"chartType\":\"line\",\"isPercentage\":true,\"values\":[43.4728,37.9879,37.9219,39.755]}]}]},{\"name\":\"Cash Flow\",\"securityID\":\"PETR4:BZ\",\"timeBasedSheets\":[{\"name\":\"Quarterly\",\"columnHeadings\":[\"6/2020\",\"9/2020\",\"12/2020\",\"3/2021\"],\"chartData\":[{\"name\":\"Operating\",\"chartType\":\"line\",\"isPercentage\":false,\"values\":[2.9629E10,4.6628E10,3.7922E10,4.0436E10]},{\"name\":\"Investing\",\"chartType\":\"line\",\"isPercentage\":false,\"values\":[-1.2224E10,-3.576E9,-2.055E9,-7.793E9]},{\"name\":\"Financing\",\"chartType\":\"line\",\"isPercentage\":false,\"values\":[8.803E9,-7.801E10,-4.6598E10,-2.5414E10]}]},{\"name\":\"Annual\",\"columnHeadings\":[\"2017\",\"2018\",\"2019\",\"2020\"],\"chartData\":[{\"name\":\"Operating\",\"chartType\":\"line\",\"isPercentage\":false,\"values\":[8.7917E10,9.948E10,1.07498E11,1.4937E11]},{\"name\":\"Investing\",\"chartType\":\"line\",\"isPercentage\":false,\"values\":[-3.6668E10,-2.1422E10,-1.3684E10,-2.4719E10]},{\"name\":\"Financing\",\"chartType\":\"line\",\"isPercentage\":false,\"values\":[-4.5863E10,-9.8698E10,-1.17939E11,-9.345E10]}]}]}]}\n"
     ]
    }
   ],
   "source": [
    "# Testando outro endpoint\n",
    "financials = \"https://bloomberg-market-and-financial-news.p.rapidapi.com/stock/get-financials\"\n",
    "resposta = requests.request(\"GET\", financials, headers=headers, params={'id':'PETR4:BZ'}).text\n",
    "print(resposta)"
   ]
  },
  {
   "cell_type": "code",
   "execution_count": 58,
   "metadata": {},
   "outputs": [
    {
     "name": "stdout",
     "output_type": "stream",
     "text": [
      "<class 'dict'>\n"
     ]
    }
   ],
   "source": [
    "resposta = json.loads(resposta)\n",
    "print(type(resposta))"
   ]
  },
  {
   "cell_type": "code",
   "execution_count": 59,
   "metadata": {},
   "outputs": [
    {
     "name": "stdout",
     "output_type": "stream",
     "text": [
      "[{'name': 'Income Statement', 'securityID': 'PETR4:BZ', 'timeBasedSheets': [{'name': 'Quarterly', 'columnHeadings': ['6/2020', '9/2020', '12/2020', '3/2021'], 'chartData': [{'name': 'Revenue', 'chartType': 'bar', 'isPercentage': False, 'values': [50898000000.0, 70730000000.0, 74972000000.0, 86174000000.0]}, {'name': 'Net Income', 'chartType': 'bar', 'isPercentage': False, 'values': [-2713000000.0, -1546000000.0, 59890000000.0, 1167000000.0]}, {'name': 'Profit Margin', 'chartType': 'line', 'isPercentage': True, 'values': [-5.3303, -2.1858, 79.8832, 1.3542]}]}, {'name': 'Annual', 'columnHeadings': ['2017', '2018', '2019', '2020'], 'chartData': [{'name': 'Revenue', 'chartType': 'bar', 'isPercentage': False, 'values': [283695000000.0, 310255000000.0, 302245000000.0, 272069000000.0]}, {'name': 'Net Income', 'chartType': 'bar', 'isPercentage': False, 'values': [-446000000.0, 25779000000.0, 40137000000.0, 7108000000.0]}, {'name': 'Profit Margin', 'chartType': 'line', 'isPercentage': True, 'values': [-0.1572, 8.309, 13.2796, 2.6126]}]}]}, {'name': 'Balance Sheet', 'securityID': 'PETR4:BZ', 'timeBasedSheets': [{'name': 'Quarterly', 'columnHeadings': ['6/2020', '9/2020', '12/2020', '3/2021'], 'chartData': [{'name': 'Total Assets', 'chartType': 'bar', 'isPercentage': False, 'values': [1015142000000.0, 965430000000.0, 987419000000.0, 998283000000.0]}, {'name': 'Total Liabilities', 'chartType': 'bar', 'isPercentage': False, 'values': [769421000000.0, 715069000000.0, 676269000000.0, 678038000000.0]}, {'name': 'Debt to Assets', 'chartType': 'line', 'isPercentage': True, 'values': [49.2104, 46.5004, 39.755, 40.5011]}]}, {'name': 'Annual', 'columnHeadings': ['2017', '2018', '2019', '2020'], 'chartData': [{'name': 'Total Assets', 'chartType': 'bar', 'isPercentage': False, 'values': [831515000000.0, 860473000000.0, 926011000000.0, 987419000000.0]}, {'name': 'Total Liabilities', 'chartType': 'bar', 'isPercentage': False, 'values': [561906000000.0, 576930000000.0, 626874000000.0, 676269000000.0]}, {'name': 'Debt to Assets', 'chartType': 'line', 'isPercentage': True, 'values': [43.4728, 37.9879, 37.9219, 39.755]}]}]}, {'name': 'Cash Flow', 'securityID': 'PETR4:BZ', 'timeBasedSheets': [{'name': 'Quarterly', 'columnHeadings': ['6/2020', '9/2020', '12/2020', '3/2021'], 'chartData': [{'name': 'Operating', 'chartType': 'line', 'isPercentage': False, 'values': [29629000000.0, 46628000000.0, 37922000000.0, 40436000000.0]}, {'name': 'Investing', 'chartType': 'line', 'isPercentage': False, 'values': [-12224000000.0, -3576000000.0, -2055000000.0, -7793000000.0]}, {'name': 'Financing', 'chartType': 'line', 'isPercentage': False, 'values': [8803000000.0, -78010000000.0, -46598000000.0, -25414000000.0]}]}, {'name': 'Annual', 'columnHeadings': ['2017', '2018', '2019', '2020'], 'chartData': [{'name': 'Operating', 'chartType': 'line', 'isPercentage': False, 'values': [87917000000.0, 99480000000.0, 107498000000.0, 149370000000.0]}, {'name': 'Investing', 'chartType': 'line', 'isPercentage': False, 'values': [-36668000000.0, -21422000000.0, -13684000000.0, -24719000000.0]}, {'name': 'Financing', 'chartType': 'line', 'isPercentage': False, 'values': [-45863000000.0, -98698000000.0, -117939000000.0, -93450000000.0]}]}]}]\n"
     ]
    }
   ],
   "source": [
    "print(resposta['result'])"
   ]
  },
  {
   "cell_type": "code",
   "execution_count": 72,
   "metadata": {},
   "outputs": [
    {
     "name": "stdout",
     "output_type": "stream",
     "text": [
      "2\n"
     ]
    }
   ],
   "source": [
    "print(len(resposta['result'][0]['timeBasedSheets']))"
   ]
  },
  {
   "cell_type": "code",
   "execution_count": 70,
   "metadata": {},
   "outputs": [
    {
     "name": "stdout",
     "output_type": "stream",
     "text": [
      "{'name': 'Annual', 'columnHeadings': ['2017', '2018', '2019', '2020'], 'chartData': [{'name': 'Revenue', 'chartType': 'bar', 'isPercentage': False, 'values': [283695000000.0, 310255000000.0, 302245000000.0, 272069000000.0]}, {'name': 'Net Income', 'chartType': 'bar', 'isPercentage': False, 'values': [-446000000.0, 25779000000.0, 40137000000.0, 7108000000.0]}, {'name': 'Profit Margin', 'chartType': 'line', 'isPercentage': True, 'values': [-0.1572, 8.309, 13.2796, 2.6126]}]}\n"
     ]
    }
   ],
   "source": [
    "print(resposta['result'][0]['timeBasedSheets'][1])"
   ]
  },
  {
   "cell_type": "code",
   "execution_count": 63,
   "metadata": {},
   "outputs": [
    {
     "data": {
      "text/html": [
       "<div>\n",
       "<style scoped>\n",
       "    .dataframe tbody tr th:only-of-type {\n",
       "        vertical-align: middle;\n",
       "    }\n",
       "\n",
       "    .dataframe tbody tr th {\n",
       "        vertical-align: top;\n",
       "    }\n",
       "\n",
       "    .dataframe thead th {\n",
       "        text-align: right;\n",
       "    }\n",
       "</style>\n",
       "<table border=\"1\" class=\"dataframe\">\n",
       "  <thead>\n",
       "    <tr style=\"text-align: right;\">\n",
       "      <th></th>\n",
       "      <th>name</th>\n",
       "      <th>columnHeadings</th>\n",
       "      <th>chartData</th>\n",
       "    </tr>\n",
       "  </thead>\n",
       "  <tbody>\n",
       "    <tr>\n",
       "      <th>0</th>\n",
       "      <td>Quarterly</td>\n",
       "      <td>[6/2020, 9/2020, 12/2020, 3/2021]</td>\n",
       "      <td>[{'name': 'Revenue', 'chartType': 'bar', 'isPe...</td>\n",
       "    </tr>\n",
       "    <tr>\n",
       "      <th>1</th>\n",
       "      <td>Annual</td>\n",
       "      <td>[2017, 2018, 2019, 2020]</td>\n",
       "      <td>[{'name': 'Revenue', 'chartType': 'bar', 'isPe...</td>\n",
       "    </tr>\n",
       "  </tbody>\n",
       "</table>\n",
       "</div>"
      ],
      "text/plain": [
       "        name                     columnHeadings  \\\n",
       "0  Quarterly  [6/2020, 9/2020, 12/2020, 3/2021]   \n",
       "1     Annual           [2017, 2018, 2019, 2020]   \n",
       "\n",
       "                                           chartData  \n",
       "0  [{'name': 'Revenue', 'chartType': 'bar', 'isPe...  \n",
       "1  [{'name': 'Revenue', 'chartType': 'bar', 'isPe...  "
      ]
     },
     "execution_count": 63,
     "metadata": {},
     "output_type": "execute_result"
    }
   ],
   "source": [
    "df_financials = pd.DataFrame(resposta['result'][0]['timeBasedSheets'])\n",
    "df_financials"
   ]
  },
  {
   "cell_type": "code",
   "execution_count": 66,
   "metadata": {},
   "outputs": [
    {
     "name": "stdout",
     "output_type": "stream",
     "text": [
      "{'Revenue': [50898000000.0, 70730000000.0, 74972000000.0, 86174000000.0], 'Net Income': [-2713000000.0, -1546000000.0, 59890000000.0, 1167000000.0], 'Profit Margin': [-5.3303, -2.1858, 79.8832, 1.3542]}\n"
     ]
    }
   ],
   "source": [
    "resposta_quarterly = resposta['result'][0]['timeBasedSheets'][0]\n",
    "\n",
    "dados_quarterly = {item['name']: item['values'] for item in resposta_quarterly['chartData']} #dict comprehension\n",
    "print(dados_quarterly)"
   ]
  },
  {
   "cell_type": "code",
   "execution_count": 65,
   "metadata": {},
   "outputs": [
    {
     "name": "stdout",
     "output_type": "stream",
     "text": [
      "{'Revenue': [50898000000.0, 70730000000.0, 74972000000.0, 86174000000.0], 'Net Income': [-2713000000.0, -1546000000.0, 59890000000.0, 1167000000.0], 'Profit Margin': [-5.3303, -2.1858, 79.8832, 1.3542]}\n"
     ]
    }
   ],
   "source": [
    "dados_teste = {}\n",
    "for item in resposta_quarterly['chartData']:\n",
    "    dados_teste[item['name']] = item['values']\n",
    "print(dados_teste)"
   ]
  },
  {
   "cell_type": "code",
   "execution_count": 68,
   "metadata": {},
   "outputs": [
    {
     "name": "stdout",
     "output_type": "stream",
     "text": [
      "        Revenue    Net Income  Profit Margin\n",
      "0  5.089800e+10 -2.713000e+09        -5.3303\n",
      "1  7.073000e+10 -1.546000e+09        -2.1858\n",
      "2  7.497200e+10  5.989000e+10        79.8832\n",
      "3  8.617400e+10  1.167000e+09         1.3542\n"
     ]
    }
   ],
   "source": [
    "df_financials = pd.DataFrame(dados_quarterly)\n",
    "print(df_financials)"
   ]
  },
  {
   "cell_type": "code",
   "execution_count": 69,
   "metadata": {},
   "outputs": [
    {
     "data": {
      "text/html": [
       "<div>\n",
       "<style scoped>\n",
       "    .dataframe tbody tr th:only-of-type {\n",
       "        vertical-align: middle;\n",
       "    }\n",
       "\n",
       "    .dataframe tbody tr th {\n",
       "        vertical-align: top;\n",
       "    }\n",
       "\n",
       "    .dataframe thead th {\n",
       "        text-align: right;\n",
       "    }\n",
       "</style>\n",
       "<table border=\"1\" class=\"dataframe\">\n",
       "  <thead>\n",
       "    <tr style=\"text-align: right;\">\n",
       "      <th></th>\n",
       "      <th>Revenue</th>\n",
       "      <th>Net Income</th>\n",
       "      <th>Profit Margin</th>\n",
       "      <th>data</th>\n",
       "    </tr>\n",
       "  </thead>\n",
       "  <tbody>\n",
       "    <tr>\n",
       "      <th>0</th>\n",
       "      <td>5.089800e+10</td>\n",
       "      <td>-2.713000e+09</td>\n",
       "      <td>-5.3303</td>\n",
       "      <td>6/2020</td>\n",
       "    </tr>\n",
       "    <tr>\n",
       "      <th>1</th>\n",
       "      <td>7.073000e+10</td>\n",
       "      <td>-1.546000e+09</td>\n",
       "      <td>-2.1858</td>\n",
       "      <td>9/2020</td>\n",
       "    </tr>\n",
       "    <tr>\n",
       "      <th>2</th>\n",
       "      <td>7.497200e+10</td>\n",
       "      <td>5.989000e+10</td>\n",
       "      <td>79.8832</td>\n",
       "      <td>12/2020</td>\n",
       "    </tr>\n",
       "    <tr>\n",
       "      <th>3</th>\n",
       "      <td>8.617400e+10</td>\n",
       "      <td>1.167000e+09</td>\n",
       "      <td>1.3542</td>\n",
       "      <td>3/2021</td>\n",
       "    </tr>\n",
       "  </tbody>\n",
       "</table>\n",
       "</div>"
      ],
      "text/plain": [
       "        Revenue    Net Income  Profit Margin     data\n",
       "0  5.089800e+10 -2.713000e+09        -5.3303   6/2020\n",
       "1  7.073000e+10 -1.546000e+09        -2.1858   9/2020\n",
       "2  7.497200e+10  5.989000e+10        79.8832  12/2020\n",
       "3  8.617400e+10  1.167000e+09         1.3542   3/2021"
      ]
     },
     "execution_count": 69,
     "metadata": {},
     "output_type": "execute_result"
    }
   ],
   "source": [
    "df_financials['data'] = resposta_quarterly['columnHeadings']\n",
    "df_financials"
   ]
  },
  {
   "cell_type": "code",
   "execution_count": 71,
   "metadata": {},
   "outputs": [
    {
     "name": "stdout",
     "output_type": "stream",
     "text": [
      "        Revenue    Net Income  Profit Margin  data\n",
      "0  2.836950e+11 -4.460000e+08        -0.1572  2017\n",
      "1  3.102550e+11  2.577900e+10         8.3090  2018\n",
      "2  3.022450e+11  4.013700e+10        13.2796  2019\n",
      "3  2.720690e+11  7.108000e+09         2.6126  2020\n"
     ]
    }
   ],
   "source": [
    "# mesmo processo para segundo item da lista\n",
    "\n",
    "resposta_anual = resposta['result'][0]['timeBasedSheets'][1]\n",
    "\n",
    "dados_anual = {item['name']: item['values'] for item in resposta_anual['chartData']}\n",
    "df_anual = pd.DataFrame(dados_anual)\n",
    "df_anual['data'] = resposta_anual['columnHeadings']\n",
    "\n",
    "print(df_anual)\n"
   ]
  },
  {
   "cell_type": "code",
   "execution_count": 74,
   "metadata": {},
   "outputs": [
    {
     "name": "stdout",
     "output_type": "stream",
     "text": [
      "Quarterly\n",
      "        Revenue    Net Income  Profit Margin     data\n",
      "0  5.089800e+10 -2.713000e+09        -5.3303   6/2020\n",
      "1  7.073000e+10 -1.546000e+09        -2.1858   9/2020\n",
      "2  7.497200e+10  5.989000e+10        79.8832  12/2020\n",
      "3  8.617400e+10  1.167000e+09         1.3542   3/2021\n",
      "--------------------------\n",
      "Annual\n",
      "        Revenue    Net Income  Profit Margin  data\n",
      "0  2.836950e+11 -4.460000e+08        -0.1572  2017\n",
      "1  3.102550e+11  2.577900e+10         8.3090  2018\n",
      "2  3.022450e+11  4.013700e+10        13.2796  2019\n",
      "3  2.720690e+11  7.108000e+09         2.6126  2020\n",
      "--------------------------\n"
     ]
    }
   ],
   "source": [
    "# loop genérico para todos itens da lista\n",
    "\n",
    "respostas = resposta['result'][0]['timeBasedSheets']\n",
    "\n",
    "for periodo in respostas:\n",
    "    print(periodo['name'])\n",
    "    dados_periodo = {item['name']: item['values'] for item in periodo['chartData']}\n",
    "    df_periodo = pd.DataFrame(dados_periodo)\n",
    "    df_periodo['data'] = periodo['columnHeadings']\n",
    "\n",
    "    print(df_periodo)\n",
    "    print('--------------------------')\n"
   ]
  },
  {
   "cell_type": "code",
   "execution_count": 78,
   "metadata": {},
   "outputs": [
    {
     "name": "stdout",
     "output_type": "stream",
     "text": [
      "3\n"
     ]
    }
   ],
   "source": [
    "print(len(resposta['result']))"
   ]
  },
  {
   "cell_type": "code",
   "execution_count": 86,
   "metadata": {},
   "outputs": [
    {
     "name": "stdout",
     "output_type": "stream",
     "text": [
      "Papel pesquisado: petr4\n",
      "Income Statement\n",
      "=================\n",
      "Quarterly\n",
      "              Revenue    Net Income  Profit Margin\n",
      "data                                              \n",
      "6/2020   5.089800e+10 -2.713000e+09        -5.3303\n",
      "9/2020   7.073000e+10 -1.546000e+09        -2.1858\n",
      "12/2020  7.497200e+10  5.989000e+10        79.8832\n",
      "3/2021   8.617400e+10  1.167000e+09         1.3542\n",
      "----------------------------------------------------\n",
      "Annual\n",
      "           Revenue    Net Income  Profit Margin\n",
      "data                                           \n",
      "2017  2.836950e+11 -4.460000e+08        -0.1572\n",
      "2018  3.102550e+11  2.577900e+10         8.3090\n",
      "2019  3.022450e+11  4.013700e+10        13.2796\n",
      "2020  2.720690e+11  7.108000e+09         2.6126\n",
      "----------------------------------------------------\n",
      "\n",
      "\n",
      "Balance Sheet\n",
      "=================\n",
      "Quarterly\n",
      "         Total Assets  Total Liabilities  Debt to Assets\n",
      "data                                                    \n",
      "6/2020   1.015142e+12       7.694210e+11         49.2104\n",
      "9/2020   9.654300e+11       7.150690e+11         46.5004\n",
      "12/2020  9.874190e+11       6.762690e+11         39.7550\n",
      "3/2021   9.982830e+11       6.780380e+11         40.5011\n",
      "----------------------------------------------------\n",
      "Annual\n",
      "      Total Assets  Total Liabilities  Debt to Assets\n",
      "data                                                 \n",
      "2017  8.315150e+11       5.619060e+11         43.4728\n",
      "2018  8.604730e+11       5.769300e+11         37.9879\n",
      "2019  9.260110e+11       6.268740e+11         37.9219\n",
      "2020  9.874190e+11       6.762690e+11         39.7550\n",
      "----------------------------------------------------\n",
      "\n",
      "\n",
      "Cash Flow\n",
      "=================\n",
      "Quarterly\n",
      "            Operating     Investing     Financing\n",
      "data                                             \n",
      "6/2020   2.962900e+10 -1.222400e+10  8.803000e+09\n",
      "9/2020   4.662800e+10 -3.576000e+09 -7.801000e+10\n",
      "12/2020  3.792200e+10 -2.055000e+09 -4.659800e+10\n",
      "3/2021   4.043600e+10 -7.793000e+09 -2.541400e+10\n",
      "----------------------------------------------------\n",
      "Annual\n",
      "         Operating     Investing     Financing\n",
      "data                                          \n",
      "2017  8.791700e+10 -3.666800e+10 -4.586300e+10\n",
      "2018  9.948000e+10 -2.142200e+10 -9.869800e+10\n",
      "2019  1.074980e+11 -1.368400e+10 -1.179390e+11\n",
      "2020  1.493700e+11 -2.471900e+10 -9.345000e+10\n",
      "----------------------------------------------------\n",
      "\n",
      "\n"
     ]
    }
   ],
   "source": [
    "financials = \"https://bb-finance.p.rapidapi.com/stock/get-financials\"\n",
    "\n",
    "headers = {\n",
    "    'x-rapidapi-key': \"62e009c1e8mshf7af6c7605e81e3p1df53djsncbc832e98471\",\n",
    "    'x-rapidapi-host': \"bb-finance.p.rapidapi.com\"\n",
    "    }\n",
    "\n",
    "papel = 'petr4'\n",
    "query = {'id':papel+':BZ'}\n",
    "\n",
    "resposta = requests.request(\"GET\", financials, headers=headers, params=query).text\n",
    "resposta = json.loads(resposta)\n",
    "\n",
    "# todos itens do dict\n",
    "todas_respostas = resposta['result']\n",
    "\n",
    "#loop pelos itens do dict inicial\n",
    "print(f'Papel pesquisado: {papel}')\n",
    "for cada_resposta in todas_respostas:\n",
    "    \n",
    "    print(cada_resposta['name'])\n",
    "    print('=================')\n",
    "    \n",
    "    #loop pelos itens do loop do 'timeBasedSheets'\n",
    "    for cada_periodo in cada_resposta['timeBasedSheets']:\n",
    "        \n",
    "        print(cada_periodo['name'])\n",
    "        \n",
    "        dados_cada_periodo = {item['name']: item['values'] for item in cada_periodo['chartData']}\n",
    "        df_cada_periodo = pd.DataFrame(dados_cada_periodo)\n",
    "        df_cada_periodo['data'] = cada_periodo['columnHeadings']\n",
    "        df_cada_periodo.set_index('data', inplace=True)\n",
    "\n",
    "        print(df_cada_periodo)\n",
    "        print('----------------------------------------------------')\n",
    "        \n",
    "    print('\\n')"
   ]
  },
  {
   "cell_type": "code",
   "execution_count": null,
   "metadata": {},
   "outputs": [],
   "source": []
  }
 ],
 "metadata": {
  "kernelspec": {
   "display_name": "Python 3",
   "language": "python",
   "name": "python3"
  },
  "language_info": {
   "codemirror_mode": {
    "name": "ipython",
    "version": 3
   },
   "file_extension": ".py",
   "mimetype": "text/x-python",
   "name": "python",
   "nbconvert_exporter": "python",
   "pygments_lexer": "ipython3",
   "version": "3.8.4"
  }
 },
 "nbformat": 4,
 "nbformat_minor": 4
}
