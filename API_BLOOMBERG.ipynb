{
 "cells": [
  {
   "cell_type": "markdown",
   "metadata": {},
   "source": [
    "# USANDO API DA BLOOMBERG"
   ]
  },
  {
   "cell_type": "markdown",
   "metadata": {},
   "source": [
    "api: https://rapidapi.com/apidojo/api/bb-finance"
   ]
  },
  {
   "cell_type": "markdown",
   "metadata": {},
   "source": [
    "bloomberg: https://www.bloomberg.com/quote/PETR4:BZ"
   ]
  },
  {
   "cell_type": "code",
   "execution_count": null,
   "metadata": {},
   "outputs": [],
   "source": [
    "# Importanto request - Biblioteca padrão do python\n",
    "import requests"
   ]
  },
  {
   "cell_type": "markdown",
   "metadata": {},
   "source": [
    "APIs rest são chamadas por endpoints, que são enredeços."
   ]
  },
  {
   "cell_type": "code",
   "execution_count": null,
   "metadata": {},
   "outputs": [],
   "source": [
    "# Endpoint de ações\n",
    "stocks = \"https://bb-finance.p.rapidapi.com/stock/get-statistics\""
   ]
  },
  {
   "cell_type": "markdown",
   "metadata": {},
   "source": [
    "Na maioria das vezes login e senha são necessários. São registrados via \"headers\"."
   ]
  },
  {
   "cell_type": "code",
   "execution_count": null,
   "metadata": {},
   "outputs": [],
   "source": [
    "headers = {\n",
    "    'x-rapidapi-key': \"SEU-LOGIN\",\n",
    "    'x-rapidapi-host': \"bb-finance.p.rapidapi.com\"\n",
    "    }"
   ]
  },
  {
   "cell_type": "code",
   "execution_count": null,
   "metadata": {},
   "outputs": [],
   "source": [
    "response = requests.request(\"GET\", stocks, headers=headers, params={'id':'PETR4:BZ'})\n",
    "print(response)"
   ]
  },
  {
   "cell_type": "markdown",
   "metadata": {},
   "source": [
    "**Lista de respostas mais comuns:**\n",
    "    - 200 OK\n",
    "    - 400 Bad Request\n",
    "    - 403 Forbidden\n",
    "    - 401 Unauthorized\n",
    "    - 404 Not Found\n",
    "    - 500 Internal Server Error"
   ]
  },
  {
   "cell_type": "code",
   "execution_count": null,
   "metadata": {},
   "outputs": [],
   "source": [
    "response = response.text\n",
    "print(response)"
   ]
  },
  {
   "cell_type": "markdown",
   "metadata": {},
   "source": [
    "Dict em formato de texto."
   ]
  },
  {
   "cell_type": "code",
   "execution_count": null,
   "metadata": {},
   "outputs": [],
   "source": [
    "print(response['result'])"
   ]
  },
  {
   "cell_type": "code",
   "execution_count": null,
   "metadata": {},
   "outputs": [],
   "source": [
    "print(type(response))"
   ]
  },
  {
   "cell_type": "code",
   "execution_count": null,
   "metadata": {},
   "outputs": [],
   "source": [
    "# transformar em dict\n",
    "import json\n",
    "\n",
    "response = json.loads(response)"
   ]
  },
  {
   "cell_type": "code",
   "execution_count": null,
   "metadata": {},
   "outputs": [],
   "source": [
    "print(type(response))"
   ]
  },
  {
   "cell_type": "code",
   "execution_count": null,
   "metadata": {},
   "outputs": [],
   "source": [
    "print(response['result'])"
   ]
  },
  {
   "cell_type": "code",
   "execution_count": null,
   "metadata": {},
   "outputs": [],
   "source": [
    "print(response['result'][0]['table'])"
   ]
  },
  {
   "cell_type": "code",
   "execution_count": null,
   "metadata": {},
   "outputs": [],
   "source": [
    "for dicionario in response['result'][0]['table']:\n",
    "    print(dicionario.keys())"
   ]
  },
  {
   "cell_type": "markdown",
   "metadata": {},
   "source": [
    "É uma lista de dicionários com as mesmas keys"
   ]
  },
  {
   "cell_type": "code",
   "execution_count": null,
   "metadata": {},
   "outputs": [],
   "source": [
    "# importando a biblioteca pandas\n",
    "import pandas as pd\n",
    "\n",
    "df = pd.DataFrame(response['result'][0]['table'])\n",
    "print(df)"
   ]
  },
  {
   "cell_type": "code",
   "execution_count": null,
   "metadata": {},
   "outputs": [],
   "source": [
    "print(df['comment'])"
   ]
  },
  {
   "cell_type": "code",
   "execution_count": null,
   "metadata": {},
   "outputs": [],
   "source": [
    "# tornar o \"name\" em index\n",
    "df.set_index('name', inplace=True)\n",
    "print(df)"
   ]
  },
  {
   "cell_type": "code",
   "execution_count": null,
   "metadata": {},
   "outputs": [],
   "source": [
    "# Iterações com o index usando .loc\n",
    "print(df.loc['Estimated P/E']['value'])"
   ]
  },
  {
   "cell_type": "code",
   "execution_count": null,
   "metadata": {},
   "outputs": [],
   "source": [
    "# Testando outro endpoint\n",
    "financials = \"https://bloomberg-market-and-financial-news.p.rapidapi.com/stock/get-financials\"\n",
    "resposta = requests.request(\"GET\", financials, headers=headers, params={'id':'PETR4:BZ'}).text\n",
    "print(resposta)"
   ]
  },
  {
   "cell_type": "code",
   "execution_count": null,
   "metadata": {},
   "outputs": [],
   "source": [
    "resposta = json.loads(resposta)\n",
    "print(type(resposta))"
   ]
  },
  {
   "cell_type": "code",
   "execution_count": null,
   "metadata": {},
   "outputs": [],
   "source": [
    "print(resposta['result'])"
   ]
  },
  {
   "cell_type": "code",
   "execution_count": null,
   "metadata": {},
   "outputs": [],
   "source": [
    "print(len(resposta['result'][0]['timeBasedSheets']))"
   ]
  },
  {
   "cell_type": "code",
   "execution_count": null,
   "metadata": {},
   "outputs": [],
   "source": [
    "print(resposta['result'][0]['timeBasedSheets'][1])"
   ]
  },
  {
   "cell_type": "code",
   "execution_count": null,
   "metadata": {},
   "outputs": [],
   "source": [
    "df_financials = pd.DataFrame(resposta['result'][0]['timeBasedSheets'])\n",
    "df_financials"
   ]
  },
  {
   "cell_type": "code",
   "execution_count": null,
   "metadata": {},
   "outputs": [],
   "source": [
    "resposta_quarterly = resposta['result'][0]['timeBasedSheets'][0]\n",
    "\n",
    "dados_quarterly = {item['name']: item['values'] for item in resposta_quarterly['chartData']} #dict comprehension\n",
    "print(dados_quarterly)"
   ]
  },
  {
   "cell_type": "code",
   "execution_count": null,
   "metadata": {},
   "outputs": [],
   "source": [
    "dados_teste = {}\n",
    "for item in resposta_quarterly['chartData']:\n",
    "    dados_teste[item['name']] = item['values']\n",
    "print(dados_teste)"
   ]
  },
  {
   "cell_type": "code",
   "execution_count": null,
   "metadata": {},
   "outputs": [],
   "source": [
    "df_financials = pd.DataFrame(dados_quarterly)\n",
    "print(df_financials)"
   ]
  },
  {
   "cell_type": "code",
   "execution_count": null,
   "metadata": {},
   "outputs": [],
   "source": [
    "df_financials['data'] = resposta_quarterly['columnHeadings']\n",
    "df_financials"
   ]
  },
  {
   "cell_type": "code",
   "execution_count": null,
   "metadata": {},
   "outputs": [],
   "source": [
    "# mesmo processo para segundo item da lista\n",
    "\n",
    "resposta_anual = resposta['result'][0]['timeBasedSheets'][1]\n",
    "\n",
    "dados_anual = {item['name']: item['values'] for item in resposta_anual['chartData']}\n",
    "df_anual = pd.DataFrame(dados_anual)\n",
    "df_anual['data'] = resposta_anual['columnHeadings']\n",
    "\n",
    "print(df_anual)\n"
   ]
  },
  {
   "cell_type": "code",
   "execution_count": null,
   "metadata": {},
   "outputs": [],
   "source": [
    "# loop genérico para todos itens da lista\n",
    "\n",
    "respostas = resposta['result'][0]['timeBasedSheets']\n",
    "\n",
    "for periodo in respostas:\n",
    "    print(periodo['name'])\n",
    "    dados_periodo = {item['name']: item['values'] for item in periodo['chartData']}\n",
    "    df_periodo = pd.DataFrame(dados_periodo)\n",
    "    df_periodo['data'] = periodo['columnHeadings']\n",
    "\n",
    "    print(df_periodo)\n",
    "    print('--------------------------')\n"
   ]
  },
  {
   "cell_type": "code",
   "execution_count": null,
   "metadata": {},
   "outputs": [],
   "source": [
    "print(len(resposta['result']))"
   ]
  },
  {
   "cell_type": "code",
   "execution_count": null,
   "metadata": {},
   "outputs": [],
   "source": [
    "financials = \"https://bb-finance.p.rapidapi.com/stock/get-financials\"\n",
    "\n",
    "headers = {\n",
    "    'x-rapidapi-key': \"62e009c1e8mshf7af6c7605e81e3p1df53djsncbc832e98471\",\n",
    "    'x-rapidapi-host': \"bb-finance.p.rapidapi.com\"\n",
    "    }\n",
    "\n",
    "papel = 'petr4'\n",
    "query = {'id':papel+':BZ'}\n",
    "\n",
    "resposta = requests.request(\"GET\", financials, headers=headers, params=query).text\n",
    "resposta = json.loads(resposta)\n",
    "\n",
    "# todos itens do dict\n",
    "todas_respostas = resposta['result']\n",
    "\n",
    "#loop pelos itens do dict inicial\n",
    "print(f'Papel pesquisado: {papel}')\n",
    "for cada_resposta in todas_respostas:\n",
    "    \n",
    "    print(cada_resposta['name'])\n",
    "    print('=================')\n",
    "    \n",
    "    #loop pelos itens do loop do 'timeBasedSheets'\n",
    "    for cada_periodo in cada_resposta['timeBasedSheets']:\n",
    "        \n",
    "        print(cada_periodo['name'])\n",
    "        \n",
    "        dados_cada_periodo = {item['name']: item['values'] for item in cada_periodo['chartData']}\n",
    "        df_cada_periodo = pd.DataFrame(dados_cada_periodo)\n",
    "        df_cada_periodo['data'] = cada_periodo['columnHeadings']\n",
    "        df_cada_periodo.set_index('data', inplace=True)\n",
    "\n",
    "        print(df_cada_periodo)\n",
    "        print('----------------------------------------------------')\n",
    "        \n",
    "    print('\\n')"
   ]
  },
  {
   "cell_type": "code",
   "execution_count": null,
   "metadata": {},
   "outputs": [],
   "source": []
  }
 ],
 "metadata": {
  "kernelspec": {
   "display_name": "Python 3",
   "language": "python",
   "name": "python3"
  },
  "language_info": {
   "codemirror_mode": {
    "name": "ipython",
    "version": 3
   },
   "file_extension": ".py",
   "mimetype": "text/x-python",
   "name": "python",
   "nbconvert_exporter": "python",
   "pygments_lexer": "ipython3",
   "version": "3.8.4"
  }
 },
 "nbformat": 4,
 "nbformat_minor": 4
}
