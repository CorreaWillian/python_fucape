{
 "cells": [
  {
   "cell_type": "code",
   "execution_count": 199,
   "metadata": {},
   "outputs": [],
   "source": [
    "import pandas as pd\n",
    "import yfinance as yf"
   ]
  },
  {
   "cell_type": "markdown",
   "metadata": {},
   "source": [
    "Dados dos papeis do índice"
   ]
  },
  {
   "cell_type": "markdown",
   "metadata": {},
   "source": [
    "http://www.b3.com.br/pt_br/market-data-e-indices/indices/indices-amplos/indice-ibovespa-ibovespa-composicao-da-carteira.htm"
   ]
  },
  {
   "cell_type": "markdown",
   "metadata": {},
   "source": [
    "Lendo os dados salvos em excel e exibindo uma lista com os nomes"
   ]
  },
  {
   "cell_type": "code",
   "execution_count": 200,
   "metadata": {},
   "outputs": [
    {
     "name": "stdout",
     "output_type": "stream",
     "text": [
      "['ABEV3', 'ASAI3', 'AZUL4', 'BTOW3', 'B3SA3', 'BIDI11', 'BBSE3', 'BRML3', 'BBDC3', 'BBDC4', 'BRAP4', 'BBAS3', 'BRKM5', 'BRFS3', 'BPAC11', 'CRFB3', 'CCRO3', 'CMIG4', 'HGTX3', 'CIEL3', 'COGN3', 'CPLE6', 'CSAN3', 'CPFE3', 'CVCB3', 'CYRE3', 'ECOR3', 'ELET3', 'ELET6', 'EMBR3', 'ENBR3', 'ENGI11', 'ENEV3', 'EGIE3', 'EQTL3', 'EZTC3', 'FLRY3', 'GGBR4', 'GOAU4', 'GOLL4', 'NTCO3', 'HAPV3', 'HYPE3', 'IGTA3', 'GNDI3', 'IRBR3', 'ITSA4', 'ITUB4', 'JBSS3', 'JHSF3', 'KLBN11', 'RENT3', 'LCAM3', 'LWSA3', 'LAME4', 'LREN3', 'MGLU3', 'MRFG3', 'BEEF3', 'MRVE3', 'MULT3', 'PCAR3', 'PETR3', 'PETR4', 'BRDT3', 'PRIO3', 'QUAL3', 'RADL3', 'RAIL3', 'SBSP3', 'SANB11', 'CSNA3', 'SULA11', 'SUZB3', 'TAEE11', 'VIVT3', 'TIMS3', 'TOTS3', 'UGPA3', 'USIM5', 'VALE3', 'VVAR3', 'WEGE3', 'YDUQ3']\n"
     ]
    }
   ],
   "source": [
    "df = pd.read_excel(r'arquivos/papeis.xlsx')\n",
    "papeis = df['papeis'].tolist()\n",
    "print(papeis)"
   ]
  },
  {
   "cell_type": "markdown",
   "metadata": {},
   "source": [
    "Configurando para yfinance"
   ]
  },
  {
   "cell_type": "code",
   "execution_count": 201,
   "metadata": {},
   "outputs": [
    {
     "name": "stdout",
     "output_type": "stream",
     "text": [
      "['ABEV3.SA', 'ASAI3.SA', 'AZUL4.SA', 'BTOW3.SA', 'B3SA3.SA', 'BIDI11.SA', 'BBSE3.SA', 'BRML3.SA', 'BBDC3.SA', 'BBDC4.SA', 'BRAP4.SA', 'BBAS3.SA', 'BRKM5.SA', 'BRFS3.SA', 'BPAC11.SA', 'CRFB3.SA', 'CCRO3.SA', 'CMIG4.SA', 'HGTX3.SA', 'CIEL3.SA', 'COGN3.SA', 'CPLE6.SA', 'CSAN3.SA', 'CPFE3.SA', 'CVCB3.SA', 'CYRE3.SA', 'ECOR3.SA', 'ELET3.SA', 'ELET6.SA', 'EMBR3.SA', 'ENBR3.SA', 'ENGI11.SA', 'ENEV3.SA', 'EGIE3.SA', 'EQTL3.SA', 'EZTC3.SA', 'FLRY3.SA', 'GGBR4.SA', 'GOAU4.SA', 'GOLL4.SA', 'NTCO3.SA', 'HAPV3.SA', 'HYPE3.SA', 'IGTA3.SA', 'GNDI3.SA', 'IRBR3.SA', 'ITSA4.SA', 'ITUB4.SA', 'JBSS3.SA', 'JHSF3.SA', 'KLBN11.SA', 'RENT3.SA', 'LCAM3.SA', 'LWSA3.SA', 'LAME4.SA', 'LREN3.SA', 'MGLU3.SA', 'MRFG3.SA', 'BEEF3.SA', 'MRVE3.SA', 'MULT3.SA', 'PCAR3.SA', 'PETR3.SA', 'PETR4.SA', 'BRDT3.SA', 'PRIO3.SA', 'QUAL3.SA', 'RADL3.SA', 'RAIL3.SA', 'SBSP3.SA', 'SANB11.SA', 'CSNA3.SA', 'SULA11.SA', 'SUZB3.SA', 'TAEE11.SA', 'VIVT3.SA', 'TIMS3.SA', 'TOTS3.SA', 'UGPA3.SA', 'USIM5.SA', 'VALE3.SA', 'VVAR3.SA', 'WEGE3.SA', 'YDUQ3.SA']\n"
     ]
    }
   ],
   "source": [
    "papeis = [papel+'.SA' for papel in papeis]\n",
    "print(papeis)"
   ]
  },
  {
   "cell_type": "markdown",
   "metadata": {},
   "source": [
    "Obtendo os dados pelo yfinance"
   ]
  },
  {
   "cell_type": "code",
   "execution_count": 202,
   "metadata": {},
   "outputs": [
    {
     "name": "stdout",
     "output_type": "stream",
     "text": [
      "[*********************100%***********************]  84 of 84 completed\n"
     ]
    }
   ],
   "source": [
    "data = yf.download(tickers=papeis, start='2010-01-01', end='2021-05-28')"
   ]
  },
  {
   "cell_type": "code",
   "execution_count": 203,
   "metadata": {},
   "outputs": [
    {
     "data": {
      "text/html": [
       "<div>\n",
       "<style scoped>\n",
       "    .dataframe tbody tr th:only-of-type {\n",
       "        vertical-align: middle;\n",
       "    }\n",
       "\n",
       "    .dataframe tbody tr th {\n",
       "        vertical-align: top;\n",
       "    }\n",
       "\n",
       "    .dataframe thead tr th {\n",
       "        text-align: left;\n",
       "    }\n",
       "\n",
       "    .dataframe thead tr:last-of-type th {\n",
       "        text-align: right;\n",
       "    }\n",
       "</style>\n",
       "<table border=\"1\" class=\"dataframe\">\n",
       "  <thead>\n",
       "    <tr>\n",
       "      <th></th>\n",
       "      <th colspan=\"10\" halign=\"left\">Adj Close</th>\n",
       "      <th>...</th>\n",
       "      <th colspan=\"10\" halign=\"left\">Volume</th>\n",
       "    </tr>\n",
       "    <tr>\n",
       "      <th></th>\n",
       "      <th>ABEV3.SA</th>\n",
       "      <th>ASAI3.SA</th>\n",
       "      <th>AZUL4.SA</th>\n",
       "      <th>B3SA3.SA</th>\n",
       "      <th>BBAS3.SA</th>\n",
       "      <th>BBDC3.SA</th>\n",
       "      <th>BBDC4.SA</th>\n",
       "      <th>BBSE3.SA</th>\n",
       "      <th>BEEF3.SA</th>\n",
       "      <th>BIDI11.SA</th>\n",
       "      <th>...</th>\n",
       "      <th>TAEE11.SA</th>\n",
       "      <th>TIMS3.SA</th>\n",
       "      <th>TOTS3.SA</th>\n",
       "      <th>UGPA3.SA</th>\n",
       "      <th>USIM5.SA</th>\n",
       "      <th>VALE3.SA</th>\n",
       "      <th>VIVT3.SA</th>\n",
       "      <th>VVAR3.SA</th>\n",
       "      <th>WEGE3.SA</th>\n",
       "      <th>YDUQ3.SA</th>\n",
       "    </tr>\n",
       "    <tr>\n",
       "      <th>Date</th>\n",
       "      <th></th>\n",
       "      <th></th>\n",
       "      <th></th>\n",
       "      <th></th>\n",
       "      <th></th>\n",
       "      <th></th>\n",
       "      <th></th>\n",
       "      <th></th>\n",
       "      <th></th>\n",
       "      <th></th>\n",
       "      <th></th>\n",
       "      <th></th>\n",
       "      <th></th>\n",
       "      <th></th>\n",
       "      <th></th>\n",
       "      <th></th>\n",
       "      <th></th>\n",
       "      <th></th>\n",
       "      <th></th>\n",
       "      <th></th>\n",
       "      <th></th>\n",
       "    </tr>\n",
       "  </thead>\n",
       "  <tbody>\n",
       "    <tr>\n",
       "      <th>2010-01-04</th>\n",
       "      <td>4.187932</td>\n",
       "      <td>NaN</td>\n",
       "      <td>NaN</td>\n",
       "      <td>8.628860</td>\n",
       "      <td>14.528081</td>\n",
       "      <td>6.571734</td>\n",
       "      <td>10.772735</td>\n",
       "      <td>NaN</td>\n",
       "      <td>4.866180</td>\n",
       "      <td>NaN</td>\n",
       "      <td>...</td>\n",
       "      <td>133500.0</td>\n",
       "      <td>179000.0</td>\n",
       "      <td>2221212.0</td>\n",
       "      <td>0.0</td>\n",
       "      <td>3895000.0</td>\n",
       "      <td>2381400.0</td>\n",
       "      <td>3400.0</td>\n",
       "      <td>21200.0</td>\n",
       "      <td>3776812.0</td>\n",
       "      <td>118200.0</td>\n",
       "    </tr>\n",
       "    <tr>\n",
       "      <th>2010-01-05</th>\n",
       "      <td>4.212566</td>\n",
       "      <td>NaN</td>\n",
       "      <td>NaN</td>\n",
       "      <td>8.662180</td>\n",
       "      <td>14.382313</td>\n",
       "      <td>6.481225</td>\n",
       "      <td>10.719337</td>\n",
       "      <td>NaN</td>\n",
       "      <td>5.058487</td>\n",
       "      <td>NaN</td>\n",
       "      <td>...</td>\n",
       "      <td>343800.0</td>\n",
       "      <td>687300.0</td>\n",
       "      <td>1041475.0</td>\n",
       "      <td>0.0</td>\n",
       "      <td>4049000.0</td>\n",
       "      <td>3001800.0</td>\n",
       "      <td>20000.0</td>\n",
       "      <td>14400.0</td>\n",
       "      <td>1429064.0</td>\n",
       "      <td>45300.0</td>\n",
       "    </tr>\n",
       "    <tr>\n",
       "      <th>2010-01-06</th>\n",
       "      <td>4.255542</td>\n",
       "      <td>NaN</td>\n",
       "      <td>NaN</td>\n",
       "      <td>8.988673</td>\n",
       "      <td>14.401743</td>\n",
       "      <td>6.443053</td>\n",
       "      <td>10.633589</td>\n",
       "      <td>NaN</td>\n",
       "      <td>5.309321</td>\n",
       "      <td>NaN</td>\n",
       "      <td>...</td>\n",
       "      <td>489900.0</td>\n",
       "      <td>205000.0</td>\n",
       "      <td>401260.0</td>\n",
       "      <td>0.0</td>\n",
       "      <td>3879600.0</td>\n",
       "      <td>2742800.0</td>\n",
       "      <td>43100.0</td>\n",
       "      <td>41600.0</td>\n",
       "      <td>4106024.0</td>\n",
       "      <td>48900.0</td>\n",
       "    </tr>\n",
       "    <tr>\n",
       "      <th>2010-01-07</th>\n",
       "      <td>4.275523</td>\n",
       "      <td>NaN</td>\n",
       "      <td>NaN</td>\n",
       "      <td>9.201899</td>\n",
       "      <td>14.406603</td>\n",
       "      <td>6.428204</td>\n",
       "      <td>10.605004</td>\n",
       "      <td>NaN</td>\n",
       "      <td>5.426377</td>\n",
       "      <td>NaN</td>\n",
       "      <td>...</td>\n",
       "      <td>130500.0</td>\n",
       "      <td>327700.0</td>\n",
       "      <td>1926653.0</td>\n",
       "      <td>0.0</td>\n",
       "      <td>4672400.0</td>\n",
       "      <td>2543100.0</td>\n",
       "      <td>49600.0</td>\n",
       "      <td>28000.0</td>\n",
       "      <td>939640.0</td>\n",
       "      <td>38400.0</td>\n",
       "    </tr>\n",
       "    <tr>\n",
       "      <th>2010-01-08</th>\n",
       "      <td>4.267311</td>\n",
       "      <td>NaN</td>\n",
       "      <td>NaN</td>\n",
       "      <td>8.988673</td>\n",
       "      <td>14.489205</td>\n",
       "      <td>6.436686</td>\n",
       "      <td>10.593570</td>\n",
       "      <td>NaN</td>\n",
       "      <td>5.769184</td>\n",
       "      <td>NaN</td>\n",
       "      <td>...</td>\n",
       "      <td>1853400.0</td>\n",
       "      <td>232600.0</td>\n",
       "      <td>5166798.0</td>\n",
       "      <td>0.0</td>\n",
       "      <td>3605200.0</td>\n",
       "      <td>2444500.0</td>\n",
       "      <td>19000.0</td>\n",
       "      <td>12400.0</td>\n",
       "      <td>2199028.0</td>\n",
       "      <td>33000.0</td>\n",
       "    </tr>\n",
       "    <tr>\n",
       "      <th>...</th>\n",
       "      <td>...</td>\n",
       "      <td>...</td>\n",
       "      <td>...</td>\n",
       "      <td>...</td>\n",
       "      <td>...</td>\n",
       "      <td>...</td>\n",
       "      <td>...</td>\n",
       "      <td>...</td>\n",
       "      <td>...</td>\n",
       "      <td>...</td>\n",
       "      <td>...</td>\n",
       "      <td>...</td>\n",
       "      <td>...</td>\n",
       "      <td>...</td>\n",
       "      <td>...</td>\n",
       "      <td>...</td>\n",
       "      <td>...</td>\n",
       "      <td>...</td>\n",
       "      <td>...</td>\n",
       "      <td>...</td>\n",
       "      <td>...</td>\n",
       "    </tr>\n",
       "    <tr>\n",
       "      <th>2021-05-24</th>\n",
       "      <td>17.629999</td>\n",
       "      <td>89.209999</td>\n",
       "      <td>40.349998</td>\n",
       "      <td>17.450001</td>\n",
       "      <td>32.880001</td>\n",
       "      <td>22.520000</td>\n",
       "      <td>25.860001</td>\n",
       "      <td>23.590000</td>\n",
       "      <td>9.830000</td>\n",
       "      <td>74.430000</td>\n",
       "      <td>...</td>\n",
       "      <td>1286200.0</td>\n",
       "      <td>2484500.0</td>\n",
       "      <td>3426900.0</td>\n",
       "      <td>4501000.0</td>\n",
       "      <td>14121200.0</td>\n",
       "      <td>19332500.0</td>\n",
       "      <td>1712900.0</td>\n",
       "      <td>61580300.0</td>\n",
       "      <td>9738300.0</td>\n",
       "      <td>1699300.0</td>\n",
       "    </tr>\n",
       "    <tr>\n",
       "      <th>2021-05-25</th>\n",
       "      <td>17.610001</td>\n",
       "      <td>88.559998</td>\n",
       "      <td>42.009998</td>\n",
       "      <td>17.000000</td>\n",
       "      <td>32.439999</td>\n",
       "      <td>22.299999</td>\n",
       "      <td>25.730000</td>\n",
       "      <td>23.370001</td>\n",
       "      <td>9.810000</td>\n",
       "      <td>69.239998</td>\n",
       "      <td>...</td>\n",
       "      <td>1404700.0</td>\n",
       "      <td>2702600.0</td>\n",
       "      <td>2863400.0</td>\n",
       "      <td>5319000.0</td>\n",
       "      <td>16354700.0</td>\n",
       "      <td>23310100.0</td>\n",
       "      <td>1770100.0</td>\n",
       "      <td>30386800.0</td>\n",
       "      <td>10308900.0</td>\n",
       "      <td>3060000.0</td>\n",
       "    </tr>\n",
       "    <tr>\n",
       "      <th>2021-05-26</th>\n",
       "      <td>17.469999</td>\n",
       "      <td>88.860001</td>\n",
       "      <td>46.759998</td>\n",
       "      <td>17.100000</td>\n",
       "      <td>32.980000</td>\n",
       "      <td>22.830000</td>\n",
       "      <td>26.320000</td>\n",
       "      <td>23.250000</td>\n",
       "      <td>9.810000</td>\n",
       "      <td>67.400002</td>\n",
       "      <td>...</td>\n",
       "      <td>2245700.0</td>\n",
       "      <td>3075900.0</td>\n",
       "      <td>2855400.0</td>\n",
       "      <td>6007900.0</td>\n",
       "      <td>16693400.0</td>\n",
       "      <td>28241800.0</td>\n",
       "      <td>2590600.0</td>\n",
       "      <td>30290700.0</td>\n",
       "      <td>7778900.0</td>\n",
       "      <td>2473600.0</td>\n",
       "    </tr>\n",
       "    <tr>\n",
       "      <th>2021-05-27</th>\n",
       "      <td>17.690001</td>\n",
       "      <td>88.900002</td>\n",
       "      <td>44.619999</td>\n",
       "      <td>16.980000</td>\n",
       "      <td>33.430000</td>\n",
       "      <td>22.900000</td>\n",
       "      <td>26.480000</td>\n",
       "      <td>23.420000</td>\n",
       "      <td>10.040000</td>\n",
       "      <td>66.309998</td>\n",
       "      <td>...</td>\n",
       "      <td>3797100.0</td>\n",
       "      <td>6652900.0</td>\n",
       "      <td>3476400.0</td>\n",
       "      <td>5764600.0</td>\n",
       "      <td>25742000.0</td>\n",
       "      <td>55448700.0</td>\n",
       "      <td>5419600.0</td>\n",
       "      <td>34926100.0</td>\n",
       "      <td>14341600.0</td>\n",
       "      <td>4364800.0</td>\n",
       "    </tr>\n",
       "    <tr>\n",
       "      <th>2021-05-28</th>\n",
       "      <td>NaN</td>\n",
       "      <td>NaN</td>\n",
       "      <td>NaN</td>\n",
       "      <td>NaN</td>\n",
       "      <td>NaN</td>\n",
       "      <td>NaN</td>\n",
       "      <td>NaN</td>\n",
       "      <td>NaN</td>\n",
       "      <td>NaN</td>\n",
       "      <td>NaN</td>\n",
       "      <td>...</td>\n",
       "      <td>NaN</td>\n",
       "      <td>NaN</td>\n",
       "      <td>NaN</td>\n",
       "      <td>NaN</td>\n",
       "      <td>NaN</td>\n",
       "      <td>NaN</td>\n",
       "      <td>NaN</td>\n",
       "      <td>NaN</td>\n",
       "      <td>NaN</td>\n",
       "      <td>NaN</td>\n",
       "    </tr>\n",
       "  </tbody>\n",
       "</table>\n",
       "<p>2829 rows × 504 columns</p>\n",
       "</div>"
      ],
      "text/plain": [
       "            Adj Close                                                         \\\n",
       "             ABEV3.SA   ASAI3.SA   AZUL4.SA   B3SA3.SA   BBAS3.SA   BBDC3.SA   \n",
       "Date                                                                           \n",
       "2010-01-04   4.187932        NaN        NaN   8.628860  14.528081   6.571734   \n",
       "2010-01-05   4.212566        NaN        NaN   8.662180  14.382313   6.481225   \n",
       "2010-01-06   4.255542        NaN        NaN   8.988673  14.401743   6.443053   \n",
       "2010-01-07   4.275523        NaN        NaN   9.201899  14.406603   6.428204   \n",
       "2010-01-08   4.267311        NaN        NaN   8.988673  14.489205   6.436686   \n",
       "...               ...        ...        ...        ...        ...        ...   \n",
       "2021-05-24  17.629999  89.209999  40.349998  17.450001  32.880001  22.520000   \n",
       "2021-05-25  17.610001  88.559998  42.009998  17.000000  32.439999  22.299999   \n",
       "2021-05-26  17.469999  88.860001  46.759998  17.100000  32.980000  22.830000   \n",
       "2021-05-27  17.690001  88.900002  44.619999  16.980000  33.430000  22.900000   \n",
       "2021-05-28        NaN        NaN        NaN        NaN        NaN        NaN   \n",
       "\n",
       "                                                        ...     Volume  \\\n",
       "             BBDC4.SA   BBSE3.SA   BEEF3.SA  BIDI11.SA  ...  TAEE11.SA   \n",
       "Date                                                    ...              \n",
       "2010-01-04  10.772735        NaN   4.866180        NaN  ...   133500.0   \n",
       "2010-01-05  10.719337        NaN   5.058487        NaN  ...   343800.0   \n",
       "2010-01-06  10.633589        NaN   5.309321        NaN  ...   489900.0   \n",
       "2010-01-07  10.605004        NaN   5.426377        NaN  ...   130500.0   \n",
       "2010-01-08  10.593570        NaN   5.769184        NaN  ...  1853400.0   \n",
       "...               ...        ...        ...        ...  ...        ...   \n",
       "2021-05-24  25.860001  23.590000   9.830000  74.430000  ...  1286200.0   \n",
       "2021-05-25  25.730000  23.370001   9.810000  69.239998  ...  1404700.0   \n",
       "2021-05-26  26.320000  23.250000   9.810000  67.400002  ...  2245700.0   \n",
       "2021-05-27  26.480000  23.420000  10.040000  66.309998  ...  3797100.0   \n",
       "2021-05-28        NaN        NaN        NaN        NaN  ...        NaN   \n",
       "\n",
       "                                                                     \\\n",
       "             TIMS3.SA   TOTS3.SA   UGPA3.SA    USIM5.SA    VALE3.SA   \n",
       "Date                                                                  \n",
       "2010-01-04   179000.0  2221212.0        0.0   3895000.0   2381400.0   \n",
       "2010-01-05   687300.0  1041475.0        0.0   4049000.0   3001800.0   \n",
       "2010-01-06   205000.0   401260.0        0.0   3879600.0   2742800.0   \n",
       "2010-01-07   327700.0  1926653.0        0.0   4672400.0   2543100.0   \n",
       "2010-01-08   232600.0  5166798.0        0.0   3605200.0   2444500.0   \n",
       "...               ...        ...        ...         ...         ...   \n",
       "2021-05-24  2484500.0  3426900.0  4501000.0  14121200.0  19332500.0   \n",
       "2021-05-25  2702600.0  2863400.0  5319000.0  16354700.0  23310100.0   \n",
       "2021-05-26  3075900.0  2855400.0  6007900.0  16693400.0  28241800.0   \n",
       "2021-05-27  6652900.0  3476400.0  5764600.0  25742000.0  55448700.0   \n",
       "2021-05-28        NaN        NaN        NaN         NaN         NaN   \n",
       "\n",
       "                                                          \n",
       "             VIVT3.SA    VVAR3.SA    WEGE3.SA   YDUQ3.SA  \n",
       "Date                                                      \n",
       "2010-01-04     3400.0     21200.0   3776812.0   118200.0  \n",
       "2010-01-05    20000.0     14400.0   1429064.0    45300.0  \n",
       "2010-01-06    43100.0     41600.0   4106024.0    48900.0  \n",
       "2010-01-07    49600.0     28000.0    939640.0    38400.0  \n",
       "2010-01-08    19000.0     12400.0   2199028.0    33000.0  \n",
       "...               ...         ...         ...        ...  \n",
       "2021-05-24  1712900.0  61580300.0   9738300.0  1699300.0  \n",
       "2021-05-25  1770100.0  30386800.0  10308900.0  3060000.0  \n",
       "2021-05-26  2590600.0  30290700.0   7778900.0  2473600.0  \n",
       "2021-05-27  5419600.0  34926100.0  14341600.0  4364800.0  \n",
       "2021-05-28        NaN         NaN         NaN        NaN  \n",
       "\n",
       "[2829 rows x 504 columns]"
      ]
     },
     "execution_count": 203,
     "metadata": {},
     "output_type": "execute_result"
    }
   ],
   "source": [
    "data"
   ]
  },
  {
   "cell_type": "markdown",
   "metadata": {},
   "source": [
    "Obtendo os dados desejados - fechamento ajustado"
   ]
  },
  {
   "cell_type": "code",
   "execution_count": 204,
   "metadata": {},
   "outputs": [],
   "source": [
    "fechamento = data['Adj Close'].copy()"
   ]
  },
  {
   "cell_type": "markdown",
   "metadata": {},
   "source": [
    "Exibindo informações sobre o dataframe"
   ]
  },
  {
   "cell_type": "code",
   "execution_count": 205,
   "metadata": {},
   "outputs": [
    {
     "name": "stdout",
     "output_type": "stream",
     "text": [
      "<class 'pandas.core.frame.DataFrame'>\n",
      "DatetimeIndex: 2829 entries, 2010-01-04 to 2021-05-28\n",
      "Data columns (total 84 columns):\n",
      " #   Column     Non-Null Count  Dtype  \n",
      "---  ------     --------------  -----  \n",
      " 0   ABEV3.SA   2823 non-null   float64\n",
      " 1   ASAI3.SA   62 non-null     float64\n",
      " 2   AZUL4.SA   1023 non-null   float64\n",
      " 3   B3SA3.SA   2821 non-null   float64\n",
      " 4   BBAS3.SA   2823 non-null   float64\n",
      " 5   BBDC3.SA   2823 non-null   float64\n",
      " 6   BBDC4.SA   2823 non-null   float64\n",
      " 7   BBSE3.SA   2003 non-null   float64\n",
      " 8   BEEF3.SA   2823 non-null   float64\n",
      " 9   BIDI11.SA  458 non-null    float64\n",
      " 10  BPAC11.SA  1053 non-null   float64\n",
      " 11  BRAP4.SA   2823 non-null   float64\n",
      " 12  BRDT3.SA   789 non-null    float64\n",
      " 13  BRFS3.SA   2823 non-null   float64\n",
      " 14  BRKM5.SA   2823 non-null   float64\n",
      " 15  BRML3.SA   2823 non-null   float64\n",
      " 16  BTOW3.SA   2823 non-null   float64\n",
      " 17  CCRO3.SA   2823 non-null   float64\n",
      " 18  CIEL3.SA   2823 non-null   float64\n",
      " 19  CMIG4.SA   2823 non-null   float64\n",
      " 20  COGN3.SA   2279 non-null   float64\n",
      " 21  CPFE3.SA   2823 non-null   float64\n",
      " 22  CPLE6.SA   2823 non-null   float64\n",
      " 23  CRFB3.SA   954 non-null    float64\n",
      " 24  CSAN3.SA   2823 non-null   float64\n",
      " 25  CSNA3.SA   2823 non-null   float64\n",
      " 26  CVCB3.SA   1848 non-null   float64\n",
      " 27  CYRE3.SA   2823 non-null   float64\n",
      " 28  ECOR3.SA   2763 non-null   float64\n",
      " 29  EGIE3.SA   2823 non-null   float64\n",
      " 30  ELET3.SA   2823 non-null   float64\n",
      " 31  ELET6.SA   2823 non-null   float64\n",
      " 32  EMBR3.SA   2823 non-null   float64\n",
      " 33  ENBR3.SA   2823 non-null   float64\n",
      " 34  ENEV3.SA   2823 non-null   float64\n",
      " 35  ENGI11.SA  2823 non-null   float64\n",
      " 36  EQTL3.SA   2823 non-null   float64\n",
      " 37  EZTC3.SA   2823 non-null   float64\n",
      " 38  FLRY3.SA   2823 non-null   float64\n",
      " 39  GGBR4.SA   2823 non-null   float64\n",
      " 40  GNDI3.SA   762 non-null    float64\n",
      " 41  GOAU4.SA   2823 non-null   float64\n",
      " 42  GOLL4.SA   2823 non-null   float64\n",
      " 43  HAPV3.SA   759 non-null    float64\n",
      " 44  HGTX3.SA   2823 non-null   float64\n",
      " 45  HYPE3.SA   2823 non-null   float64\n",
      " 46  IGTA3.SA   2823 non-null   float64\n",
      " 47  IRBR3.SA   947 non-null    float64\n",
      " 48  ITSA4.SA   2823 non-null   float64\n",
      " 49  ITUB4.SA   2823 non-null   float64\n",
      " 50  JBSS3.SA   2823 non-null   float64\n",
      " 51  JHSF3.SA   2823 non-null   float64\n",
      " 52  KLBN11.SA  1819 non-null   float64\n",
      " 53  LAME4.SA   2823 non-null   float64\n",
      " 54  LCAM3.SA   2252 non-null   float64\n",
      " 55  LREN3.SA   2823 non-null   float64\n",
      " 56  LWSA3.SA   320 non-null    float64\n",
      " 57  MGLU3.SA   2496 non-null   float64\n",
      " 58  MRFG3.SA   2823 non-null   float64\n",
      " 59  MRVE3.SA   2823 non-null   float64\n",
      " 60  MULT3.SA   2823 non-null   float64\n",
      " 61  NTCO3.SA   352 non-null    float64\n",
      " 62  PCAR3.SA   2823 non-null   float64\n",
      " 63  PETR3.SA   2823 non-null   float64\n",
      " 64  PETR4.SA   2823 non-null   float64\n",
      " 65  PRIO3.SA   2622 non-null   float64\n",
      " 66  QUAL3.SA   2455 non-null   float64\n",
      " 67  RADL3.SA   2823 non-null   float64\n",
      " 68  RAIL3.SA   1524 non-null   float64\n",
      " 69  RENT3.SA   2823 non-null   float64\n",
      " 70  SANB11.SA  2823 non-null   float64\n",
      " 71  SBSP3.SA   2823 non-null   float64\n",
      " 72  SULA11.SA  2823 non-null   float64\n",
      " 73  SUZB3.SA   2823 non-null   float64\n",
      " 74  TAEE11.SA  2823 non-null   float64\n",
      " 75  TIMS3.SA   2823 non-null   float64\n",
      " 76  TOTS3.SA   2823 non-null   float64\n",
      " 77  UGPA3.SA   2823 non-null   float64\n",
      " 78  USIM5.SA   2823 non-null   float64\n",
      " 79  VALE3.SA   2823 non-null   float64\n",
      " 80  VIVT3.SA   2823 non-null   float64\n",
      " 81  VVAR3.SA   2823 non-null   float64\n",
      " 82  WEGE3.SA   2823 non-null   float64\n",
      " 83  YDUQ3.SA   2823 non-null   float64\n",
      "dtypes: float64(84)\n",
      "memory usage: 1.8 MB\n"
     ]
    }
   ],
   "source": [
    "fechamento.info()"
   ]
  },
  {
   "cell_type": "markdown",
   "metadata": {},
   "source": [
    "## Tratando dados faltantes"
   ]
  },
  {
   "cell_type": "markdown",
   "metadata": {},
   "source": [
    "Exibindo quantos dados faltam de cada coluna"
   ]
  },
  {
   "cell_type": "code",
   "execution_count": 206,
   "metadata": {},
   "outputs": [
    {
     "name": "stdout",
     "output_type": "stream",
     "text": [
      "6\n",
      "2767\n",
      "1806\n",
      "8\n",
      "6\n",
      "6\n",
      "6\n",
      "826\n",
      "6\n",
      "2371\n",
      "1776\n",
      "6\n",
      "2040\n",
      "6\n",
      "6\n",
      "6\n",
      "6\n",
      "6\n",
      "6\n",
      "6\n",
      "550\n",
      "6\n",
      "6\n",
      "1875\n",
      "6\n",
      "6\n",
      "981\n",
      "6\n",
      "66\n",
      "6\n",
      "6\n",
      "6\n",
      "6\n",
      "6\n",
      "6\n",
      "6\n",
      "6\n",
      "6\n",
      "6\n",
      "6\n",
      "2067\n",
      "6\n",
      "6\n",
      "2070\n",
      "6\n",
      "6\n",
      "6\n",
      "1882\n",
      "6\n",
      "6\n",
      "6\n",
      "6\n",
      "1010\n",
      "6\n",
      "577\n",
      "6\n",
      "2509\n",
      "333\n",
      "6\n",
      "6\n",
      "6\n",
      "2477\n",
      "6\n",
      "6\n",
      "6\n",
      "207\n",
      "374\n",
      "6\n",
      "1305\n",
      "6\n",
      "6\n",
      "6\n",
      "6\n",
      "6\n",
      "6\n",
      "6\n",
      "6\n",
      "6\n",
      "6\n",
      "6\n",
      "6\n",
      "6\n",
      "6\n",
      "6\n"
     ]
    }
   ],
   "source": [
    "fechamento_limpo = fechamento.isnull().sum()\n",
    "for item in fechamento_limpo:\n",
    "    print(item)"
   ]
  },
  {
   "cell_type": "markdown",
   "metadata": {},
   "source": [
    "Manter os que faltam 8 ou menos"
   ]
  },
  {
   "cell_type": "code",
   "execution_count": 207,
   "metadata": {},
   "outputs": [
    {
     "name": "stdout",
     "output_type": "stream",
     "text": [
      "['ABEV3.SA', 'B3SA3.SA', 'BBAS3.SA', 'BBDC3.SA', 'BBDC4.SA', 'BEEF3.SA', 'BRAP4.SA', 'BRFS3.SA', 'BRKM5.SA', 'BRML3.SA', 'BTOW3.SA', 'CCRO3.SA', 'CIEL3.SA', 'CMIG4.SA', 'CPFE3.SA', 'CPLE6.SA', 'CSAN3.SA', 'CSNA3.SA', 'CYRE3.SA', 'EGIE3.SA', 'ELET3.SA', 'ELET6.SA', 'EMBR3.SA', 'ENBR3.SA', 'ENEV3.SA', 'ENGI11.SA', 'EQTL3.SA', 'EZTC3.SA', 'FLRY3.SA', 'GGBR4.SA', 'GOAU4.SA', 'GOLL4.SA', 'HGTX3.SA', 'HYPE3.SA', 'IGTA3.SA', 'ITSA4.SA', 'ITUB4.SA', 'JBSS3.SA', 'JHSF3.SA', 'LAME4.SA', 'LREN3.SA', 'MRFG3.SA', 'MRVE3.SA', 'MULT3.SA', 'PCAR3.SA', 'PETR3.SA', 'PETR4.SA', 'RADL3.SA', 'RENT3.SA', 'SANB11.SA', 'SBSP3.SA', 'SULA11.SA', 'SUZB3.SA', 'TAEE11.SA', 'TIMS3.SA', 'TOTS3.SA', 'UGPA3.SA', 'USIM5.SA', 'VALE3.SA', 'VIVT3.SA', 'VVAR3.SA', 'WEGE3.SA', 'YDUQ3.SA']\n"
     ]
    }
   ],
   "source": [
    "fechamento_limpo = [index for index, value in fechamento_limpo.items() if value <= 8]\n",
    "print(fechamento_limpo)"
   ]
  },
  {
   "cell_type": "code",
   "execution_count": 208,
   "metadata": {},
   "outputs": [
    {
     "data": {
      "text/html": [
       "<div>\n",
       "<style scoped>\n",
       "    .dataframe tbody tr th:only-of-type {\n",
       "        vertical-align: middle;\n",
       "    }\n",
       "\n",
       "    .dataframe tbody tr th {\n",
       "        vertical-align: top;\n",
       "    }\n",
       "\n",
       "    .dataframe thead th {\n",
       "        text-align: right;\n",
       "    }\n",
       "</style>\n",
       "<table border=\"1\" class=\"dataframe\">\n",
       "  <thead>\n",
       "    <tr style=\"text-align: right;\">\n",
       "      <th></th>\n",
       "      <th>ABEV3.SA</th>\n",
       "      <th>B3SA3.SA</th>\n",
       "      <th>BBAS3.SA</th>\n",
       "      <th>BBDC3.SA</th>\n",
       "      <th>BBDC4.SA</th>\n",
       "      <th>BEEF3.SA</th>\n",
       "      <th>BRAP4.SA</th>\n",
       "      <th>BRFS3.SA</th>\n",
       "      <th>BRKM5.SA</th>\n",
       "      <th>BRML3.SA</th>\n",
       "      <th>...</th>\n",
       "      <th>TAEE11.SA</th>\n",
       "      <th>TIMS3.SA</th>\n",
       "      <th>TOTS3.SA</th>\n",
       "      <th>UGPA3.SA</th>\n",
       "      <th>USIM5.SA</th>\n",
       "      <th>VALE3.SA</th>\n",
       "      <th>VIVT3.SA</th>\n",
       "      <th>VVAR3.SA</th>\n",
       "      <th>WEGE3.SA</th>\n",
       "      <th>YDUQ3.SA</th>\n",
       "    </tr>\n",
       "    <tr>\n",
       "      <th>Date</th>\n",
       "      <th></th>\n",
       "      <th></th>\n",
       "      <th></th>\n",
       "      <th></th>\n",
       "      <th></th>\n",
       "      <th></th>\n",
       "      <th></th>\n",
       "      <th></th>\n",
       "      <th></th>\n",
       "      <th></th>\n",
       "      <th></th>\n",
       "      <th></th>\n",
       "      <th></th>\n",
       "      <th></th>\n",
       "      <th></th>\n",
       "      <th></th>\n",
       "      <th></th>\n",
       "      <th></th>\n",
       "      <th></th>\n",
       "      <th></th>\n",
       "      <th></th>\n",
       "    </tr>\n",
       "  </thead>\n",
       "  <tbody>\n",
       "    <tr>\n",
       "      <th>2010-01-04</th>\n",
       "      <td>4.187932</td>\n",
       "      <td>8.628860</td>\n",
       "      <td>14.528081</td>\n",
       "      <td>6.571734</td>\n",
       "      <td>10.772735</td>\n",
       "      <td>4.866180</td>\n",
       "      <td>23.492781</td>\n",
       "      <td>20.497267</td>\n",
       "      <td>9.126999</td>\n",
       "      <td>5.925205</td>\n",
       "      <td>...</td>\n",
       "      <td>4.293434</td>\n",
       "      <td>5.570551</td>\n",
       "      <td>6.437285</td>\n",
       "      <td>5.210743</td>\n",
       "      <td>23.545773</td>\n",
       "      <td>32.089706</td>\n",
       "      <td>14.515941</td>\n",
       "      <td>3.633857</td>\n",
       "      <td>2.144630</td>\n",
       "      <td>5.748117</td>\n",
       "    </tr>\n",
       "    <tr>\n",
       "      <th>2010-01-05</th>\n",
       "      <td>4.212566</td>\n",
       "      <td>8.662180</td>\n",
       "      <td>14.382313</td>\n",
       "      <td>6.481225</td>\n",
       "      <td>10.719337</td>\n",
       "      <td>5.058487</td>\n",
       "      <td>23.966238</td>\n",
       "      <td>20.712132</td>\n",
       "      <td>9.043734</td>\n",
       "      <td>6.034931</td>\n",
       "      <td>...</td>\n",
       "      <td>4.294581</td>\n",
       "      <td>5.973989</td>\n",
       "      <td>6.329549</td>\n",
       "      <td>5.210743</td>\n",
       "      <td>23.615026</td>\n",
       "      <td>32.388855</td>\n",
       "      <td>14.462154</td>\n",
       "      <td>3.542718</td>\n",
       "      <td>2.139949</td>\n",
       "      <td>5.816971</td>\n",
       "    </tr>\n",
       "    <tr>\n",
       "      <th>2010-01-06</th>\n",
       "      <td>4.255542</td>\n",
       "      <td>8.988673</td>\n",
       "      <td>14.401743</td>\n",
       "      <td>6.443053</td>\n",
       "      <td>10.633589</td>\n",
       "      <td>5.309321</td>\n",
       "      <td>24.301846</td>\n",
       "      <td>20.994143</td>\n",
       "      <td>9.261502</td>\n",
       "      <td>6.309246</td>\n",
       "      <td>...</td>\n",
       "      <td>4.294581</td>\n",
       "      <td>5.896405</td>\n",
       "      <td>6.367256</td>\n",
       "      <td>5.210743</td>\n",
       "      <td>23.591938</td>\n",
       "      <td>33.074394</td>\n",
       "      <td>14.216256</td>\n",
       "      <td>3.507665</td>\n",
       "      <td>2.151650</td>\n",
       "      <td>5.911942</td>\n",
       "    </tr>\n",
       "    <tr>\n",
       "      <th>2010-01-07</th>\n",
       "      <td>4.275523</td>\n",
       "      <td>9.201899</td>\n",
       "      <td>14.406603</td>\n",
       "      <td>6.428204</td>\n",
       "      <td>10.605004</td>\n",
       "      <td>5.426377</td>\n",
       "      <td>24.571537</td>\n",
       "      <td>20.864334</td>\n",
       "      <td>9.030926</td>\n",
       "      <td>6.226951</td>\n",
       "      <td>...</td>\n",
       "      <td>4.294581</td>\n",
       "      <td>5.764512</td>\n",
       "      <td>6.372643</td>\n",
       "      <td>5.210743</td>\n",
       "      <td>23.813549</td>\n",
       "      <td>33.211502</td>\n",
       "      <td>14.216256</td>\n",
       "      <td>3.517013</td>\n",
       "      <td>2.187921</td>\n",
       "      <td>5.816971</td>\n",
       "    </tr>\n",
       "    <tr>\n",
       "      <th>2010-01-08</th>\n",
       "      <td>4.267311</td>\n",
       "      <td>8.988673</td>\n",
       "      <td>14.489205</td>\n",
       "      <td>6.436686</td>\n",
       "      <td>10.593570</td>\n",
       "      <td>5.769184</td>\n",
       "      <td>24.931112</td>\n",
       "      <td>20.949381</td>\n",
       "      <td>8.902826</td>\n",
       "      <td>6.172088</td>\n",
       "      <td>...</td>\n",
       "      <td>4.285413</td>\n",
       "      <td>5.702444</td>\n",
       "      <td>6.434592</td>\n",
       "      <td>5.210743</td>\n",
       "      <td>23.476517</td>\n",
       "      <td>33.535576</td>\n",
       "      <td>14.204722</td>\n",
       "      <td>3.514676</td>\n",
       "      <td>2.267481</td>\n",
       "      <td>5.816971</td>\n",
       "    </tr>\n",
       "    <tr>\n",
       "      <th>...</th>\n",
       "      <td>...</td>\n",
       "      <td>...</td>\n",
       "      <td>...</td>\n",
       "      <td>...</td>\n",
       "      <td>...</td>\n",
       "      <td>...</td>\n",
       "      <td>...</td>\n",
       "      <td>...</td>\n",
       "      <td>...</td>\n",
       "      <td>...</td>\n",
       "      <td>...</td>\n",
       "      <td>...</td>\n",
       "      <td>...</td>\n",
       "      <td>...</td>\n",
       "      <td>...</td>\n",
       "      <td>...</td>\n",
       "      <td>...</td>\n",
       "      <td>...</td>\n",
       "      <td>...</td>\n",
       "      <td>...</td>\n",
       "      <td>...</td>\n",
       "    </tr>\n",
       "    <tr>\n",
       "      <th>2021-05-24</th>\n",
       "      <td>17.629999</td>\n",
       "      <td>17.450001</td>\n",
       "      <td>32.880001</td>\n",
       "      <td>22.520000</td>\n",
       "      <td>25.860001</td>\n",
       "      <td>9.830000</td>\n",
       "      <td>69.949997</td>\n",
       "      <td>26.209999</td>\n",
       "      <td>50.599998</td>\n",
       "      <td>10.830000</td>\n",
       "      <td>...</td>\n",
       "      <td>39.990002</td>\n",
       "      <td>12.050000</td>\n",
       "      <td>32.549999</td>\n",
       "      <td>19.180000</td>\n",
       "      <td>20.054792</td>\n",
       "      <td>109.779999</td>\n",
       "      <td>44.290001</td>\n",
       "      <td>12.460000</td>\n",
       "      <td>32.650002</td>\n",
       "      <td>30.350000</td>\n",
       "    </tr>\n",
       "    <tr>\n",
       "      <th>2021-05-25</th>\n",
       "      <td>17.610001</td>\n",
       "      <td>17.000000</td>\n",
       "      <td>32.439999</td>\n",
       "      <td>22.299999</td>\n",
       "      <td>25.730000</td>\n",
       "      <td>9.810000</td>\n",
       "      <td>68.150002</td>\n",
       "      <td>25.860001</td>\n",
       "      <td>50.660000</td>\n",
       "      <td>10.850000</td>\n",
       "      <td>...</td>\n",
       "      <td>39.830002</td>\n",
       "      <td>12.020000</td>\n",
       "      <td>33.119999</td>\n",
       "      <td>18.900000</td>\n",
       "      <td>19.434954</td>\n",
       "      <td>107.050003</td>\n",
       "      <td>44.389999</td>\n",
       "      <td>12.430000</td>\n",
       "      <td>32.970001</td>\n",
       "      <td>31.469999</td>\n",
       "    </tr>\n",
       "    <tr>\n",
       "      <th>2021-05-26</th>\n",
       "      <td>17.469999</td>\n",
       "      <td>17.100000</td>\n",
       "      <td>32.980000</td>\n",
       "      <td>22.830000</td>\n",
       "      <td>26.320000</td>\n",
       "      <td>9.810000</td>\n",
       "      <td>69.250000</td>\n",
       "      <td>25.559999</td>\n",
       "      <td>51.580002</td>\n",
       "      <td>10.960000</td>\n",
       "      <td>...</td>\n",
       "      <td>39.750000</td>\n",
       "      <td>12.100000</td>\n",
       "      <td>32.939999</td>\n",
       "      <td>19.330000</td>\n",
       "      <td>19.660000</td>\n",
       "      <td>110.199997</td>\n",
       "      <td>44.000000</td>\n",
       "      <td>12.510000</td>\n",
       "      <td>32.799999</td>\n",
       "      <td>31.020000</td>\n",
       "    </tr>\n",
       "    <tr>\n",
       "      <th>2021-05-27</th>\n",
       "      <td>17.690001</td>\n",
       "      <td>16.980000</td>\n",
       "      <td>33.430000</td>\n",
       "      <td>22.900000</td>\n",
       "      <td>26.480000</td>\n",
       "      <td>10.040000</td>\n",
       "      <td>69.540001</td>\n",
       "      <td>25.889999</td>\n",
       "      <td>51.790001</td>\n",
       "      <td>11.000000</td>\n",
       "      <td>...</td>\n",
       "      <td>39.500000</td>\n",
       "      <td>12.040000</td>\n",
       "      <td>33.599998</td>\n",
       "      <td>19.240000</td>\n",
       "      <td>19.590000</td>\n",
       "      <td>110.989998</td>\n",
       "      <td>44.070000</td>\n",
       "      <td>12.720000</td>\n",
       "      <td>32.810001</td>\n",
       "      <td>33.090000</td>\n",
       "    </tr>\n",
       "    <tr>\n",
       "      <th>2021-05-28</th>\n",
       "      <td>NaN</td>\n",
       "      <td>NaN</td>\n",
       "      <td>NaN</td>\n",
       "      <td>NaN</td>\n",
       "      <td>NaN</td>\n",
       "      <td>NaN</td>\n",
       "      <td>NaN</td>\n",
       "      <td>NaN</td>\n",
       "      <td>NaN</td>\n",
       "      <td>NaN</td>\n",
       "      <td>...</td>\n",
       "      <td>NaN</td>\n",
       "      <td>NaN</td>\n",
       "      <td>NaN</td>\n",
       "      <td>NaN</td>\n",
       "      <td>NaN</td>\n",
       "      <td>NaN</td>\n",
       "      <td>NaN</td>\n",
       "      <td>NaN</td>\n",
       "      <td>NaN</td>\n",
       "      <td>NaN</td>\n",
       "    </tr>\n",
       "  </tbody>\n",
       "</table>\n",
       "<p>2829 rows × 63 columns</p>\n",
       "</div>"
      ],
      "text/plain": [
       "             ABEV3.SA   B3SA3.SA   BBAS3.SA   BBDC3.SA   BBDC4.SA   BEEF3.SA  \\\n",
       "Date                                                                           \n",
       "2010-01-04   4.187932   8.628860  14.528081   6.571734  10.772735   4.866180   \n",
       "2010-01-05   4.212566   8.662180  14.382313   6.481225  10.719337   5.058487   \n",
       "2010-01-06   4.255542   8.988673  14.401743   6.443053  10.633589   5.309321   \n",
       "2010-01-07   4.275523   9.201899  14.406603   6.428204  10.605004   5.426377   \n",
       "2010-01-08   4.267311   8.988673  14.489205   6.436686  10.593570   5.769184   \n",
       "...               ...        ...        ...        ...        ...        ...   \n",
       "2021-05-24  17.629999  17.450001  32.880001  22.520000  25.860001   9.830000   \n",
       "2021-05-25  17.610001  17.000000  32.439999  22.299999  25.730000   9.810000   \n",
       "2021-05-26  17.469999  17.100000  32.980000  22.830000  26.320000   9.810000   \n",
       "2021-05-27  17.690001  16.980000  33.430000  22.900000  26.480000  10.040000   \n",
       "2021-05-28        NaN        NaN        NaN        NaN        NaN        NaN   \n",
       "\n",
       "             BRAP4.SA   BRFS3.SA   BRKM5.SA   BRML3.SA  ...  TAEE11.SA  \\\n",
       "Date                                                    ...              \n",
       "2010-01-04  23.492781  20.497267   9.126999   5.925205  ...   4.293434   \n",
       "2010-01-05  23.966238  20.712132   9.043734   6.034931  ...   4.294581   \n",
       "2010-01-06  24.301846  20.994143   9.261502   6.309246  ...   4.294581   \n",
       "2010-01-07  24.571537  20.864334   9.030926   6.226951  ...   4.294581   \n",
       "2010-01-08  24.931112  20.949381   8.902826   6.172088  ...   4.285413   \n",
       "...               ...        ...        ...        ...  ...        ...   \n",
       "2021-05-24  69.949997  26.209999  50.599998  10.830000  ...  39.990002   \n",
       "2021-05-25  68.150002  25.860001  50.660000  10.850000  ...  39.830002   \n",
       "2021-05-26  69.250000  25.559999  51.580002  10.960000  ...  39.750000   \n",
       "2021-05-27  69.540001  25.889999  51.790001  11.000000  ...  39.500000   \n",
       "2021-05-28        NaN        NaN        NaN        NaN  ...        NaN   \n",
       "\n",
       "             TIMS3.SA   TOTS3.SA   UGPA3.SA   USIM5.SA    VALE3.SA   VIVT3.SA  \\\n",
       "Date                                                                            \n",
       "2010-01-04   5.570551   6.437285   5.210743  23.545773   32.089706  14.515941   \n",
       "2010-01-05   5.973989   6.329549   5.210743  23.615026   32.388855  14.462154   \n",
       "2010-01-06   5.896405   6.367256   5.210743  23.591938   33.074394  14.216256   \n",
       "2010-01-07   5.764512   6.372643   5.210743  23.813549   33.211502  14.216256   \n",
       "2010-01-08   5.702444   6.434592   5.210743  23.476517   33.535576  14.204722   \n",
       "...               ...        ...        ...        ...         ...        ...   \n",
       "2021-05-24  12.050000  32.549999  19.180000  20.054792  109.779999  44.290001   \n",
       "2021-05-25  12.020000  33.119999  18.900000  19.434954  107.050003  44.389999   \n",
       "2021-05-26  12.100000  32.939999  19.330000  19.660000  110.199997  44.000000   \n",
       "2021-05-27  12.040000  33.599998  19.240000  19.590000  110.989998  44.070000   \n",
       "2021-05-28        NaN        NaN        NaN        NaN         NaN        NaN   \n",
       "\n",
       "             VVAR3.SA   WEGE3.SA   YDUQ3.SA  \n",
       "Date                                         \n",
       "2010-01-04   3.633857   2.144630   5.748117  \n",
       "2010-01-05   3.542718   2.139949   5.816971  \n",
       "2010-01-06   3.507665   2.151650   5.911942  \n",
       "2010-01-07   3.517013   2.187921   5.816971  \n",
       "2010-01-08   3.514676   2.267481   5.816971  \n",
       "...               ...        ...        ...  \n",
       "2021-05-24  12.460000  32.650002  30.350000  \n",
       "2021-05-25  12.430000  32.970001  31.469999  \n",
       "2021-05-26  12.510000  32.799999  31.020000  \n",
       "2021-05-27  12.720000  32.810001  33.090000  \n",
       "2021-05-28        NaN        NaN        NaN  \n",
       "\n",
       "[2829 rows x 63 columns]"
      ]
     },
     "execution_count": 208,
     "metadata": {},
     "output_type": "execute_result"
    }
   ],
   "source": [
    "fechamento = fechamento[fechamento_limpo]\n",
    "fechamento"
   ]
  },
  {
   "cell_type": "markdown",
   "metadata": {},
   "source": [
    "Exibindo as informações novamente"
   ]
  },
  {
   "cell_type": "code",
   "execution_count": 209,
   "metadata": {},
   "outputs": [
    {
     "name": "stdout",
     "output_type": "stream",
     "text": [
      "<class 'pandas.core.frame.DataFrame'>\n",
      "DatetimeIndex: 2829 entries, 2010-01-04 to 2021-05-28\n",
      "Data columns (total 63 columns):\n",
      " #   Column     Non-Null Count  Dtype  \n",
      "---  ------     --------------  -----  \n",
      " 0   ABEV3.SA   2823 non-null   float64\n",
      " 1   B3SA3.SA   2821 non-null   float64\n",
      " 2   BBAS3.SA   2823 non-null   float64\n",
      " 3   BBDC3.SA   2823 non-null   float64\n",
      " 4   BBDC4.SA   2823 non-null   float64\n",
      " 5   BEEF3.SA   2823 non-null   float64\n",
      " 6   BRAP4.SA   2823 non-null   float64\n",
      " 7   BRFS3.SA   2823 non-null   float64\n",
      " 8   BRKM5.SA   2823 non-null   float64\n",
      " 9   BRML3.SA   2823 non-null   float64\n",
      " 10  BTOW3.SA   2823 non-null   float64\n",
      " 11  CCRO3.SA   2823 non-null   float64\n",
      " 12  CIEL3.SA   2823 non-null   float64\n",
      " 13  CMIG4.SA   2823 non-null   float64\n",
      " 14  CPFE3.SA   2823 non-null   float64\n",
      " 15  CPLE6.SA   2823 non-null   float64\n",
      " 16  CSAN3.SA   2823 non-null   float64\n",
      " 17  CSNA3.SA   2823 non-null   float64\n",
      " 18  CYRE3.SA   2823 non-null   float64\n",
      " 19  EGIE3.SA   2823 non-null   float64\n",
      " 20  ELET3.SA   2823 non-null   float64\n",
      " 21  ELET6.SA   2823 non-null   float64\n",
      " 22  EMBR3.SA   2823 non-null   float64\n",
      " 23  ENBR3.SA   2823 non-null   float64\n",
      " 24  ENEV3.SA   2823 non-null   float64\n",
      " 25  ENGI11.SA  2823 non-null   float64\n",
      " 26  EQTL3.SA   2823 non-null   float64\n",
      " 27  EZTC3.SA   2823 non-null   float64\n",
      " 28  FLRY3.SA   2823 non-null   float64\n",
      " 29  GGBR4.SA   2823 non-null   float64\n",
      " 30  GOAU4.SA   2823 non-null   float64\n",
      " 31  GOLL4.SA   2823 non-null   float64\n",
      " 32  HGTX3.SA   2823 non-null   float64\n",
      " 33  HYPE3.SA   2823 non-null   float64\n",
      " 34  IGTA3.SA   2823 non-null   float64\n",
      " 35  ITSA4.SA   2823 non-null   float64\n",
      " 36  ITUB4.SA   2823 non-null   float64\n",
      " 37  JBSS3.SA   2823 non-null   float64\n",
      " 38  JHSF3.SA   2823 non-null   float64\n",
      " 39  LAME4.SA   2823 non-null   float64\n",
      " 40  LREN3.SA   2823 non-null   float64\n",
      " 41  MRFG3.SA   2823 non-null   float64\n",
      " 42  MRVE3.SA   2823 non-null   float64\n",
      " 43  MULT3.SA   2823 non-null   float64\n",
      " 44  PCAR3.SA   2823 non-null   float64\n",
      " 45  PETR3.SA   2823 non-null   float64\n",
      " 46  PETR4.SA   2823 non-null   float64\n",
      " 47  RADL3.SA   2823 non-null   float64\n",
      " 48  RENT3.SA   2823 non-null   float64\n",
      " 49  SANB11.SA  2823 non-null   float64\n",
      " 50  SBSP3.SA   2823 non-null   float64\n",
      " 51  SULA11.SA  2823 non-null   float64\n",
      " 52  SUZB3.SA   2823 non-null   float64\n",
      " 53  TAEE11.SA  2823 non-null   float64\n",
      " 54  TIMS3.SA   2823 non-null   float64\n",
      " 55  TOTS3.SA   2823 non-null   float64\n",
      " 56  UGPA3.SA   2823 non-null   float64\n",
      " 57  USIM5.SA   2823 non-null   float64\n",
      " 58  VALE3.SA   2823 non-null   float64\n",
      " 59  VIVT3.SA   2823 non-null   float64\n",
      " 60  VVAR3.SA   2823 non-null   float64\n",
      " 61  WEGE3.SA   2823 non-null   float64\n",
      " 62  YDUQ3.SA   2823 non-null   float64\n",
      "dtypes: float64(63)\n",
      "memory usage: 1.4 MB\n"
     ]
    }
   ],
   "source": [
    "fechamento.info()"
   ]
  },
  {
   "cell_type": "markdown",
   "metadata": {},
   "source": [
    "Capturar linhas em que faltam dados"
   ]
  },
  {
   "cell_type": "code",
   "execution_count": 212,
   "metadata": {},
   "outputs": [],
   "source": [
    "faltam_dados = fechamento.isna().any(axis=1)"
   ]
  },
  {
   "cell_type": "code",
   "execution_count": 213,
   "metadata": {},
   "outputs": [
    {
     "data": {
      "text/plain": [
       "Date\n",
       "2010-01-04    False\n",
       "2010-01-05    False\n",
       "2010-01-06    False\n",
       "2010-01-07    False\n",
       "2010-01-08    False\n",
       "              ...  \n",
       "2021-05-24    False\n",
       "2021-05-25    False\n",
       "2021-05-26    False\n",
       "2021-05-27    False\n",
       "2021-05-28     True\n",
       "Length: 2829, dtype: bool"
      ]
     },
     "execution_count": 213,
     "metadata": {},
     "output_type": "execute_result"
    }
   ],
   "source": [
    "faltam_dados"
   ]
  },
  {
   "cell_type": "markdown",
   "metadata": {},
   "source": [
    "Mostrar onde estão faltando dados"
   ]
  },
  {
   "cell_type": "code",
   "execution_count": 214,
   "metadata": {},
   "outputs": [
    {
     "data": {
      "text/html": [
       "<div>\n",
       "<style scoped>\n",
       "    .dataframe tbody tr th:only-of-type {\n",
       "        vertical-align: middle;\n",
       "    }\n",
       "\n",
       "    .dataframe tbody tr th {\n",
       "        vertical-align: top;\n",
       "    }\n",
       "\n",
       "    .dataframe thead th {\n",
       "        text-align: right;\n",
       "    }\n",
       "</style>\n",
       "<table border=\"1\" class=\"dataframe\">\n",
       "  <thead>\n",
       "    <tr style=\"text-align: right;\">\n",
       "      <th></th>\n",
       "      <th>ABEV3.SA</th>\n",
       "      <th>B3SA3.SA</th>\n",
       "      <th>BBAS3.SA</th>\n",
       "      <th>BBDC3.SA</th>\n",
       "      <th>BBDC4.SA</th>\n",
       "      <th>BEEF3.SA</th>\n",
       "      <th>BRAP4.SA</th>\n",
       "      <th>BRFS3.SA</th>\n",
       "      <th>BRKM5.SA</th>\n",
       "      <th>BRML3.SA</th>\n",
       "      <th>...</th>\n",
       "      <th>TAEE11.SA</th>\n",
       "      <th>TIMS3.SA</th>\n",
       "      <th>TOTS3.SA</th>\n",
       "      <th>UGPA3.SA</th>\n",
       "      <th>USIM5.SA</th>\n",
       "      <th>VALE3.SA</th>\n",
       "      <th>VIVT3.SA</th>\n",
       "      <th>VVAR3.SA</th>\n",
       "      <th>WEGE3.SA</th>\n",
       "      <th>YDUQ3.SA</th>\n",
       "    </tr>\n",
       "    <tr>\n",
       "      <th>Date</th>\n",
       "      <th></th>\n",
       "      <th></th>\n",
       "      <th></th>\n",
       "      <th></th>\n",
       "      <th></th>\n",
       "      <th></th>\n",
       "      <th></th>\n",
       "      <th></th>\n",
       "      <th></th>\n",
       "      <th></th>\n",
       "      <th></th>\n",
       "      <th></th>\n",
       "      <th></th>\n",
       "      <th></th>\n",
       "      <th></th>\n",
       "      <th></th>\n",
       "      <th></th>\n",
       "      <th></th>\n",
       "      <th></th>\n",
       "      <th></th>\n",
       "      <th></th>\n",
       "    </tr>\n",
       "  </thead>\n",
       "  <tbody>\n",
       "    <tr>\n",
       "      <th>2011-02-24</th>\n",
       "      <td>5.154269</td>\n",
       "      <td>NaN</td>\n",
       "      <td>15.349967</td>\n",
       "      <td>6.549831</td>\n",
       "      <td>8.773219</td>\n",
       "      <td>5.108654</td>\n",
       "      <td>26.127470</td>\n",
       "      <td>25.920311</td>\n",
       "      <td>12.361478</td>\n",
       "      <td>8.412016</td>\n",
       "      <td>...</td>\n",
       "      <td>3.700435</td>\n",
       "      <td>5.828107</td>\n",
       "      <td>8.516798</td>\n",
       "      <td>4.681293</td>\n",
       "      <td>18.012421</td>\n",
       "      <td>35.649658</td>\n",
       "      <td>16.844036</td>\n",
       "      <td>5.959057</td>\n",
       "      <td>2.462058</td>\n",
       "      <td>5.798366</td>\n",
       "    </tr>\n",
       "    <tr>\n",
       "      <th>2011-03-09</th>\n",
       "      <td>5.299884</td>\n",
       "      <td>NaN</td>\n",
       "      <td>15.464831</td>\n",
       "      <td>6.842453</td>\n",
       "      <td>8.777110</td>\n",
       "      <td>5.413269</td>\n",
       "      <td>26.500898</td>\n",
       "      <td>25.757629</td>\n",
       "      <td>13.411884</td>\n",
       "      <td>8.972816</td>\n",
       "      <td>...</td>\n",
       "      <td>3.700435</td>\n",
       "      <td>6.153212</td>\n",
       "      <td>8.661706</td>\n",
       "      <td>4.863883</td>\n",
       "      <td>19.677433</td>\n",
       "      <td>35.426853</td>\n",
       "      <td>17.483900</td>\n",
       "      <td>6.403066</td>\n",
       "      <td>2.476443</td>\n",
       "      <td>6.513795</td>\n",
       "    </tr>\n",
       "    <tr>\n",
       "      <th>2012-02-22</th>\n",
       "      <td>NaN</td>\n",
       "      <td>NaN</td>\n",
       "      <td>NaN</td>\n",
       "      <td>NaN</td>\n",
       "      <td>NaN</td>\n",
       "      <td>NaN</td>\n",
       "      <td>NaN</td>\n",
       "      <td>NaN</td>\n",
       "      <td>NaN</td>\n",
       "      <td>NaN</td>\n",
       "      <td>...</td>\n",
       "      <td>NaN</td>\n",
       "      <td>NaN</td>\n",
       "      <td>NaN</td>\n",
       "      <td>NaN</td>\n",
       "      <td>NaN</td>\n",
       "      <td>NaN</td>\n",
       "      <td>NaN</td>\n",
       "      <td>NaN</td>\n",
       "      <td>NaN</td>\n",
       "      <td>NaN</td>\n",
       "    </tr>\n",
       "    <tr>\n",
       "      <th>2019-03-06</th>\n",
       "      <td>NaN</td>\n",
       "      <td>NaN</td>\n",
       "      <td>NaN</td>\n",
       "      <td>NaN</td>\n",
       "      <td>NaN</td>\n",
       "      <td>NaN</td>\n",
       "      <td>NaN</td>\n",
       "      <td>NaN</td>\n",
       "      <td>NaN</td>\n",
       "      <td>NaN</td>\n",
       "      <td>...</td>\n",
       "      <td>NaN</td>\n",
       "      <td>NaN</td>\n",
       "      <td>NaN</td>\n",
       "      <td>NaN</td>\n",
       "      <td>NaN</td>\n",
       "      <td>NaN</td>\n",
       "      <td>NaN</td>\n",
       "      <td>NaN</td>\n",
       "      <td>NaN</td>\n",
       "      <td>NaN</td>\n",
       "    </tr>\n",
       "    <tr>\n",
       "      <th>2020-02-26</th>\n",
       "      <td>NaN</td>\n",
       "      <td>NaN</td>\n",
       "      <td>NaN</td>\n",
       "      <td>NaN</td>\n",
       "      <td>NaN</td>\n",
       "      <td>NaN</td>\n",
       "      <td>NaN</td>\n",
       "      <td>NaN</td>\n",
       "      <td>NaN</td>\n",
       "      <td>NaN</td>\n",
       "      <td>...</td>\n",
       "      <td>NaN</td>\n",
       "      <td>NaN</td>\n",
       "      <td>NaN</td>\n",
       "      <td>NaN</td>\n",
       "      <td>NaN</td>\n",
       "      <td>NaN</td>\n",
       "      <td>NaN</td>\n",
       "      <td>NaN</td>\n",
       "      <td>NaN</td>\n",
       "      <td>NaN</td>\n",
       "    </tr>\n",
       "    <tr>\n",
       "      <th>2021-02-17</th>\n",
       "      <td>NaN</td>\n",
       "      <td>NaN</td>\n",
       "      <td>NaN</td>\n",
       "      <td>NaN</td>\n",
       "      <td>NaN</td>\n",
       "      <td>NaN</td>\n",
       "      <td>NaN</td>\n",
       "      <td>NaN</td>\n",
       "      <td>NaN</td>\n",
       "      <td>NaN</td>\n",
       "      <td>...</td>\n",
       "      <td>NaN</td>\n",
       "      <td>NaN</td>\n",
       "      <td>NaN</td>\n",
       "      <td>NaN</td>\n",
       "      <td>NaN</td>\n",
       "      <td>NaN</td>\n",
       "      <td>NaN</td>\n",
       "      <td>NaN</td>\n",
       "      <td>NaN</td>\n",
       "      <td>NaN</td>\n",
       "    </tr>\n",
       "    <tr>\n",
       "      <th>2021-04-02</th>\n",
       "      <td>NaN</td>\n",
       "      <td>NaN</td>\n",
       "      <td>NaN</td>\n",
       "      <td>NaN</td>\n",
       "      <td>NaN</td>\n",
       "      <td>NaN</td>\n",
       "      <td>NaN</td>\n",
       "      <td>NaN</td>\n",
       "      <td>NaN</td>\n",
       "      <td>NaN</td>\n",
       "      <td>...</td>\n",
       "      <td>NaN</td>\n",
       "      <td>NaN</td>\n",
       "      <td>NaN</td>\n",
       "      <td>NaN</td>\n",
       "      <td>NaN</td>\n",
       "      <td>NaN</td>\n",
       "      <td>NaN</td>\n",
       "      <td>NaN</td>\n",
       "      <td>NaN</td>\n",
       "      <td>NaN</td>\n",
       "    </tr>\n",
       "    <tr>\n",
       "      <th>2021-05-28</th>\n",
       "      <td>NaN</td>\n",
       "      <td>NaN</td>\n",
       "      <td>NaN</td>\n",
       "      <td>NaN</td>\n",
       "      <td>NaN</td>\n",
       "      <td>NaN</td>\n",
       "      <td>NaN</td>\n",
       "      <td>NaN</td>\n",
       "      <td>NaN</td>\n",
       "      <td>NaN</td>\n",
       "      <td>...</td>\n",
       "      <td>NaN</td>\n",
       "      <td>NaN</td>\n",
       "      <td>NaN</td>\n",
       "      <td>NaN</td>\n",
       "      <td>NaN</td>\n",
       "      <td>NaN</td>\n",
       "      <td>NaN</td>\n",
       "      <td>NaN</td>\n",
       "      <td>NaN</td>\n",
       "      <td>NaN</td>\n",
       "    </tr>\n",
       "  </tbody>\n",
       "</table>\n",
       "<p>8 rows × 63 columns</p>\n",
       "</div>"
      ],
      "text/plain": [
       "            ABEV3.SA  B3SA3.SA   BBAS3.SA  BBDC3.SA  BBDC4.SA  BEEF3.SA  \\\n",
       "Date                                                                      \n",
       "2011-02-24  5.154269       NaN  15.349967  6.549831  8.773219  5.108654   \n",
       "2011-03-09  5.299884       NaN  15.464831  6.842453  8.777110  5.413269   \n",
       "2012-02-22       NaN       NaN        NaN       NaN       NaN       NaN   \n",
       "2019-03-06       NaN       NaN        NaN       NaN       NaN       NaN   \n",
       "2020-02-26       NaN       NaN        NaN       NaN       NaN       NaN   \n",
       "2021-02-17       NaN       NaN        NaN       NaN       NaN       NaN   \n",
       "2021-04-02       NaN       NaN        NaN       NaN       NaN       NaN   \n",
       "2021-05-28       NaN       NaN        NaN       NaN       NaN       NaN   \n",
       "\n",
       "             BRAP4.SA   BRFS3.SA   BRKM5.SA  BRML3.SA  ...  TAEE11.SA  \\\n",
       "Date                                                   ...              \n",
       "2011-02-24  26.127470  25.920311  12.361478  8.412016  ...   3.700435   \n",
       "2011-03-09  26.500898  25.757629  13.411884  8.972816  ...   3.700435   \n",
       "2012-02-22        NaN        NaN        NaN       NaN  ...        NaN   \n",
       "2019-03-06        NaN        NaN        NaN       NaN  ...        NaN   \n",
       "2020-02-26        NaN        NaN        NaN       NaN  ...        NaN   \n",
       "2021-02-17        NaN        NaN        NaN       NaN  ...        NaN   \n",
       "2021-04-02        NaN        NaN        NaN       NaN  ...        NaN   \n",
       "2021-05-28        NaN        NaN        NaN       NaN  ...        NaN   \n",
       "\n",
       "            TIMS3.SA  TOTS3.SA  UGPA3.SA   USIM5.SA   VALE3.SA   VIVT3.SA  \\\n",
       "Date                                                                        \n",
       "2011-02-24  5.828107  8.516798  4.681293  18.012421  35.649658  16.844036   \n",
       "2011-03-09  6.153212  8.661706  4.863883  19.677433  35.426853  17.483900   \n",
       "2012-02-22       NaN       NaN       NaN        NaN        NaN        NaN   \n",
       "2019-03-06       NaN       NaN       NaN        NaN        NaN        NaN   \n",
       "2020-02-26       NaN       NaN       NaN        NaN        NaN        NaN   \n",
       "2021-02-17       NaN       NaN       NaN        NaN        NaN        NaN   \n",
       "2021-04-02       NaN       NaN       NaN        NaN        NaN        NaN   \n",
       "2021-05-28       NaN       NaN       NaN        NaN        NaN        NaN   \n",
       "\n",
       "            VVAR3.SA  WEGE3.SA  YDUQ3.SA  \n",
       "Date                                      \n",
       "2011-02-24  5.959057  2.462058  5.798366  \n",
       "2011-03-09  6.403066  2.476443  6.513795  \n",
       "2012-02-22       NaN       NaN       NaN  \n",
       "2019-03-06       NaN       NaN       NaN  \n",
       "2020-02-26       NaN       NaN       NaN  \n",
       "2021-02-17       NaN       NaN       NaN  \n",
       "2021-04-02       NaN       NaN       NaN  \n",
       "2021-05-28       NaN       NaN       NaN  \n",
       "\n",
       "[8 rows x 63 columns]"
      ]
     },
     "execution_count": 214,
     "metadata": {},
     "output_type": "execute_result"
    }
   ],
   "source": [
    "fechamento[faltam_dados]"
   ]
  },
  {
   "cell_type": "markdown",
   "metadata": {},
   "source": [
    "Eliminar as linhas onde todas as culas estão vazias"
   ]
  },
  {
   "cell_type": "code",
   "execution_count": 215,
   "metadata": {},
   "outputs": [],
   "source": [
    "fechamento.dropna(how='all',inplace=True)"
   ]
  },
  {
   "cell_type": "markdown",
   "metadata": {},
   "source": [
    "Exibir novamente linhas onda ainda faltam dados"
   ]
  },
  {
   "cell_type": "code",
   "execution_count": 216,
   "metadata": {},
   "outputs": [
    {
     "name": "stderr",
     "output_type": "stream",
     "text": [
      "<ipython-input-216-ab1df5705a56>:1: UserWarning:\n",
      "\n",
      "Boolean Series key will be reindexed to match DataFrame index.\n",
      "\n"
     ]
    },
    {
     "data": {
      "text/html": [
       "<div>\n",
       "<style scoped>\n",
       "    .dataframe tbody tr th:only-of-type {\n",
       "        vertical-align: middle;\n",
       "    }\n",
       "\n",
       "    .dataframe tbody tr th {\n",
       "        vertical-align: top;\n",
       "    }\n",
       "\n",
       "    .dataframe thead th {\n",
       "        text-align: right;\n",
       "    }\n",
       "</style>\n",
       "<table border=\"1\" class=\"dataframe\">\n",
       "  <thead>\n",
       "    <tr style=\"text-align: right;\">\n",
       "      <th></th>\n",
       "      <th>ABEV3.SA</th>\n",
       "      <th>B3SA3.SA</th>\n",
       "      <th>BBAS3.SA</th>\n",
       "      <th>BBDC3.SA</th>\n",
       "      <th>BBDC4.SA</th>\n",
       "      <th>BEEF3.SA</th>\n",
       "      <th>BRAP4.SA</th>\n",
       "      <th>BRFS3.SA</th>\n",
       "      <th>BRKM5.SA</th>\n",
       "      <th>BRML3.SA</th>\n",
       "      <th>...</th>\n",
       "      <th>TAEE11.SA</th>\n",
       "      <th>TIMS3.SA</th>\n",
       "      <th>TOTS3.SA</th>\n",
       "      <th>UGPA3.SA</th>\n",
       "      <th>USIM5.SA</th>\n",
       "      <th>VALE3.SA</th>\n",
       "      <th>VIVT3.SA</th>\n",
       "      <th>VVAR3.SA</th>\n",
       "      <th>WEGE3.SA</th>\n",
       "      <th>YDUQ3.SA</th>\n",
       "    </tr>\n",
       "    <tr>\n",
       "      <th>Date</th>\n",
       "      <th></th>\n",
       "      <th></th>\n",
       "      <th></th>\n",
       "      <th></th>\n",
       "      <th></th>\n",
       "      <th></th>\n",
       "      <th></th>\n",
       "      <th></th>\n",
       "      <th></th>\n",
       "      <th></th>\n",
       "      <th></th>\n",
       "      <th></th>\n",
       "      <th></th>\n",
       "      <th></th>\n",
       "      <th></th>\n",
       "      <th></th>\n",
       "      <th></th>\n",
       "      <th></th>\n",
       "      <th></th>\n",
       "      <th></th>\n",
       "      <th></th>\n",
       "    </tr>\n",
       "  </thead>\n",
       "  <tbody>\n",
       "    <tr>\n",
       "      <th>2011-02-24</th>\n",
       "      <td>5.154269</td>\n",
       "      <td>NaN</td>\n",
       "      <td>15.349967</td>\n",
       "      <td>6.549831</td>\n",
       "      <td>8.773219</td>\n",
       "      <td>5.108654</td>\n",
       "      <td>26.127470</td>\n",
       "      <td>25.920311</td>\n",
       "      <td>12.361478</td>\n",
       "      <td>8.412016</td>\n",
       "      <td>...</td>\n",
       "      <td>3.700435</td>\n",
       "      <td>5.828107</td>\n",
       "      <td>8.516798</td>\n",
       "      <td>4.681293</td>\n",
       "      <td>18.012421</td>\n",
       "      <td>35.649658</td>\n",
       "      <td>16.844036</td>\n",
       "      <td>5.959057</td>\n",
       "      <td>2.462058</td>\n",
       "      <td>5.798366</td>\n",
       "    </tr>\n",
       "    <tr>\n",
       "      <th>2011-03-09</th>\n",
       "      <td>5.299884</td>\n",
       "      <td>NaN</td>\n",
       "      <td>15.464831</td>\n",
       "      <td>6.842453</td>\n",
       "      <td>8.777110</td>\n",
       "      <td>5.413269</td>\n",
       "      <td>26.500898</td>\n",
       "      <td>25.757629</td>\n",
       "      <td>13.411884</td>\n",
       "      <td>8.972816</td>\n",
       "      <td>...</td>\n",
       "      <td>3.700435</td>\n",
       "      <td>6.153212</td>\n",
       "      <td>8.661706</td>\n",
       "      <td>4.863883</td>\n",
       "      <td>19.677433</td>\n",
       "      <td>35.426853</td>\n",
       "      <td>17.483900</td>\n",
       "      <td>6.403066</td>\n",
       "      <td>2.476443</td>\n",
       "      <td>6.513795</td>\n",
       "    </tr>\n",
       "  </tbody>\n",
       "</table>\n",
       "<p>2 rows × 63 columns</p>\n",
       "</div>"
      ],
      "text/plain": [
       "            ABEV3.SA  B3SA3.SA   BBAS3.SA  BBDC3.SA  BBDC4.SA  BEEF3.SA  \\\n",
       "Date                                                                      \n",
       "2011-02-24  5.154269       NaN  15.349967  6.549831  8.773219  5.108654   \n",
       "2011-03-09  5.299884       NaN  15.464831  6.842453  8.777110  5.413269   \n",
       "\n",
       "             BRAP4.SA   BRFS3.SA   BRKM5.SA  BRML3.SA  ...  TAEE11.SA  \\\n",
       "Date                                                   ...              \n",
       "2011-02-24  26.127470  25.920311  12.361478  8.412016  ...   3.700435   \n",
       "2011-03-09  26.500898  25.757629  13.411884  8.972816  ...   3.700435   \n",
       "\n",
       "            TIMS3.SA  TOTS3.SA  UGPA3.SA   USIM5.SA   VALE3.SA   VIVT3.SA  \\\n",
       "Date                                                                        \n",
       "2011-02-24  5.828107  8.516798  4.681293  18.012421  35.649658  16.844036   \n",
       "2011-03-09  6.153212  8.661706  4.863883  19.677433  35.426853  17.483900   \n",
       "\n",
       "            VVAR3.SA  WEGE3.SA  YDUQ3.SA  \n",
       "Date                                      \n",
       "2011-02-24  5.959057  2.462058  5.798366  \n",
       "2011-03-09  6.403066  2.476443  6.513795  \n",
       "\n",
       "[2 rows x 63 columns]"
      ]
     },
     "execution_count": 216,
     "metadata": {},
     "output_type": "execute_result"
    }
   ],
   "source": [
    "fechamento[faltam_dados]"
   ]
  },
  {
   "cell_type": "markdown",
   "metadata": {},
   "source": [
    "Utilizar metodo \"fillna\" e repetir o último dado válido"
   ]
  },
  {
   "cell_type": "code",
   "execution_count": 217,
   "metadata": {},
   "outputs": [],
   "source": [
    "fechamento.fillna(method='ffill', inplace=True)"
   ]
  },
  {
   "cell_type": "markdown",
   "metadata": {},
   "source": [
    "Exibir como ficou depois de adicionar os dados "
   ]
  },
  {
   "cell_type": "code",
   "execution_count": 219,
   "metadata": {},
   "outputs": [
    {
     "name": "stderr",
     "output_type": "stream",
     "text": [
      "<ipython-input-219-ab1df5705a56>:1: UserWarning:\n",
      "\n",
      "Boolean Series key will be reindexed to match DataFrame index.\n",
      "\n"
     ]
    },
    {
     "data": {
      "text/html": [
       "<div>\n",
       "<style scoped>\n",
       "    .dataframe tbody tr th:only-of-type {\n",
       "        vertical-align: middle;\n",
       "    }\n",
       "\n",
       "    .dataframe tbody tr th {\n",
       "        vertical-align: top;\n",
       "    }\n",
       "\n",
       "    .dataframe thead th {\n",
       "        text-align: right;\n",
       "    }\n",
       "</style>\n",
       "<table border=\"1\" class=\"dataframe\">\n",
       "  <thead>\n",
       "    <tr style=\"text-align: right;\">\n",
       "      <th></th>\n",
       "      <th>ABEV3.SA</th>\n",
       "      <th>B3SA3.SA</th>\n",
       "      <th>BBAS3.SA</th>\n",
       "      <th>BBDC3.SA</th>\n",
       "      <th>BBDC4.SA</th>\n",
       "      <th>BEEF3.SA</th>\n",
       "      <th>BRAP4.SA</th>\n",
       "      <th>BRFS3.SA</th>\n",
       "      <th>BRKM5.SA</th>\n",
       "      <th>BRML3.SA</th>\n",
       "      <th>...</th>\n",
       "      <th>TAEE11.SA</th>\n",
       "      <th>TIMS3.SA</th>\n",
       "      <th>TOTS3.SA</th>\n",
       "      <th>UGPA3.SA</th>\n",
       "      <th>USIM5.SA</th>\n",
       "      <th>VALE3.SA</th>\n",
       "      <th>VIVT3.SA</th>\n",
       "      <th>VVAR3.SA</th>\n",
       "      <th>WEGE3.SA</th>\n",
       "      <th>YDUQ3.SA</th>\n",
       "    </tr>\n",
       "    <tr>\n",
       "      <th>Date</th>\n",
       "      <th></th>\n",
       "      <th></th>\n",
       "      <th></th>\n",
       "      <th></th>\n",
       "      <th></th>\n",
       "      <th></th>\n",
       "      <th></th>\n",
       "      <th></th>\n",
       "      <th></th>\n",
       "      <th></th>\n",
       "      <th></th>\n",
       "      <th></th>\n",
       "      <th></th>\n",
       "      <th></th>\n",
       "      <th></th>\n",
       "      <th></th>\n",
       "      <th></th>\n",
       "      <th></th>\n",
       "      <th></th>\n",
       "      <th></th>\n",
       "      <th></th>\n",
       "    </tr>\n",
       "  </thead>\n",
       "  <tbody>\n",
       "    <tr>\n",
       "      <th>2011-02-24</th>\n",
       "      <td>5.154269</td>\n",
       "      <td>7.475878</td>\n",
       "      <td>15.349967</td>\n",
       "      <td>6.549831</td>\n",
       "      <td>8.773219</td>\n",
       "      <td>5.108654</td>\n",
       "      <td>26.127470</td>\n",
       "      <td>25.920311</td>\n",
       "      <td>12.361478</td>\n",
       "      <td>8.412016</td>\n",
       "      <td>...</td>\n",
       "      <td>3.700435</td>\n",
       "      <td>5.828107</td>\n",
       "      <td>8.516798</td>\n",
       "      <td>4.681293</td>\n",
       "      <td>18.012421</td>\n",
       "      <td>35.649658</td>\n",
       "      <td>16.844036</td>\n",
       "      <td>5.959057</td>\n",
       "      <td>2.462058</td>\n",
       "      <td>5.798366</td>\n",
       "    </tr>\n",
       "    <tr>\n",
       "      <th>2011-03-09</th>\n",
       "      <td>5.299884</td>\n",
       "      <td>7.786529</td>\n",
       "      <td>15.464831</td>\n",
       "      <td>6.842453</td>\n",
       "      <td>8.777110</td>\n",
       "      <td>5.413269</td>\n",
       "      <td>26.500898</td>\n",
       "      <td>25.757629</td>\n",
       "      <td>13.411884</td>\n",
       "      <td>8.972816</td>\n",
       "      <td>...</td>\n",
       "      <td>3.700435</td>\n",
       "      <td>6.153212</td>\n",
       "      <td>8.661706</td>\n",
       "      <td>4.863883</td>\n",
       "      <td>19.677433</td>\n",
       "      <td>35.426853</td>\n",
       "      <td>17.483900</td>\n",
       "      <td>6.403066</td>\n",
       "      <td>2.476443</td>\n",
       "      <td>6.513795</td>\n",
       "    </tr>\n",
       "  </tbody>\n",
       "</table>\n",
       "<p>2 rows × 63 columns</p>\n",
       "</div>"
      ],
      "text/plain": [
       "            ABEV3.SA  B3SA3.SA   BBAS3.SA  BBDC3.SA  BBDC4.SA  BEEF3.SA  \\\n",
       "Date                                                                      \n",
       "2011-02-24  5.154269  7.475878  15.349967  6.549831  8.773219  5.108654   \n",
       "2011-03-09  5.299884  7.786529  15.464831  6.842453  8.777110  5.413269   \n",
       "\n",
       "             BRAP4.SA   BRFS3.SA   BRKM5.SA  BRML3.SA  ...  TAEE11.SA  \\\n",
       "Date                                                   ...              \n",
       "2011-02-24  26.127470  25.920311  12.361478  8.412016  ...   3.700435   \n",
       "2011-03-09  26.500898  25.757629  13.411884  8.972816  ...   3.700435   \n",
       "\n",
       "            TIMS3.SA  TOTS3.SA  UGPA3.SA   USIM5.SA   VALE3.SA   VIVT3.SA  \\\n",
       "Date                                                                        \n",
       "2011-02-24  5.828107  8.516798  4.681293  18.012421  35.649658  16.844036   \n",
       "2011-03-09  6.153212  8.661706  4.863883  19.677433  35.426853  17.483900   \n",
       "\n",
       "            VVAR3.SA  WEGE3.SA  YDUQ3.SA  \n",
       "Date                                      \n",
       "2011-02-24  5.959057  2.462058  5.798366  \n",
       "2011-03-09  6.403066  2.476443  6.513795  \n",
       "\n",
       "[2 rows x 63 columns]"
      ]
     },
     "execution_count": 219,
     "metadata": {},
     "output_type": "execute_result"
    }
   ],
   "source": [
    "fechamento[faltam_dados]"
   ]
  },
  {
   "cell_type": "markdown",
   "metadata": {},
   "source": [
    "Mostrar as linhas anteriores de onde foi inserido dados em B3SA3"
   ]
  },
  {
   "cell_type": "code",
   "execution_count": 221,
   "metadata": {},
   "outputs": [
    {
     "data": {
      "text/html": [
       "<div>\n",
       "<style scoped>\n",
       "    .dataframe tbody tr th:only-of-type {\n",
       "        vertical-align: middle;\n",
       "    }\n",
       "\n",
       "    .dataframe tbody tr th {\n",
       "        vertical-align: top;\n",
       "    }\n",
       "\n",
       "    .dataframe thead th {\n",
       "        text-align: right;\n",
       "    }\n",
       "</style>\n",
       "<table border=\"1\" class=\"dataframe\">\n",
       "  <thead>\n",
       "    <tr style=\"text-align: right;\">\n",
       "      <th></th>\n",
       "      <th>ABEV3.SA</th>\n",
       "      <th>B3SA3.SA</th>\n",
       "      <th>BBAS3.SA</th>\n",
       "      <th>BBDC3.SA</th>\n",
       "      <th>BBDC4.SA</th>\n",
       "      <th>BEEF3.SA</th>\n",
       "      <th>BRAP4.SA</th>\n",
       "      <th>BRFS3.SA</th>\n",
       "      <th>BRKM5.SA</th>\n",
       "      <th>BRML3.SA</th>\n",
       "      <th>...</th>\n",
       "      <th>TAEE11.SA</th>\n",
       "      <th>TIMS3.SA</th>\n",
       "      <th>TOTS3.SA</th>\n",
       "      <th>UGPA3.SA</th>\n",
       "      <th>USIM5.SA</th>\n",
       "      <th>VALE3.SA</th>\n",
       "      <th>VIVT3.SA</th>\n",
       "      <th>VVAR3.SA</th>\n",
       "      <th>WEGE3.SA</th>\n",
       "      <th>YDUQ3.SA</th>\n",
       "    </tr>\n",
       "    <tr>\n",
       "      <th>Date</th>\n",
       "      <th></th>\n",
       "      <th></th>\n",
       "      <th></th>\n",
       "      <th></th>\n",
       "      <th></th>\n",
       "      <th></th>\n",
       "      <th></th>\n",
       "      <th></th>\n",
       "      <th></th>\n",
       "      <th></th>\n",
       "      <th></th>\n",
       "      <th></th>\n",
       "      <th></th>\n",
       "      <th></th>\n",
       "      <th></th>\n",
       "      <th></th>\n",
       "      <th></th>\n",
       "      <th></th>\n",
       "      <th></th>\n",
       "      <th></th>\n",
       "      <th></th>\n",
       "    </tr>\n",
       "  </thead>\n",
       "  <tbody>\n",
       "    <tr>\n",
       "      <th>2011-02-22</th>\n",
       "      <td>5.251781</td>\n",
       "      <td>7.435361</td>\n",
       "      <td>15.323864</td>\n",
       "      <td>6.523314</td>\n",
       "      <td>8.773219</td>\n",
       "      <td>5.384571</td>\n",
       "      <td>25.998924</td>\n",
       "      <td>26.435461</td>\n",
       "      <td>12.412717</td>\n",
       "      <td>8.468096</td>\n",
       "      <td>...</td>\n",
       "      <td>3.700435</td>\n",
       "      <td>5.828107</td>\n",
       "      <td>8.672683</td>\n",
       "      <td>4.681293</td>\n",
       "      <td>18.996288</td>\n",
       "      <td>35.000328</td>\n",
       "      <td>16.695728</td>\n",
       "      <td>5.959057</td>\n",
       "      <td>2.477281</td>\n",
       "      <td>5.873293</td>\n",
       "    </tr>\n",
       "    <tr>\n",
       "      <th>2011-02-23</th>\n",
       "      <td>5.154269</td>\n",
       "      <td>7.475878</td>\n",
       "      <td>15.349967</td>\n",
       "      <td>6.549831</td>\n",
       "      <td>8.773219</td>\n",
       "      <td>5.108654</td>\n",
       "      <td>26.127470</td>\n",
       "      <td>25.920311</td>\n",
       "      <td>12.361478</td>\n",
       "      <td>8.412016</td>\n",
       "      <td>...</td>\n",
       "      <td>3.700435</td>\n",
       "      <td>5.828107</td>\n",
       "      <td>8.516798</td>\n",
       "      <td>4.681293</td>\n",
       "      <td>18.012421</td>\n",
       "      <td>35.649658</td>\n",
       "      <td>16.844036</td>\n",
       "      <td>5.959057</td>\n",
       "      <td>2.462058</td>\n",
       "      <td>5.798366</td>\n",
       "    </tr>\n",
       "    <tr>\n",
       "      <th>2011-02-24</th>\n",
       "      <td>5.154269</td>\n",
       "      <td>7.475878</td>\n",
       "      <td>15.349967</td>\n",
       "      <td>6.549831</td>\n",
       "      <td>8.773219</td>\n",
       "      <td>5.108654</td>\n",
       "      <td>26.127470</td>\n",
       "      <td>25.920311</td>\n",
       "      <td>12.361478</td>\n",
       "      <td>8.412016</td>\n",
       "      <td>...</td>\n",
       "      <td>3.700435</td>\n",
       "      <td>5.828107</td>\n",
       "      <td>8.516798</td>\n",
       "      <td>4.681293</td>\n",
       "      <td>18.012421</td>\n",
       "      <td>35.649658</td>\n",
       "      <td>16.844036</td>\n",
       "      <td>5.959057</td>\n",
       "      <td>2.462058</td>\n",
       "      <td>5.798366</td>\n",
       "    </tr>\n",
       "  </tbody>\n",
       "</table>\n",
       "<p>3 rows × 63 columns</p>\n",
       "</div>"
      ],
      "text/plain": [
       "            ABEV3.SA  B3SA3.SA   BBAS3.SA  BBDC3.SA  BBDC4.SA  BEEF3.SA  \\\n",
       "Date                                                                      \n",
       "2011-02-22  5.251781  7.435361  15.323864  6.523314  8.773219  5.384571   \n",
       "2011-02-23  5.154269  7.475878  15.349967  6.549831  8.773219  5.108654   \n",
       "2011-02-24  5.154269  7.475878  15.349967  6.549831  8.773219  5.108654   \n",
       "\n",
       "             BRAP4.SA   BRFS3.SA   BRKM5.SA  BRML3.SA  ...  TAEE11.SA  \\\n",
       "Date                                                   ...              \n",
       "2011-02-22  25.998924  26.435461  12.412717  8.468096  ...   3.700435   \n",
       "2011-02-23  26.127470  25.920311  12.361478  8.412016  ...   3.700435   \n",
       "2011-02-24  26.127470  25.920311  12.361478  8.412016  ...   3.700435   \n",
       "\n",
       "            TIMS3.SA  TOTS3.SA  UGPA3.SA   USIM5.SA   VALE3.SA   VIVT3.SA  \\\n",
       "Date                                                                        \n",
       "2011-02-22  5.828107  8.672683  4.681293  18.996288  35.000328  16.695728   \n",
       "2011-02-23  5.828107  8.516798  4.681293  18.012421  35.649658  16.844036   \n",
       "2011-02-24  5.828107  8.516798  4.681293  18.012421  35.649658  16.844036   \n",
       "\n",
       "            VVAR3.SA  WEGE3.SA  YDUQ3.SA  \n",
       "Date                                      \n",
       "2011-02-22  5.959057  2.477281  5.873293  \n",
       "2011-02-23  5.959057  2.462058  5.798366  \n",
       "2011-02-24  5.959057  2.462058  5.798366  \n",
       "\n",
       "[3 rows x 63 columns]"
      ]
     },
     "execution_count": 221,
     "metadata": {},
     "output_type": "execute_result"
    }
   ],
   "source": [
    "fechamento['2011-02-22': '2011-02-24']"
   ]
  },
  {
   "cell_type": "markdown",
   "metadata": {},
   "source": [
    "Dataframe completo"
   ]
  },
  {
   "cell_type": "code",
   "execution_count": 222,
   "metadata": {},
   "outputs": [
    {
     "data": {
      "text/html": [
       "<div>\n",
       "<style scoped>\n",
       "    .dataframe tbody tr th:only-of-type {\n",
       "        vertical-align: middle;\n",
       "    }\n",
       "\n",
       "    .dataframe tbody tr th {\n",
       "        vertical-align: top;\n",
       "    }\n",
       "\n",
       "    .dataframe thead th {\n",
       "        text-align: right;\n",
       "    }\n",
       "</style>\n",
       "<table border=\"1\" class=\"dataframe\">\n",
       "  <thead>\n",
       "    <tr style=\"text-align: right;\">\n",
       "      <th></th>\n",
       "      <th>ABEV3.SA</th>\n",
       "      <th>B3SA3.SA</th>\n",
       "      <th>BBAS3.SA</th>\n",
       "      <th>BBDC3.SA</th>\n",
       "      <th>BBDC4.SA</th>\n",
       "      <th>BEEF3.SA</th>\n",
       "      <th>BRAP4.SA</th>\n",
       "      <th>BRFS3.SA</th>\n",
       "      <th>BRKM5.SA</th>\n",
       "      <th>BRML3.SA</th>\n",
       "      <th>...</th>\n",
       "      <th>TAEE11.SA</th>\n",
       "      <th>TIMS3.SA</th>\n",
       "      <th>TOTS3.SA</th>\n",
       "      <th>UGPA3.SA</th>\n",
       "      <th>USIM5.SA</th>\n",
       "      <th>VALE3.SA</th>\n",
       "      <th>VIVT3.SA</th>\n",
       "      <th>VVAR3.SA</th>\n",
       "      <th>WEGE3.SA</th>\n",
       "      <th>YDUQ3.SA</th>\n",
       "    </tr>\n",
       "    <tr>\n",
       "      <th>Date</th>\n",
       "      <th></th>\n",
       "      <th></th>\n",
       "      <th></th>\n",
       "      <th></th>\n",
       "      <th></th>\n",
       "      <th></th>\n",
       "      <th></th>\n",
       "      <th></th>\n",
       "      <th></th>\n",
       "      <th></th>\n",
       "      <th></th>\n",
       "      <th></th>\n",
       "      <th></th>\n",
       "      <th></th>\n",
       "      <th></th>\n",
       "      <th></th>\n",
       "      <th></th>\n",
       "      <th></th>\n",
       "      <th></th>\n",
       "      <th></th>\n",
       "      <th></th>\n",
       "    </tr>\n",
       "  </thead>\n",
       "  <tbody>\n",
       "    <tr>\n",
       "      <th>2010-01-04</th>\n",
       "      <td>4.187932</td>\n",
       "      <td>8.628860</td>\n",
       "      <td>14.528081</td>\n",
       "      <td>6.571734</td>\n",
       "      <td>10.772735</td>\n",
       "      <td>4.866180</td>\n",
       "      <td>23.492781</td>\n",
       "      <td>20.497267</td>\n",
       "      <td>9.126999</td>\n",
       "      <td>5.925205</td>\n",
       "      <td>...</td>\n",
       "      <td>4.293434</td>\n",
       "      <td>5.570551</td>\n",
       "      <td>6.437285</td>\n",
       "      <td>5.210743</td>\n",
       "      <td>23.545773</td>\n",
       "      <td>32.089706</td>\n",
       "      <td>14.515941</td>\n",
       "      <td>3.633857</td>\n",
       "      <td>2.144630</td>\n",
       "      <td>5.748117</td>\n",
       "    </tr>\n",
       "    <tr>\n",
       "      <th>2010-01-05</th>\n",
       "      <td>4.212566</td>\n",
       "      <td>8.662180</td>\n",
       "      <td>14.382313</td>\n",
       "      <td>6.481225</td>\n",
       "      <td>10.719337</td>\n",
       "      <td>5.058487</td>\n",
       "      <td>23.966238</td>\n",
       "      <td>20.712132</td>\n",
       "      <td>9.043734</td>\n",
       "      <td>6.034931</td>\n",
       "      <td>...</td>\n",
       "      <td>4.294581</td>\n",
       "      <td>5.973989</td>\n",
       "      <td>6.329549</td>\n",
       "      <td>5.210743</td>\n",
       "      <td>23.615026</td>\n",
       "      <td>32.388855</td>\n",
       "      <td>14.462154</td>\n",
       "      <td>3.542718</td>\n",
       "      <td>2.139949</td>\n",
       "      <td>5.816971</td>\n",
       "    </tr>\n",
       "    <tr>\n",
       "      <th>2010-01-06</th>\n",
       "      <td>4.255542</td>\n",
       "      <td>8.988673</td>\n",
       "      <td>14.401743</td>\n",
       "      <td>6.443053</td>\n",
       "      <td>10.633589</td>\n",
       "      <td>5.309321</td>\n",
       "      <td>24.301846</td>\n",
       "      <td>20.994143</td>\n",
       "      <td>9.261502</td>\n",
       "      <td>6.309246</td>\n",
       "      <td>...</td>\n",
       "      <td>4.294581</td>\n",
       "      <td>5.896405</td>\n",
       "      <td>6.367256</td>\n",
       "      <td>5.210743</td>\n",
       "      <td>23.591938</td>\n",
       "      <td>33.074394</td>\n",
       "      <td>14.216256</td>\n",
       "      <td>3.507665</td>\n",
       "      <td>2.151650</td>\n",
       "      <td>5.911942</td>\n",
       "    </tr>\n",
       "    <tr>\n",
       "      <th>2010-01-07</th>\n",
       "      <td>4.275523</td>\n",
       "      <td>9.201899</td>\n",
       "      <td>14.406603</td>\n",
       "      <td>6.428204</td>\n",
       "      <td>10.605004</td>\n",
       "      <td>5.426377</td>\n",
       "      <td>24.571537</td>\n",
       "      <td>20.864334</td>\n",
       "      <td>9.030926</td>\n",
       "      <td>6.226951</td>\n",
       "      <td>...</td>\n",
       "      <td>4.294581</td>\n",
       "      <td>5.764512</td>\n",
       "      <td>6.372643</td>\n",
       "      <td>5.210743</td>\n",
       "      <td>23.813549</td>\n",
       "      <td>33.211502</td>\n",
       "      <td>14.216256</td>\n",
       "      <td>3.517013</td>\n",
       "      <td>2.187921</td>\n",
       "      <td>5.816971</td>\n",
       "    </tr>\n",
       "    <tr>\n",
       "      <th>2010-01-08</th>\n",
       "      <td>4.267311</td>\n",
       "      <td>8.988673</td>\n",
       "      <td>14.489205</td>\n",
       "      <td>6.436686</td>\n",
       "      <td>10.593570</td>\n",
       "      <td>5.769184</td>\n",
       "      <td>24.931112</td>\n",
       "      <td>20.949381</td>\n",
       "      <td>8.902826</td>\n",
       "      <td>6.172088</td>\n",
       "      <td>...</td>\n",
       "      <td>4.285413</td>\n",
       "      <td>5.702444</td>\n",
       "      <td>6.434592</td>\n",
       "      <td>5.210743</td>\n",
       "      <td>23.476517</td>\n",
       "      <td>33.535576</td>\n",
       "      <td>14.204722</td>\n",
       "      <td>3.514676</td>\n",
       "      <td>2.267481</td>\n",
       "      <td>5.816971</td>\n",
       "    </tr>\n",
       "    <tr>\n",
       "      <th>...</th>\n",
       "      <td>...</td>\n",
       "      <td>...</td>\n",
       "      <td>...</td>\n",
       "      <td>...</td>\n",
       "      <td>...</td>\n",
       "      <td>...</td>\n",
       "      <td>...</td>\n",
       "      <td>...</td>\n",
       "      <td>...</td>\n",
       "      <td>...</td>\n",
       "      <td>...</td>\n",
       "      <td>...</td>\n",
       "      <td>...</td>\n",
       "      <td>...</td>\n",
       "      <td>...</td>\n",
       "      <td>...</td>\n",
       "      <td>...</td>\n",
       "      <td>...</td>\n",
       "      <td>...</td>\n",
       "      <td>...</td>\n",
       "      <td>...</td>\n",
       "    </tr>\n",
       "    <tr>\n",
       "      <th>2021-05-21</th>\n",
       "      <td>17.610001</td>\n",
       "      <td>17.350000</td>\n",
       "      <td>32.665558</td>\n",
       "      <td>22.440001</td>\n",
       "      <td>25.930000</td>\n",
       "      <td>9.660000</td>\n",
       "      <td>70.120003</td>\n",
       "      <td>26.930000</td>\n",
       "      <td>50.820000</td>\n",
       "      <td>10.850000</td>\n",
       "      <td>...</td>\n",
       "      <td>39.520000</td>\n",
       "      <td>11.900000</td>\n",
       "      <td>30.879999</td>\n",
       "      <td>19.340000</td>\n",
       "      <td>19.874838</td>\n",
       "      <td>109.400002</td>\n",
       "      <td>43.830002</td>\n",
       "      <td>11.870000</td>\n",
       "      <td>31.709999</td>\n",
       "      <td>30.070000</td>\n",
       "    </tr>\n",
       "    <tr>\n",
       "      <th>2021-05-24</th>\n",
       "      <td>17.629999</td>\n",
       "      <td>17.450001</td>\n",
       "      <td>32.880001</td>\n",
       "      <td>22.520000</td>\n",
       "      <td>25.860001</td>\n",
       "      <td>9.830000</td>\n",
       "      <td>69.949997</td>\n",
       "      <td>26.209999</td>\n",
       "      <td>50.599998</td>\n",
       "      <td>10.830000</td>\n",
       "      <td>...</td>\n",
       "      <td>39.990002</td>\n",
       "      <td>12.050000</td>\n",
       "      <td>32.549999</td>\n",
       "      <td>19.180000</td>\n",
       "      <td>20.054792</td>\n",
       "      <td>109.779999</td>\n",
       "      <td>44.290001</td>\n",
       "      <td>12.460000</td>\n",
       "      <td>32.650002</td>\n",
       "      <td>30.350000</td>\n",
       "    </tr>\n",
       "    <tr>\n",
       "      <th>2021-05-25</th>\n",
       "      <td>17.610001</td>\n",
       "      <td>17.000000</td>\n",
       "      <td>32.439999</td>\n",
       "      <td>22.299999</td>\n",
       "      <td>25.730000</td>\n",
       "      <td>9.810000</td>\n",
       "      <td>68.150002</td>\n",
       "      <td>25.860001</td>\n",
       "      <td>50.660000</td>\n",
       "      <td>10.850000</td>\n",
       "      <td>...</td>\n",
       "      <td>39.830002</td>\n",
       "      <td>12.020000</td>\n",
       "      <td>33.119999</td>\n",
       "      <td>18.900000</td>\n",
       "      <td>19.434954</td>\n",
       "      <td>107.050003</td>\n",
       "      <td>44.389999</td>\n",
       "      <td>12.430000</td>\n",
       "      <td>32.970001</td>\n",
       "      <td>31.469999</td>\n",
       "    </tr>\n",
       "    <tr>\n",
       "      <th>2021-05-26</th>\n",
       "      <td>17.469999</td>\n",
       "      <td>17.100000</td>\n",
       "      <td>32.980000</td>\n",
       "      <td>22.830000</td>\n",
       "      <td>26.320000</td>\n",
       "      <td>9.810000</td>\n",
       "      <td>69.250000</td>\n",
       "      <td>25.559999</td>\n",
       "      <td>51.580002</td>\n",
       "      <td>10.960000</td>\n",
       "      <td>...</td>\n",
       "      <td>39.750000</td>\n",
       "      <td>12.100000</td>\n",
       "      <td>32.939999</td>\n",
       "      <td>19.330000</td>\n",
       "      <td>19.660000</td>\n",
       "      <td>110.199997</td>\n",
       "      <td>44.000000</td>\n",
       "      <td>12.510000</td>\n",
       "      <td>32.799999</td>\n",
       "      <td>31.020000</td>\n",
       "    </tr>\n",
       "    <tr>\n",
       "      <th>2021-05-27</th>\n",
       "      <td>17.690001</td>\n",
       "      <td>16.980000</td>\n",
       "      <td>33.430000</td>\n",
       "      <td>22.900000</td>\n",
       "      <td>26.480000</td>\n",
       "      <td>10.040000</td>\n",
       "      <td>69.540001</td>\n",
       "      <td>25.889999</td>\n",
       "      <td>51.790001</td>\n",
       "      <td>11.000000</td>\n",
       "      <td>...</td>\n",
       "      <td>39.500000</td>\n",
       "      <td>12.040000</td>\n",
       "      <td>33.599998</td>\n",
       "      <td>19.240000</td>\n",
       "      <td>19.590000</td>\n",
       "      <td>110.989998</td>\n",
       "      <td>44.070000</td>\n",
       "      <td>12.720000</td>\n",
       "      <td>32.810001</td>\n",
       "      <td>33.090000</td>\n",
       "    </tr>\n",
       "  </tbody>\n",
       "</table>\n",
       "<p>2823 rows × 63 columns</p>\n",
       "</div>"
      ],
      "text/plain": [
       "             ABEV3.SA   B3SA3.SA   BBAS3.SA   BBDC3.SA   BBDC4.SA   BEEF3.SA  \\\n",
       "Date                                                                           \n",
       "2010-01-04   4.187932   8.628860  14.528081   6.571734  10.772735   4.866180   \n",
       "2010-01-05   4.212566   8.662180  14.382313   6.481225  10.719337   5.058487   \n",
       "2010-01-06   4.255542   8.988673  14.401743   6.443053  10.633589   5.309321   \n",
       "2010-01-07   4.275523   9.201899  14.406603   6.428204  10.605004   5.426377   \n",
       "2010-01-08   4.267311   8.988673  14.489205   6.436686  10.593570   5.769184   \n",
       "...               ...        ...        ...        ...        ...        ...   \n",
       "2021-05-21  17.610001  17.350000  32.665558  22.440001  25.930000   9.660000   \n",
       "2021-05-24  17.629999  17.450001  32.880001  22.520000  25.860001   9.830000   \n",
       "2021-05-25  17.610001  17.000000  32.439999  22.299999  25.730000   9.810000   \n",
       "2021-05-26  17.469999  17.100000  32.980000  22.830000  26.320000   9.810000   \n",
       "2021-05-27  17.690001  16.980000  33.430000  22.900000  26.480000  10.040000   \n",
       "\n",
       "             BRAP4.SA   BRFS3.SA   BRKM5.SA   BRML3.SA  ...  TAEE11.SA  \\\n",
       "Date                                                    ...              \n",
       "2010-01-04  23.492781  20.497267   9.126999   5.925205  ...   4.293434   \n",
       "2010-01-05  23.966238  20.712132   9.043734   6.034931  ...   4.294581   \n",
       "2010-01-06  24.301846  20.994143   9.261502   6.309246  ...   4.294581   \n",
       "2010-01-07  24.571537  20.864334   9.030926   6.226951  ...   4.294581   \n",
       "2010-01-08  24.931112  20.949381   8.902826   6.172088  ...   4.285413   \n",
       "...               ...        ...        ...        ...  ...        ...   \n",
       "2021-05-21  70.120003  26.930000  50.820000  10.850000  ...  39.520000   \n",
       "2021-05-24  69.949997  26.209999  50.599998  10.830000  ...  39.990002   \n",
       "2021-05-25  68.150002  25.860001  50.660000  10.850000  ...  39.830002   \n",
       "2021-05-26  69.250000  25.559999  51.580002  10.960000  ...  39.750000   \n",
       "2021-05-27  69.540001  25.889999  51.790001  11.000000  ...  39.500000   \n",
       "\n",
       "             TIMS3.SA   TOTS3.SA   UGPA3.SA   USIM5.SA    VALE3.SA   VIVT3.SA  \\\n",
       "Date                                                                            \n",
       "2010-01-04   5.570551   6.437285   5.210743  23.545773   32.089706  14.515941   \n",
       "2010-01-05   5.973989   6.329549   5.210743  23.615026   32.388855  14.462154   \n",
       "2010-01-06   5.896405   6.367256   5.210743  23.591938   33.074394  14.216256   \n",
       "2010-01-07   5.764512   6.372643   5.210743  23.813549   33.211502  14.216256   \n",
       "2010-01-08   5.702444   6.434592   5.210743  23.476517   33.535576  14.204722   \n",
       "...               ...        ...        ...        ...         ...        ...   \n",
       "2021-05-21  11.900000  30.879999  19.340000  19.874838  109.400002  43.830002   \n",
       "2021-05-24  12.050000  32.549999  19.180000  20.054792  109.779999  44.290001   \n",
       "2021-05-25  12.020000  33.119999  18.900000  19.434954  107.050003  44.389999   \n",
       "2021-05-26  12.100000  32.939999  19.330000  19.660000  110.199997  44.000000   \n",
       "2021-05-27  12.040000  33.599998  19.240000  19.590000  110.989998  44.070000   \n",
       "\n",
       "             VVAR3.SA   WEGE3.SA   YDUQ3.SA  \n",
       "Date                                         \n",
       "2010-01-04   3.633857   2.144630   5.748117  \n",
       "2010-01-05   3.542718   2.139949   5.816971  \n",
       "2010-01-06   3.507665   2.151650   5.911942  \n",
       "2010-01-07   3.517013   2.187921   5.816971  \n",
       "2010-01-08   3.514676   2.267481   5.816971  \n",
       "...               ...        ...        ...  \n",
       "2021-05-21  11.870000  31.709999  30.070000  \n",
       "2021-05-24  12.460000  32.650002  30.350000  \n",
       "2021-05-25  12.430000  32.970001  31.469999  \n",
       "2021-05-26  12.510000  32.799999  31.020000  \n",
       "2021-05-27  12.720000  32.810001  33.090000  \n",
       "\n",
       "[2823 rows x 63 columns]"
      ]
     },
     "execution_count": 222,
     "metadata": {},
     "output_type": "execute_result"
    }
   ],
   "source": [
    "fechamento"
   ]
  },
  {
   "cell_type": "markdown",
   "metadata": {},
   "source": [
    "Informações do DataFrame"
   ]
  },
  {
   "cell_type": "code",
   "execution_count": 223,
   "metadata": {},
   "outputs": [
    {
     "name": "stdout",
     "output_type": "stream",
     "text": [
      "<class 'pandas.core.frame.DataFrame'>\n",
      "DatetimeIndex: 2823 entries, 2010-01-04 to 2021-05-27\n",
      "Data columns (total 63 columns):\n",
      " #   Column     Non-Null Count  Dtype  \n",
      "---  ------     --------------  -----  \n",
      " 0   ABEV3.SA   2823 non-null   float64\n",
      " 1   B3SA3.SA   2823 non-null   float64\n",
      " 2   BBAS3.SA   2823 non-null   float64\n",
      " 3   BBDC3.SA   2823 non-null   float64\n",
      " 4   BBDC4.SA   2823 non-null   float64\n",
      " 5   BEEF3.SA   2823 non-null   float64\n",
      " 6   BRAP4.SA   2823 non-null   float64\n",
      " 7   BRFS3.SA   2823 non-null   float64\n",
      " 8   BRKM5.SA   2823 non-null   float64\n",
      " 9   BRML3.SA   2823 non-null   float64\n",
      " 10  BTOW3.SA   2823 non-null   float64\n",
      " 11  CCRO3.SA   2823 non-null   float64\n",
      " 12  CIEL3.SA   2823 non-null   float64\n",
      " 13  CMIG4.SA   2823 non-null   float64\n",
      " 14  CPFE3.SA   2823 non-null   float64\n",
      " 15  CPLE6.SA   2823 non-null   float64\n",
      " 16  CSAN3.SA   2823 non-null   float64\n",
      " 17  CSNA3.SA   2823 non-null   float64\n",
      " 18  CYRE3.SA   2823 non-null   float64\n",
      " 19  EGIE3.SA   2823 non-null   float64\n",
      " 20  ELET3.SA   2823 non-null   float64\n",
      " 21  ELET6.SA   2823 non-null   float64\n",
      " 22  EMBR3.SA   2823 non-null   float64\n",
      " 23  ENBR3.SA   2823 non-null   float64\n",
      " 24  ENEV3.SA   2823 non-null   float64\n",
      " 25  ENGI11.SA  2823 non-null   float64\n",
      " 26  EQTL3.SA   2823 non-null   float64\n",
      " 27  EZTC3.SA   2823 non-null   float64\n",
      " 28  FLRY3.SA   2823 non-null   float64\n",
      " 29  GGBR4.SA   2823 non-null   float64\n",
      " 30  GOAU4.SA   2823 non-null   float64\n",
      " 31  GOLL4.SA   2823 non-null   float64\n",
      " 32  HGTX3.SA   2823 non-null   float64\n",
      " 33  HYPE3.SA   2823 non-null   float64\n",
      " 34  IGTA3.SA   2823 non-null   float64\n",
      " 35  ITSA4.SA   2823 non-null   float64\n",
      " 36  ITUB4.SA   2823 non-null   float64\n",
      " 37  JBSS3.SA   2823 non-null   float64\n",
      " 38  JHSF3.SA   2823 non-null   float64\n",
      " 39  LAME4.SA   2823 non-null   float64\n",
      " 40  LREN3.SA   2823 non-null   float64\n",
      " 41  MRFG3.SA   2823 non-null   float64\n",
      " 42  MRVE3.SA   2823 non-null   float64\n",
      " 43  MULT3.SA   2823 non-null   float64\n",
      " 44  PCAR3.SA   2823 non-null   float64\n",
      " 45  PETR3.SA   2823 non-null   float64\n",
      " 46  PETR4.SA   2823 non-null   float64\n",
      " 47  RADL3.SA   2823 non-null   float64\n",
      " 48  RENT3.SA   2823 non-null   float64\n",
      " 49  SANB11.SA  2823 non-null   float64\n",
      " 50  SBSP3.SA   2823 non-null   float64\n",
      " 51  SULA11.SA  2823 non-null   float64\n",
      " 52  SUZB3.SA   2823 non-null   float64\n",
      " 53  TAEE11.SA  2823 non-null   float64\n",
      " 54  TIMS3.SA   2823 non-null   float64\n",
      " 55  TOTS3.SA   2823 non-null   float64\n",
      " 56  UGPA3.SA   2823 non-null   float64\n",
      " 57  USIM5.SA   2823 non-null   float64\n",
      " 58  VALE3.SA   2823 non-null   float64\n",
      " 59  VIVT3.SA   2823 non-null   float64\n",
      " 60  VVAR3.SA   2823 non-null   float64\n",
      " 61  WEGE3.SA   2823 non-null   float64\n",
      " 62  YDUQ3.SA   2823 non-null   float64\n",
      "dtypes: float64(63)\n",
      "memory usage: 1.5 MB\n"
     ]
    }
   ],
   "source": [
    "fechamento.info()"
   ]
  },
  {
   "cell_type": "markdown",
   "metadata": {},
   "source": [
    "## Resampling"
   ]
  },
  {
   "cell_type": "markdown",
   "metadata": {},
   "source": [
    "Transformando dados de frequência diária em frequência anual"
   ]
  },
  {
   "cell_type": "code",
   "execution_count": 224,
   "metadata": {},
   "outputs": [],
   "source": [
    "fechamento_anual = fechamento.resample('Y').last()"
   ]
  },
  {
   "cell_type": "code",
   "execution_count": 225,
   "metadata": {},
   "outputs": [
    {
     "data": {
      "text/html": [
       "<div>\n",
       "<style scoped>\n",
       "    .dataframe tbody tr th:only-of-type {\n",
       "        vertical-align: middle;\n",
       "    }\n",
       "\n",
       "    .dataframe tbody tr th {\n",
       "        vertical-align: top;\n",
       "    }\n",
       "\n",
       "    .dataframe thead th {\n",
       "        text-align: right;\n",
       "    }\n",
       "</style>\n",
       "<table border=\"1\" class=\"dataframe\">\n",
       "  <thead>\n",
       "    <tr style=\"text-align: right;\">\n",
       "      <th></th>\n",
       "      <th>ABEV3.SA</th>\n",
       "      <th>B3SA3.SA</th>\n",
       "      <th>BBAS3.SA</th>\n",
       "      <th>BBDC3.SA</th>\n",
       "      <th>BBDC4.SA</th>\n",
       "      <th>BEEF3.SA</th>\n",
       "      <th>BRAP4.SA</th>\n",
       "      <th>BRFS3.SA</th>\n",
       "      <th>BRKM5.SA</th>\n",
       "      <th>BRML3.SA</th>\n",
       "      <th>...</th>\n",
       "      <th>TAEE11.SA</th>\n",
       "      <th>TIMS3.SA</th>\n",
       "      <th>TOTS3.SA</th>\n",
       "      <th>UGPA3.SA</th>\n",
       "      <th>USIM5.SA</th>\n",
       "      <th>VALE3.SA</th>\n",
       "      <th>VIVT3.SA</th>\n",
       "      <th>VVAR3.SA</th>\n",
       "      <th>WEGE3.SA</th>\n",
       "      <th>YDUQ3.SA</th>\n",
       "    </tr>\n",
       "    <tr>\n",
       "      <th>Date</th>\n",
       "      <th></th>\n",
       "      <th></th>\n",
       "      <th></th>\n",
       "      <th></th>\n",
       "      <th></th>\n",
       "      <th></th>\n",
       "      <th></th>\n",
       "      <th></th>\n",
       "      <th></th>\n",
       "      <th></th>\n",
       "      <th></th>\n",
       "      <th></th>\n",
       "      <th></th>\n",
       "      <th></th>\n",
       "      <th></th>\n",
       "      <th></th>\n",
       "      <th></th>\n",
       "      <th></th>\n",
       "      <th></th>\n",
       "      <th></th>\n",
       "      <th></th>\n",
       "    </tr>\n",
       "  </thead>\n",
       "  <tbody>\n",
       "    <tr>\n",
       "      <th>2010-12-31</th>\n",
       "      <td>6.045817</td>\n",
       "      <td>8.861434</td>\n",
       "      <td>16.230097</td>\n",
       "      <td>6.785971</td>\n",
       "      <td>9.578620</td>\n",
       "      <td>5.836072</td>\n",
       "      <td>26.519262</td>\n",
       "      <td>24.709251</td>\n",
       "      <td>13.046804</td>\n",
       "      <td>9.589696</td>\n",
       "      <td>...</td>\n",
       "      <td>3.629067</td>\n",
       "      <td>5.399920</td>\n",
       "      <td>9.276479</td>\n",
       "      <td>4.681293</td>\n",
       "      <td>18.125942</td>\n",
       "      <td>35.035122</td>\n",
       "      <td>16.494715</td>\n",
       "      <td>4.559264</td>\n",
       "      <td>2.592642</td>\n",
       "      <td>6.525882</td>\n",
       "    </tr>\n",
       "    <tr>\n",
       "      <th>2011-12-31</th>\n",
       "      <td>7.814741</td>\n",
       "      <td>2.287182</td>\n",
       "      <td>13.135231</td>\n",
       "      <td>6.942083</td>\n",
       "      <td>9.312372</td>\n",
       "      <td>4.475870</td>\n",
       "      <td>19.894730</td>\n",
       "      <td>33.699841</td>\n",
       "      <td>8.507855</td>\n",
       "      <td>10.264119</td>\n",
       "      <td>...</td>\n",
       "      <td>4.915895</td>\n",
       "      <td>7.506006</td>\n",
       "      <td>9.296987</td>\n",
       "      <td>12.650174</td>\n",
       "      <td>9.669943</td>\n",
       "      <td>26.349962</td>\n",
       "      <td>24.018291</td>\n",
       "      <td>3.622172</td>\n",
       "      <td>2.300712</td>\n",
       "      <td>4.436784</td>\n",
       "    </tr>\n",
       "    <tr>\n",
       "      <th>2012-12-31</th>\n",
       "      <td>12.418349</td>\n",
       "      <td>3.389311</td>\n",
       "      <td>15.197131</td>\n",
       "      <td>9.650479</td>\n",
       "      <td>10.940005</td>\n",
       "      <td>9.772614</td>\n",
       "      <td>21.496637</td>\n",
       "      <td>39.186901</td>\n",
       "      <td>8.887083</td>\n",
       "      <td>15.407266</td>\n",
       "      <td>...</td>\n",
       "      <td>9.172209</td>\n",
       "      <td>6.716728</td>\n",
       "      <td>11.501273</td>\n",
       "      <td>18.753168</td>\n",
       "      <td>12.272740</td>\n",
       "      <td>29.881271</td>\n",
       "      <td>23.012342</td>\n",
       "      <td>4.206394</td>\n",
       "      <td>3.390427</td>\n",
       "      <td>10.391800</td>\n",
       "    </tr>\n",
       "    <tr>\n",
       "      <th>2013-12-31</th>\n",
       "      <td>13.046216</td>\n",
       "      <td>2.839063</td>\n",
       "      <td>16.017599</td>\n",
       "      <td>10.238729</td>\n",
       "      <td>10.221646</td>\n",
       "      <td>9.998672</td>\n",
       "      <td>16.883844</td>\n",
       "      <td>45.978691</td>\n",
       "      <td>14.580369</td>\n",
       "      <td>9.919885</td>\n",
       "      <td>...</td>\n",
       "      <td>8.257756</td>\n",
       "      <td>10.289771</td>\n",
       "      <td>10.715288</td>\n",
       "      <td>23.249477</td>\n",
       "      <td>13.624660</td>\n",
       "      <td>25.998869</td>\n",
       "      <td>22.733496</td>\n",
       "      <td>7.226780</td>\n",
       "      <td>4.012893</td>\n",
       "      <td>15.337527</td>\n",
       "    </tr>\n",
       "    <tr>\n",
       "      <th>2014-12-31</th>\n",
       "      <td>12.729816</td>\n",
       "      <td>2.618725</td>\n",
       "      <td>16.687426</td>\n",
       "      <td>11.400841</td>\n",
       "      <td>12.769373</td>\n",
       "      <td>8.503218</td>\n",
       "      <td>10.127761</td>\n",
       "      <td>60.727646</td>\n",
       "      <td>12.621731</td>\n",
       "      <td>9.688504</td>\n",
       "      <td>...</td>\n",
       "      <td>9.380158</td>\n",
       "      <td>10.011150</td>\n",
       "      <td>10.441222</td>\n",
       "      <td>21.857895</td>\n",
       "      <td>4.841980</td>\n",
       "      <td>17.017609</td>\n",
       "      <td>24.819693</td>\n",
       "      <td>6.543556</td>\n",
       "      <td>5.235102</td>\n",
       "      <td>17.814251</td>\n",
       "    </tr>\n",
       "    <tr>\n",
       "      <th>2015-12-31</th>\n",
       "      <td>15.325160</td>\n",
       "      <td>3.101134</td>\n",
       "      <td>11.432265</td>\n",
       "      <td>8.649372</td>\n",
       "      <td>8.903774</td>\n",
       "      <td>11.563681</td>\n",
       "      <td>3.910845</td>\n",
       "      <td>53.893974</td>\n",
       "      <td>20.975105</td>\n",
       "      <td>6.816717</td>\n",
       "      <td>...</td>\n",
       "      <td>9.240942</td>\n",
       "      <td>5.996422</td>\n",
       "      <td>9.586467</td>\n",
       "      <td>26.428600</td>\n",
       "      <td>1.494385</td>\n",
       "      <td>10.666111</td>\n",
       "      <td>22.636791</td>\n",
       "      <td>1.491254</td>\n",
       "      <td>5.252650</td>\n",
       "      <td>10.757023</td>\n",
       "    </tr>\n",
       "    <tr>\n",
       "      <th>2016-12-31</th>\n",
       "      <td>14.593514</td>\n",
       "      <td>4.846191</td>\n",
       "      <td>22.797201</td>\n",
       "      <td>14.138731</td>\n",
       "      <td>15.397308</td>\n",
       "      <td>10.563813</td>\n",
       "      <td>11.729406</td>\n",
       "      <td>48.250000</td>\n",
       "      <td>28.907137</td>\n",
       "      <td>9.540334</td>\n",
       "      <td>...</td>\n",
       "      <td>13.086834</td>\n",
       "      <td>7.025940</td>\n",
       "      <td>7.679907</td>\n",
       "      <td>30.625273</td>\n",
       "      <td>3.952888</td>\n",
       "      <td>21.144667</td>\n",
       "      <td>25.429390</td>\n",
       "      <td>3.582271</td>\n",
       "      <td>5.585510</td>\n",
       "      <td>13.750174</td>\n",
       "    </tr>\n",
       "    <tr>\n",
       "      <th>2017-12-31</th>\n",
       "      <td>19.469629</td>\n",
       "      <td>6.831025</td>\n",
       "      <td>26.638187</td>\n",
       "      <td>17.759293</td>\n",
       "      <td>20.476189</td>\n",
       "      <td>9.516837</td>\n",
       "      <td>24.031693</td>\n",
       "      <td>36.599998</td>\n",
       "      <td>37.216515</td>\n",
       "      <td>11.751208</td>\n",
       "      <td>...</td>\n",
       "      <td>14.595421</td>\n",
       "      <td>11.906328</td>\n",
       "      <td>9.660208</td>\n",
       "      <td>34.421814</td>\n",
       "      <td>8.773485</td>\n",
       "      <td>34.621536</td>\n",
       "      <td>30.977646</td>\n",
       "      <td>7.918286</td>\n",
       "      <td>8.854502</td>\n",
       "      <td>29.058294</td>\n",
       "    </tr>\n",
       "    <tr>\n",
       "      <th>2018-12-31</th>\n",
       "      <td>14.531096</td>\n",
       "      <td>8.286345</td>\n",
       "      <td>40.598660</td>\n",
       "      <td>21.342630</td>\n",
       "      <td>26.514320</td>\n",
       "      <td>4.459064</td>\n",
       "      <td>27.485571</td>\n",
       "      <td>21.930000</td>\n",
       "      <td>42.904064</td>\n",
       "      <td>12.158844</td>\n",
       "      <td>...</td>\n",
       "      <td>18.408537</td>\n",
       "      <td>10.955456</td>\n",
       "      <td>8.843835</td>\n",
       "      <td>25.037329</td>\n",
       "      <td>8.928147</td>\n",
       "      <td>45.634102</td>\n",
       "      <td>33.827221</td>\n",
       "      <td>4.390000</td>\n",
       "      <td>8.523415</td>\n",
       "      <td>22.535074</td>\n",
       "    </tr>\n",
       "    <tr>\n",
       "      <th>2019-12-31</th>\n",
       "      <td>18.102791</td>\n",
       "      <td>13.558502</td>\n",
       "      <td>49.140072</td>\n",
       "      <td>27.254187</td>\n",
       "      <td>31.912909</td>\n",
       "      <td>11.473823</td>\n",
       "      <td>35.253422</td>\n",
       "      <td>35.200001</td>\n",
       "      <td>29.850000</td>\n",
       "      <td>18.059999</td>\n",
       "      <td>...</td>\n",
       "      <td>25.948210</td>\n",
       "      <td>15.067116</td>\n",
       "      <td>21.274395</td>\n",
       "      <td>24.588539</td>\n",
       "      <td>9.365607</td>\n",
       "      <td>48.955872</td>\n",
       "      <td>42.741943</td>\n",
       "      <td>11.170000</td>\n",
       "      <td>17.106672</td>\n",
       "      <td>45.888802</td>\n",
       "    </tr>\n",
       "    <tr>\n",
       "      <th>2020-12-31</th>\n",
       "      <td>15.575767</td>\n",
       "      <td>20.208328</td>\n",
       "      <td>37.551670</td>\n",
       "      <td>21.875568</td>\n",
       "      <td>26.990923</td>\n",
       "      <td>9.486580</td>\n",
       "      <td>61.177158</td>\n",
       "      <td>22.040001</td>\n",
       "      <td>23.570000</td>\n",
       "      <td>9.900000</td>\n",
       "      <td>...</td>\n",
       "      <td>31.040482</td>\n",
       "      <td>14.650000</td>\n",
       "      <td>28.636860</td>\n",
       "      <td>23.200176</td>\n",
       "      <td>14.522141</td>\n",
       "      <td>83.680214</td>\n",
       "      <td>45.090889</td>\n",
       "      <td>16.160000</td>\n",
       "      <td>37.682961</td>\n",
       "      <td>32.402863</td>\n",
       "    </tr>\n",
       "    <tr>\n",
       "      <th>2021-12-31</th>\n",
       "      <td>17.690001</td>\n",
       "      <td>16.980000</td>\n",
       "      <td>33.430000</td>\n",
       "      <td>22.900000</td>\n",
       "      <td>26.480000</td>\n",
       "      <td>10.040000</td>\n",
       "      <td>69.540001</td>\n",
       "      <td>25.889999</td>\n",
       "      <td>51.790001</td>\n",
       "      <td>11.000000</td>\n",
       "      <td>...</td>\n",
       "      <td>39.500000</td>\n",
       "      <td>12.040000</td>\n",
       "      <td>33.599998</td>\n",
       "      <td>19.240000</td>\n",
       "      <td>19.590000</td>\n",
       "      <td>110.989998</td>\n",
       "      <td>44.070000</td>\n",
       "      <td>12.720000</td>\n",
       "      <td>32.810001</td>\n",
       "      <td>33.090000</td>\n",
       "    </tr>\n",
       "  </tbody>\n",
       "</table>\n",
       "<p>12 rows × 63 columns</p>\n",
       "</div>"
      ],
      "text/plain": [
       "             ABEV3.SA   B3SA3.SA   BBAS3.SA   BBDC3.SA   BBDC4.SA   BEEF3.SA  \\\n",
       "Date                                                                           \n",
       "2010-12-31   6.045817   8.861434  16.230097   6.785971   9.578620   5.836072   \n",
       "2011-12-31   7.814741   2.287182  13.135231   6.942083   9.312372   4.475870   \n",
       "2012-12-31  12.418349   3.389311  15.197131   9.650479  10.940005   9.772614   \n",
       "2013-12-31  13.046216   2.839063  16.017599  10.238729  10.221646   9.998672   \n",
       "2014-12-31  12.729816   2.618725  16.687426  11.400841  12.769373   8.503218   \n",
       "2015-12-31  15.325160   3.101134  11.432265   8.649372   8.903774  11.563681   \n",
       "2016-12-31  14.593514   4.846191  22.797201  14.138731  15.397308  10.563813   \n",
       "2017-12-31  19.469629   6.831025  26.638187  17.759293  20.476189   9.516837   \n",
       "2018-12-31  14.531096   8.286345  40.598660  21.342630  26.514320   4.459064   \n",
       "2019-12-31  18.102791  13.558502  49.140072  27.254187  31.912909  11.473823   \n",
       "2020-12-31  15.575767  20.208328  37.551670  21.875568  26.990923   9.486580   \n",
       "2021-12-31  17.690001  16.980000  33.430000  22.900000  26.480000  10.040000   \n",
       "\n",
       "             BRAP4.SA   BRFS3.SA   BRKM5.SA   BRML3.SA  ...  TAEE11.SA  \\\n",
       "Date                                                    ...              \n",
       "2010-12-31  26.519262  24.709251  13.046804   9.589696  ...   3.629067   \n",
       "2011-12-31  19.894730  33.699841   8.507855  10.264119  ...   4.915895   \n",
       "2012-12-31  21.496637  39.186901   8.887083  15.407266  ...   9.172209   \n",
       "2013-12-31  16.883844  45.978691  14.580369   9.919885  ...   8.257756   \n",
       "2014-12-31  10.127761  60.727646  12.621731   9.688504  ...   9.380158   \n",
       "2015-12-31   3.910845  53.893974  20.975105   6.816717  ...   9.240942   \n",
       "2016-12-31  11.729406  48.250000  28.907137   9.540334  ...  13.086834   \n",
       "2017-12-31  24.031693  36.599998  37.216515  11.751208  ...  14.595421   \n",
       "2018-12-31  27.485571  21.930000  42.904064  12.158844  ...  18.408537   \n",
       "2019-12-31  35.253422  35.200001  29.850000  18.059999  ...  25.948210   \n",
       "2020-12-31  61.177158  22.040001  23.570000   9.900000  ...  31.040482   \n",
       "2021-12-31  69.540001  25.889999  51.790001  11.000000  ...  39.500000   \n",
       "\n",
       "             TIMS3.SA   TOTS3.SA   UGPA3.SA   USIM5.SA    VALE3.SA   VIVT3.SA  \\\n",
       "Date                                                                            \n",
       "2010-12-31   5.399920   9.276479   4.681293  18.125942   35.035122  16.494715   \n",
       "2011-12-31   7.506006   9.296987  12.650174   9.669943   26.349962  24.018291   \n",
       "2012-12-31   6.716728  11.501273  18.753168  12.272740   29.881271  23.012342   \n",
       "2013-12-31  10.289771  10.715288  23.249477  13.624660   25.998869  22.733496   \n",
       "2014-12-31  10.011150  10.441222  21.857895   4.841980   17.017609  24.819693   \n",
       "2015-12-31   5.996422   9.586467  26.428600   1.494385   10.666111  22.636791   \n",
       "2016-12-31   7.025940   7.679907  30.625273   3.952888   21.144667  25.429390   \n",
       "2017-12-31  11.906328   9.660208  34.421814   8.773485   34.621536  30.977646   \n",
       "2018-12-31  10.955456   8.843835  25.037329   8.928147   45.634102  33.827221   \n",
       "2019-12-31  15.067116  21.274395  24.588539   9.365607   48.955872  42.741943   \n",
       "2020-12-31  14.650000  28.636860  23.200176  14.522141   83.680214  45.090889   \n",
       "2021-12-31  12.040000  33.599998  19.240000  19.590000  110.989998  44.070000   \n",
       "\n",
       "             VVAR3.SA   WEGE3.SA   YDUQ3.SA  \n",
       "Date                                         \n",
       "2010-12-31   4.559264   2.592642   6.525882  \n",
       "2011-12-31   3.622172   2.300712   4.436784  \n",
       "2012-12-31   4.206394   3.390427  10.391800  \n",
       "2013-12-31   7.226780   4.012893  15.337527  \n",
       "2014-12-31   6.543556   5.235102  17.814251  \n",
       "2015-12-31   1.491254   5.252650  10.757023  \n",
       "2016-12-31   3.582271   5.585510  13.750174  \n",
       "2017-12-31   7.918286   8.854502  29.058294  \n",
       "2018-12-31   4.390000   8.523415  22.535074  \n",
       "2019-12-31  11.170000  17.106672  45.888802  \n",
       "2020-12-31  16.160000  37.682961  32.402863  \n",
       "2021-12-31  12.720000  32.810001  33.090000  \n",
       "\n",
       "[12 rows x 63 columns]"
      ]
     },
     "execution_count": 225,
     "metadata": {},
     "output_type": "execute_result"
    }
   ],
   "source": [
    "fechamento_anual"
   ]
  },
  {
   "cell_type": "markdown",
   "metadata": {},
   "source": [
    "Calculando retorno anual de todas os papéis"
   ]
  },
  {
   "cell_type": "code",
   "execution_count": 226,
   "metadata": {},
   "outputs": [],
   "source": [
    "retorno_anual = fechamento_anual.pct_change().dropna()"
   ]
  },
  {
   "cell_type": "code",
   "execution_count": 227,
   "metadata": {},
   "outputs": [
    {
     "data": {
      "text/html": [
       "<div>\n",
       "<style scoped>\n",
       "    .dataframe tbody tr th:only-of-type {\n",
       "        vertical-align: middle;\n",
       "    }\n",
       "\n",
       "    .dataframe tbody tr th {\n",
       "        vertical-align: top;\n",
       "    }\n",
       "\n",
       "    .dataframe thead th {\n",
       "        text-align: right;\n",
       "    }\n",
       "</style>\n",
       "<table border=\"1\" class=\"dataframe\">\n",
       "  <thead>\n",
       "    <tr style=\"text-align: right;\">\n",
       "      <th></th>\n",
       "      <th>ABEV3.SA</th>\n",
       "      <th>B3SA3.SA</th>\n",
       "      <th>BBAS3.SA</th>\n",
       "      <th>BBDC3.SA</th>\n",
       "      <th>BBDC4.SA</th>\n",
       "      <th>BEEF3.SA</th>\n",
       "      <th>BRAP4.SA</th>\n",
       "      <th>BRFS3.SA</th>\n",
       "      <th>BRKM5.SA</th>\n",
       "      <th>BRML3.SA</th>\n",
       "      <th>...</th>\n",
       "      <th>TAEE11.SA</th>\n",
       "      <th>TIMS3.SA</th>\n",
       "      <th>TOTS3.SA</th>\n",
       "      <th>UGPA3.SA</th>\n",
       "      <th>USIM5.SA</th>\n",
       "      <th>VALE3.SA</th>\n",
       "      <th>VIVT3.SA</th>\n",
       "      <th>VVAR3.SA</th>\n",
       "      <th>WEGE3.SA</th>\n",
       "      <th>YDUQ3.SA</th>\n",
       "    </tr>\n",
       "    <tr>\n",
       "      <th>Date</th>\n",
       "      <th></th>\n",
       "      <th></th>\n",
       "      <th></th>\n",
       "      <th></th>\n",
       "      <th></th>\n",
       "      <th></th>\n",
       "      <th></th>\n",
       "      <th></th>\n",
       "      <th></th>\n",
       "      <th></th>\n",
       "      <th></th>\n",
       "      <th></th>\n",
       "      <th></th>\n",
       "      <th></th>\n",
       "      <th></th>\n",
       "      <th></th>\n",
       "      <th></th>\n",
       "      <th></th>\n",
       "      <th></th>\n",
       "      <th></th>\n",
       "      <th></th>\n",
       "    </tr>\n",
       "  </thead>\n",
       "  <tbody>\n",
       "    <tr>\n",
       "      <th>2011-12-31</th>\n",
       "      <td>0.292586</td>\n",
       "      <td>-0.741895</td>\n",
       "      <td>-0.190687</td>\n",
       "      <td>0.023005</td>\n",
       "      <td>-0.027796</td>\n",
       "      <td>-0.233068</td>\n",
       "      <td>-0.249801</td>\n",
       "      <td>0.363855</td>\n",
       "      <td>-0.347897</td>\n",
       "      <td>0.070328</td>\n",
       "      <td>...</td>\n",
       "      <td>0.354589</td>\n",
       "      <td>0.390022</td>\n",
       "      <td>0.002211</td>\n",
       "      <td>1.702282</td>\n",
       "      <td>-0.466514</td>\n",
       "      <td>-0.247899</td>\n",
       "      <td>0.456120</td>\n",
       "      <td>-0.205536</td>\n",
       "      <td>-0.112599</td>\n",
       "      <td>-0.320125</td>\n",
       "    </tr>\n",
       "    <tr>\n",
       "      <th>2012-12-31</th>\n",
       "      <td>0.589093</td>\n",
       "      <td>0.481872</td>\n",
       "      <td>0.156975</td>\n",
       "      <td>0.390142</td>\n",
       "      <td>0.174782</td>\n",
       "      <td>1.183400</td>\n",
       "      <td>0.080519</td>\n",
       "      <td>0.162822</td>\n",
       "      <td>0.044574</td>\n",
       "      <td>0.501080</td>\n",
       "      <td>...</td>\n",
       "      <td>0.865827</td>\n",
       "      <td>-0.105153</td>\n",
       "      <td>0.237097</td>\n",
       "      <td>0.482443</td>\n",
       "      <td>0.269164</td>\n",
       "      <td>0.134016</td>\n",
       "      <td>-0.041883</td>\n",
       "      <td>0.161290</td>\n",
       "      <td>0.473642</td>\n",
       "      <td>1.342192</td>\n",
       "    </tr>\n",
       "    <tr>\n",
       "      <th>2013-12-31</th>\n",
       "      <td>0.050560</td>\n",
       "      <td>-0.162348</td>\n",
       "      <td>0.053988</td>\n",
       "      <td>0.060955</td>\n",
       "      <td>-0.065663</td>\n",
       "      <td>0.023132</td>\n",
       "      <td>-0.214582</td>\n",
       "      <td>0.173318</td>\n",
       "      <td>0.640625</td>\n",
       "      <td>-0.356155</td>\n",
       "      <td>...</td>\n",
       "      <td>-0.099698</td>\n",
       "      <td>0.531962</td>\n",
       "      <td>-0.068339</td>\n",
       "      <td>0.239763</td>\n",
       "      <td>0.110156</td>\n",
       "      <td>-0.129928</td>\n",
       "      <td>-0.012117</td>\n",
       "      <td>0.718046</td>\n",
       "      <td>0.183595</td>\n",
       "      <td>0.475926</td>\n",
       "    </tr>\n",
       "    <tr>\n",
       "      <th>2014-12-31</th>\n",
       "      <td>-0.024252</td>\n",
       "      <td>-0.077610</td>\n",
       "      <td>0.041818</td>\n",
       "      <td>0.113502</td>\n",
       "      <td>0.249248</td>\n",
       "      <td>-0.149565</td>\n",
       "      <td>-0.400151</td>\n",
       "      <td>0.320778</td>\n",
       "      <td>-0.134334</td>\n",
       "      <td>-0.023325</td>\n",
       "      <td>...</td>\n",
       "      <td>0.135921</td>\n",
       "      <td>-0.027077</td>\n",
       "      <td>-0.025577</td>\n",
       "      <td>-0.059854</td>\n",
       "      <td>-0.644617</td>\n",
       "      <td>-0.345448</td>\n",
       "      <td>0.091768</td>\n",
       "      <td>-0.094541</td>\n",
       "      <td>0.304571</td>\n",
       "      <td>0.161481</td>\n",
       "    </tr>\n",
       "    <tr>\n",
       "      <th>2015-12-31</th>\n",
       "      <td>0.203879</td>\n",
       "      <td>0.184215</td>\n",
       "      <td>-0.314917</td>\n",
       "      <td>-0.241339</td>\n",
       "      <td>-0.302724</td>\n",
       "      <td>0.359918</td>\n",
       "      <td>-0.613849</td>\n",
       "      <td>-0.112530</td>\n",
       "      <td>0.661825</td>\n",
       "      <td>-0.296412</td>\n",
       "      <td>...</td>\n",
       "      <td>-0.014842</td>\n",
       "      <td>-0.401026</td>\n",
       "      <td>-0.081864</td>\n",
       "      <td>0.209110</td>\n",
       "      <td>-0.691369</td>\n",
       "      <td>-0.373231</td>\n",
       "      <td>-0.087950</td>\n",
       "      <td>-0.772103</td>\n",
       "      <td>0.003352</td>\n",
       "      <td>-0.396156</td>\n",
       "    </tr>\n",
       "    <tr>\n",
       "      <th>2016-12-31</th>\n",
       "      <td>-0.047741</td>\n",
       "      <td>0.562716</td>\n",
       "      <td>0.994111</td>\n",
       "      <td>0.634654</td>\n",
       "      <td>0.729301</td>\n",
       "      <td>-0.086466</td>\n",
       "      <td>1.999200</td>\n",
       "      <td>-0.104724</td>\n",
       "      <td>0.378164</td>\n",
       "      <td>0.399550</td>\n",
       "      <td>...</td>\n",
       "      <td>0.416180</td>\n",
       "      <td>0.171689</td>\n",
       "      <td>-0.198880</td>\n",
       "      <td>0.158793</td>\n",
       "      <td>1.645161</td>\n",
       "      <td>0.982416</td>\n",
       "      <td>0.123365</td>\n",
       "      <td>1.402187</td>\n",
       "      <td>0.063370</td>\n",
       "      <td>0.278251</td>\n",
       "    </tr>\n",
       "    <tr>\n",
       "      <th>2017-12-31</th>\n",
       "      <td>0.334129</td>\n",
       "      <td>0.409566</td>\n",
       "      <td>0.168485</td>\n",
       "      <td>0.256074</td>\n",
       "      <td>0.329855</td>\n",
       "      <td>-0.099110</td>\n",
       "      <td>1.048841</td>\n",
       "      <td>-0.241451</td>\n",
       "      <td>0.287451</td>\n",
       "      <td>0.231740</td>\n",
       "      <td>...</td>\n",
       "      <td>0.115275</td>\n",
       "      <td>0.694624</td>\n",
       "      <td>0.257855</td>\n",
       "      <td>0.123968</td>\n",
       "      <td>1.219512</td>\n",
       "      <td>0.637365</td>\n",
       "      <td>0.218183</td>\n",
       "      <td>1.210410</td>\n",
       "      <td>0.585263</td>\n",
       "      <td>1.113304</td>\n",
       "    </tr>\n",
       "    <tr>\n",
       "      <th>2018-12-31</th>\n",
       "      <td>-0.253653</td>\n",
       "      <td>0.213046</td>\n",
       "      <td>0.524077</td>\n",
       "      <td>0.201773</td>\n",
       "      <td>0.294886</td>\n",
       "      <td>-0.531455</td>\n",
       "      <td>0.143722</td>\n",
       "      <td>-0.400820</td>\n",
       "      <td>0.152823</td>\n",
       "      <td>0.034689</td>\n",
       "      <td>...</td>\n",
       "      <td>0.261254</td>\n",
       "      <td>-0.079863</td>\n",
       "      <td>-0.084509</td>\n",
       "      <td>-0.272632</td>\n",
       "      <td>0.017628</td>\n",
       "      <td>0.318084</td>\n",
       "      <td>0.091988</td>\n",
       "      <td>-0.445587</td>\n",
       "      <td>-0.037392</td>\n",
       "      <td>-0.224487</td>\n",
       "    </tr>\n",
       "    <tr>\n",
       "      <th>2019-12-31</th>\n",
       "      <td>0.245797</td>\n",
       "      <td>0.636246</td>\n",
       "      <td>0.210387</td>\n",
       "      <td>0.276983</td>\n",
       "      <td>0.203610</td>\n",
       "      <td>1.573146</td>\n",
       "      <td>0.282616</td>\n",
       "      <td>0.605107</td>\n",
       "      <td>-0.304262</td>\n",
       "      <td>0.485339</td>\n",
       "      <td>...</td>\n",
       "      <td>0.409575</td>\n",
       "      <td>0.375307</td>\n",
       "      <td>1.405562</td>\n",
       "      <td>-0.017925</td>\n",
       "      <td>0.048998</td>\n",
       "      <td>0.072791</td>\n",
       "      <td>0.263537</td>\n",
       "      <td>1.544419</td>\n",
       "      <td>1.007021</td>\n",
       "      <td>1.036328</td>\n",
       "    </tr>\n",
       "    <tr>\n",
       "      <th>2020-12-31</th>\n",
       "      <td>-0.139593</td>\n",
       "      <td>0.490454</td>\n",
       "      <td>-0.235824</td>\n",
       "      <td>-0.197350</td>\n",
       "      <td>-0.154232</td>\n",
       "      <td>-0.173198</td>\n",
       "      <td>0.735354</td>\n",
       "      <td>-0.373864</td>\n",
       "      <td>-0.210385</td>\n",
       "      <td>-0.451827</td>\n",
       "      <td>...</td>\n",
       "      <td>0.196248</td>\n",
       "      <td>-0.027684</td>\n",
       "      <td>0.346072</td>\n",
       "      <td>-0.056464</td>\n",
       "      <td>0.550582</td>\n",
       "      <td>0.709299</td>\n",
       "      <td>0.054956</td>\n",
       "      <td>0.446732</td>\n",
       "      <td>1.202822</td>\n",
       "      <td>-0.293883</td>\n",
       "    </tr>\n",
       "    <tr>\n",
       "      <th>2021-12-31</th>\n",
       "      <td>0.135739</td>\n",
       "      <td>-0.159752</td>\n",
       "      <td>-0.109760</td>\n",
       "      <td>0.046830</td>\n",
       "      <td>-0.018929</td>\n",
       "      <td>0.058337</td>\n",
       "      <td>0.136699</td>\n",
       "      <td>0.174682</td>\n",
       "      <td>1.197285</td>\n",
       "      <td>0.111111</td>\n",
       "      <td>...</td>\n",
       "      <td>0.272532</td>\n",
       "      <td>-0.178157</td>\n",
       "      <td>0.173313</td>\n",
       "      <td>-0.170696</td>\n",
       "      <td>0.348975</td>\n",
       "      <td>0.326359</td>\n",
       "      <td>-0.022641</td>\n",
       "      <td>-0.212871</td>\n",
       "      <td>-0.129315</td>\n",
       "      <td>0.021206</td>\n",
       "    </tr>\n",
       "  </tbody>\n",
       "</table>\n",
       "<p>11 rows × 63 columns</p>\n",
       "</div>"
      ],
      "text/plain": [
       "            ABEV3.SA  B3SA3.SA  BBAS3.SA  BBDC3.SA  BBDC4.SA  BEEF3.SA  \\\n",
       "Date                                                                     \n",
       "2011-12-31  0.292586 -0.741895 -0.190687  0.023005 -0.027796 -0.233068   \n",
       "2012-12-31  0.589093  0.481872  0.156975  0.390142  0.174782  1.183400   \n",
       "2013-12-31  0.050560 -0.162348  0.053988  0.060955 -0.065663  0.023132   \n",
       "2014-12-31 -0.024252 -0.077610  0.041818  0.113502  0.249248 -0.149565   \n",
       "2015-12-31  0.203879  0.184215 -0.314917 -0.241339 -0.302724  0.359918   \n",
       "2016-12-31 -0.047741  0.562716  0.994111  0.634654  0.729301 -0.086466   \n",
       "2017-12-31  0.334129  0.409566  0.168485  0.256074  0.329855 -0.099110   \n",
       "2018-12-31 -0.253653  0.213046  0.524077  0.201773  0.294886 -0.531455   \n",
       "2019-12-31  0.245797  0.636246  0.210387  0.276983  0.203610  1.573146   \n",
       "2020-12-31 -0.139593  0.490454 -0.235824 -0.197350 -0.154232 -0.173198   \n",
       "2021-12-31  0.135739 -0.159752 -0.109760  0.046830 -0.018929  0.058337   \n",
       "\n",
       "            BRAP4.SA  BRFS3.SA  BRKM5.SA  BRML3.SA  ...  TAEE11.SA  TIMS3.SA  \\\n",
       "Date                                                ...                        \n",
       "2011-12-31 -0.249801  0.363855 -0.347897  0.070328  ...   0.354589  0.390022   \n",
       "2012-12-31  0.080519  0.162822  0.044574  0.501080  ...   0.865827 -0.105153   \n",
       "2013-12-31 -0.214582  0.173318  0.640625 -0.356155  ...  -0.099698  0.531962   \n",
       "2014-12-31 -0.400151  0.320778 -0.134334 -0.023325  ...   0.135921 -0.027077   \n",
       "2015-12-31 -0.613849 -0.112530  0.661825 -0.296412  ...  -0.014842 -0.401026   \n",
       "2016-12-31  1.999200 -0.104724  0.378164  0.399550  ...   0.416180  0.171689   \n",
       "2017-12-31  1.048841 -0.241451  0.287451  0.231740  ...   0.115275  0.694624   \n",
       "2018-12-31  0.143722 -0.400820  0.152823  0.034689  ...   0.261254 -0.079863   \n",
       "2019-12-31  0.282616  0.605107 -0.304262  0.485339  ...   0.409575  0.375307   \n",
       "2020-12-31  0.735354 -0.373864 -0.210385 -0.451827  ...   0.196248 -0.027684   \n",
       "2021-12-31  0.136699  0.174682  1.197285  0.111111  ...   0.272532 -0.178157   \n",
       "\n",
       "            TOTS3.SA  UGPA3.SA  USIM5.SA  VALE3.SA  VIVT3.SA  VVAR3.SA  \\\n",
       "Date                                                                     \n",
       "2011-12-31  0.002211  1.702282 -0.466514 -0.247899  0.456120 -0.205536   \n",
       "2012-12-31  0.237097  0.482443  0.269164  0.134016 -0.041883  0.161290   \n",
       "2013-12-31 -0.068339  0.239763  0.110156 -0.129928 -0.012117  0.718046   \n",
       "2014-12-31 -0.025577 -0.059854 -0.644617 -0.345448  0.091768 -0.094541   \n",
       "2015-12-31 -0.081864  0.209110 -0.691369 -0.373231 -0.087950 -0.772103   \n",
       "2016-12-31 -0.198880  0.158793  1.645161  0.982416  0.123365  1.402187   \n",
       "2017-12-31  0.257855  0.123968  1.219512  0.637365  0.218183  1.210410   \n",
       "2018-12-31 -0.084509 -0.272632  0.017628  0.318084  0.091988 -0.445587   \n",
       "2019-12-31  1.405562 -0.017925  0.048998  0.072791  0.263537  1.544419   \n",
       "2020-12-31  0.346072 -0.056464  0.550582  0.709299  0.054956  0.446732   \n",
       "2021-12-31  0.173313 -0.170696  0.348975  0.326359 -0.022641 -0.212871   \n",
       "\n",
       "            WEGE3.SA  YDUQ3.SA  \n",
       "Date                            \n",
       "2011-12-31 -0.112599 -0.320125  \n",
       "2012-12-31  0.473642  1.342192  \n",
       "2013-12-31  0.183595  0.475926  \n",
       "2014-12-31  0.304571  0.161481  \n",
       "2015-12-31  0.003352 -0.396156  \n",
       "2016-12-31  0.063370  0.278251  \n",
       "2017-12-31  0.585263  1.113304  \n",
       "2018-12-31 -0.037392 -0.224487  \n",
       "2019-12-31  1.007021  1.036328  \n",
       "2020-12-31  1.202822 -0.293883  \n",
       "2021-12-31 -0.129315  0.021206  \n",
       "\n",
       "[11 rows x 63 columns]"
      ]
     },
     "execution_count": 227,
     "metadata": {},
     "output_type": "execute_result"
    }
   ],
   "source": [
    "retorno_anual"
   ]
  },
  {
   "cell_type": "markdown",
   "metadata": {},
   "source": [
    "Ordenar retornos do final de 2020 até último dado de 2021 do menor para o maior"
   ]
  },
  {
   "cell_type": "code",
   "execution_count": 228,
   "metadata": {},
   "outputs": [
    {
     "data": {
      "text/plain": [
       "PCAR3.SA   -0.452596\n",
       "EZTC3.SA   -0.262956\n",
       "LAME4.SA   -0.254888\n",
       "VVAR3.SA   -0.212871\n",
       "BTOW3.SA   -0.211877\n",
       "              ...   \n",
       "GGBR4.SA    0.375587\n",
       "CSNA3.SA    0.430607\n",
       "HGTX3.SA    0.899490\n",
       "EMBR3.SA    1.019209\n",
       "BRKM5.SA    1.197285\n",
       "Name: 2021-12-31 00:00:00, Length: 63, dtype: float64"
      ]
     },
     "execution_count": 228,
     "metadata": {},
     "output_type": "execute_result"
    }
   ],
   "source": [
    "retorno_anual.loc['2021-12-31'].sort_values()"
   ]
  },
  {
   "cell_type": "markdown",
   "metadata": {},
   "source": [
    "Não vamos lidar com PCAR3 por que o histórico do yfinance está confuso por conta da cisão"
   ]
  },
  {
   "cell_type": "markdown",
   "metadata": {},
   "source": [
    "https://investnews.com.br/financas/pcar3-e-asai3-6-perguntas-sobre-a-cisao-de-pao-de-acucar-e-assai/"
   ]
  },
  {
   "cell_type": "code",
   "execution_count": 234,
   "metadata": {},
   "outputs": [
    {
     "data": {
      "application/vnd.plotly.v1+json": {
       "config": {
        "plotlyServerURL": "https://plot.ly"
       },
       "data": [
        {
         "hovertemplate": "x=%{x}<br>PCAR3.SA=%{y}<extra></extra>",
         "legendgroup": "",
         "line": {
          "color": "#636efa",
          "dash": "solid"
         },
         "mode": "lines",
         "name": "",
         "orientation": "v",
         "showlegend": false,
         "type": "scatter",
         "x": [
          "2021-01-04T00:00:00",
          "2021-01-05T00:00:00",
          "2021-01-06T00:00:00",
          "2021-01-07T00:00:00",
          "2021-01-08T00:00:00",
          "2021-01-11T00:00:00",
          "2021-01-12T00:00:00",
          "2021-01-13T00:00:00",
          "2021-01-14T00:00:00",
          "2021-01-15T00:00:00",
          "2021-01-18T00:00:00",
          "2021-01-19T00:00:00",
          "2021-01-20T00:00:00",
          "2021-01-21T00:00:00",
          "2021-01-22T00:00:00",
          "2021-01-26T00:00:00",
          "2021-01-27T00:00:00",
          "2021-01-28T00:00:00",
          "2021-01-29T00:00:00",
          "2021-02-01T00:00:00",
          "2021-02-02T00:00:00",
          "2021-02-03T00:00:00",
          "2021-02-04T00:00:00",
          "2021-02-05T00:00:00",
          "2021-02-08T00:00:00",
          "2021-02-09T00:00:00",
          "2021-02-10T00:00:00",
          "2021-02-11T00:00:00",
          "2021-02-12T00:00:00",
          "2021-02-18T00:00:00",
          "2021-02-19T00:00:00",
          "2021-02-22T00:00:00",
          "2021-02-23T00:00:00",
          "2021-02-24T00:00:00",
          "2021-02-25T00:00:00",
          "2021-02-26T00:00:00",
          "2021-03-01T00:00:00",
          "2021-03-02T00:00:00",
          "2021-03-03T00:00:00",
          "2021-03-04T00:00:00",
          "2021-03-05T00:00:00",
          "2021-03-08T00:00:00",
          "2021-03-09T00:00:00",
          "2021-03-10T00:00:00",
          "2021-03-11T00:00:00",
          "2021-03-12T00:00:00",
          "2021-03-15T00:00:00",
          "2021-03-16T00:00:00",
          "2021-03-17T00:00:00",
          "2021-03-18T00:00:00",
          "2021-03-19T00:00:00",
          "2021-03-22T00:00:00",
          "2021-03-23T00:00:00",
          "2021-03-24T00:00:00",
          "2021-03-25T00:00:00",
          "2021-03-26T00:00:00",
          "2021-03-29T00:00:00",
          "2021-03-30T00:00:00",
          "2021-03-31T00:00:00",
          "2021-04-01T00:00:00",
          "2021-04-05T00:00:00",
          "2021-04-06T00:00:00",
          "2021-04-07T00:00:00",
          "2021-04-08T00:00:00",
          "2021-04-09T00:00:00",
          "2021-04-12T00:00:00",
          "2021-04-13T00:00:00",
          "2021-04-14T00:00:00",
          "2021-04-15T00:00:00",
          "2021-04-16T00:00:00",
          "2021-04-19T00:00:00",
          "2021-04-20T00:00:00",
          "2021-04-22T00:00:00",
          "2021-04-23T00:00:00",
          "2021-04-26T00:00:00",
          "2021-04-27T00:00:00",
          "2021-04-28T00:00:00",
          "2021-04-29T00:00:00",
          "2021-04-30T00:00:00",
          "2021-05-03T00:00:00",
          "2021-05-04T00:00:00",
          "2021-05-05T00:00:00",
          "2021-05-06T00:00:00",
          "2021-05-07T00:00:00",
          "2021-05-10T00:00:00",
          "2021-05-11T00:00:00",
          "2021-05-12T00:00:00",
          "2021-05-13T00:00:00",
          "2021-05-14T00:00:00",
          "2021-05-17T00:00:00",
          "2021-05-18T00:00:00",
          "2021-05-19T00:00:00",
          "2021-05-20T00:00:00",
          "2021-05-21T00:00:00",
          "2021-05-24T00:00:00",
          "2021-05-25T00:00:00",
          "2021-05-26T00:00:00",
          "2021-05-27T00:00:00"
         ],
         "xaxis": "x",
         "y": [
          70.97256469726562,
          69.31851959228516,
          68.75142669677734,
          69.97068786621094,
          72.34306335449219,
          70.3487548828125,
          72.1634750366211,
          73.57176971435547,
          73.06138610839844,
          72.2296371459961,
          72.4942855834961,
          74.29010009765625,
          73.03302764892578,
          71.85157012939453,
          71.2750244140625,
          71.2277603149414,
          69.96123504638672,
          71.37899017333984,
          71.3411865234375,
          75.05569458007812,
          77.2106704711914,
          77.50366973876953,
          79.13880920410156,
          80.43368530273438,
          82.79660034179688,
          83.09905242919922,
          82.45634460449219,
          82.73043823242188,
          84.07257843017578,
          10.780349731445312,
          11.13201904296875,
          11.192091941833496,
          11.222126960754395,
          11.304725646972656,
          10.611398696899414,
          10.387381553649902,
          22.050739288330078,
          21.379671096801758,
          20.179309844970703,
          21.04886245727539,
          21.65376853942871,
          21.59705924987793,
          22.40045166015625,
          23.468488693237305,
          23.534650802612305,
          23.534650802612305,
          23.629167556762695,
          23.336166381835938,
          23.534650802612305,
          23.629167556762695,
          26.75766944885254,
          28.109256744384766,
          27.835159301757812,
          26.634798049926758,
          28.03364372253418,
          29.687686920166016,
          31.795408248901367,
          31.94663429260254,
          31.360631942749023,
          30.52888298034668,
          31.20940589904785,
          30.85024070739746,
          31.228309631347656,
          32.92015838623047,
          31.85211944580078,
          34.971168518066406,
          36.96546936035156,
          36.105369567871094,
          34.27174377441406,
          34.56474685668945,
          34.10161590576172,
          37.145050048828125,
          36.62520980834961,
          36.05811309814453,
          36.23768997192383,
          35.78401184082031,
          35.51936721801758,
          36.90876007080078,
          38.496639251708984,
          37.91063690185547,
          36.48343276977539,
          37.52312088012695,
          36,
          36.7400016784668,
          37.7400016784668,
          37.2599983215332,
          36.40999984741211,
          37.09000015258789,
          36.459999084472656,
          36.13999938964844,
          35.70000076293945,
          34.95000076293945,
          35.13999938964844,
          35.380001068115234,
          36.0099983215332,
          37.97999954223633,
          37.540000915527344,
          38.83000183105469
         ],
         "yaxis": "y"
        }
       ],
       "layout": {
        "legend": {
         "tracegroupgap": 0
        },
        "margin": {
         "t": 60
        },
        "template": {
         "data": {
          "bar": [
           {
            "error_x": {
             "color": "#2a3f5f"
            },
            "error_y": {
             "color": "#2a3f5f"
            },
            "marker": {
             "line": {
              "color": "#E5ECF6",
              "width": 0.5
             }
            },
            "type": "bar"
           }
          ],
          "barpolar": [
           {
            "marker": {
             "line": {
              "color": "#E5ECF6",
              "width": 0.5
             }
            },
            "type": "barpolar"
           }
          ],
          "carpet": [
           {
            "aaxis": {
             "endlinecolor": "#2a3f5f",
             "gridcolor": "white",
             "linecolor": "white",
             "minorgridcolor": "white",
             "startlinecolor": "#2a3f5f"
            },
            "baxis": {
             "endlinecolor": "#2a3f5f",
             "gridcolor": "white",
             "linecolor": "white",
             "minorgridcolor": "white",
             "startlinecolor": "#2a3f5f"
            },
            "type": "carpet"
           }
          ],
          "choropleth": [
           {
            "colorbar": {
             "outlinewidth": 0,
             "ticks": ""
            },
            "type": "choropleth"
           }
          ],
          "contour": [
           {
            "colorbar": {
             "outlinewidth": 0,
             "ticks": ""
            },
            "colorscale": [
             [
              0,
              "#0d0887"
             ],
             [
              0.1111111111111111,
              "#46039f"
             ],
             [
              0.2222222222222222,
              "#7201a8"
             ],
             [
              0.3333333333333333,
              "#9c179e"
             ],
             [
              0.4444444444444444,
              "#bd3786"
             ],
             [
              0.5555555555555556,
              "#d8576b"
             ],
             [
              0.6666666666666666,
              "#ed7953"
             ],
             [
              0.7777777777777778,
              "#fb9f3a"
             ],
             [
              0.8888888888888888,
              "#fdca26"
             ],
             [
              1,
              "#f0f921"
             ]
            ],
            "type": "contour"
           }
          ],
          "contourcarpet": [
           {
            "colorbar": {
             "outlinewidth": 0,
             "ticks": ""
            },
            "type": "contourcarpet"
           }
          ],
          "heatmap": [
           {
            "colorbar": {
             "outlinewidth": 0,
             "ticks": ""
            },
            "colorscale": [
             [
              0,
              "#0d0887"
             ],
             [
              0.1111111111111111,
              "#46039f"
             ],
             [
              0.2222222222222222,
              "#7201a8"
             ],
             [
              0.3333333333333333,
              "#9c179e"
             ],
             [
              0.4444444444444444,
              "#bd3786"
             ],
             [
              0.5555555555555556,
              "#d8576b"
             ],
             [
              0.6666666666666666,
              "#ed7953"
             ],
             [
              0.7777777777777778,
              "#fb9f3a"
             ],
             [
              0.8888888888888888,
              "#fdca26"
             ],
             [
              1,
              "#f0f921"
             ]
            ],
            "type": "heatmap"
           }
          ],
          "heatmapgl": [
           {
            "colorbar": {
             "outlinewidth": 0,
             "ticks": ""
            },
            "colorscale": [
             [
              0,
              "#0d0887"
             ],
             [
              0.1111111111111111,
              "#46039f"
             ],
             [
              0.2222222222222222,
              "#7201a8"
             ],
             [
              0.3333333333333333,
              "#9c179e"
             ],
             [
              0.4444444444444444,
              "#bd3786"
             ],
             [
              0.5555555555555556,
              "#d8576b"
             ],
             [
              0.6666666666666666,
              "#ed7953"
             ],
             [
              0.7777777777777778,
              "#fb9f3a"
             ],
             [
              0.8888888888888888,
              "#fdca26"
             ],
             [
              1,
              "#f0f921"
             ]
            ],
            "type": "heatmapgl"
           }
          ],
          "histogram": [
           {
            "marker": {
             "colorbar": {
              "outlinewidth": 0,
              "ticks": ""
             }
            },
            "type": "histogram"
           }
          ],
          "histogram2d": [
           {
            "colorbar": {
             "outlinewidth": 0,
             "ticks": ""
            },
            "colorscale": [
             [
              0,
              "#0d0887"
             ],
             [
              0.1111111111111111,
              "#46039f"
             ],
             [
              0.2222222222222222,
              "#7201a8"
             ],
             [
              0.3333333333333333,
              "#9c179e"
             ],
             [
              0.4444444444444444,
              "#bd3786"
             ],
             [
              0.5555555555555556,
              "#d8576b"
             ],
             [
              0.6666666666666666,
              "#ed7953"
             ],
             [
              0.7777777777777778,
              "#fb9f3a"
             ],
             [
              0.8888888888888888,
              "#fdca26"
             ],
             [
              1,
              "#f0f921"
             ]
            ],
            "type": "histogram2d"
           }
          ],
          "histogram2dcontour": [
           {
            "colorbar": {
             "outlinewidth": 0,
             "ticks": ""
            },
            "colorscale": [
             [
              0,
              "#0d0887"
             ],
             [
              0.1111111111111111,
              "#46039f"
             ],
             [
              0.2222222222222222,
              "#7201a8"
             ],
             [
              0.3333333333333333,
              "#9c179e"
             ],
             [
              0.4444444444444444,
              "#bd3786"
             ],
             [
              0.5555555555555556,
              "#d8576b"
             ],
             [
              0.6666666666666666,
              "#ed7953"
             ],
             [
              0.7777777777777778,
              "#fb9f3a"
             ],
             [
              0.8888888888888888,
              "#fdca26"
             ],
             [
              1,
              "#f0f921"
             ]
            ],
            "type": "histogram2dcontour"
           }
          ],
          "mesh3d": [
           {
            "colorbar": {
             "outlinewidth": 0,
             "ticks": ""
            },
            "type": "mesh3d"
           }
          ],
          "parcoords": [
           {
            "line": {
             "colorbar": {
              "outlinewidth": 0,
              "ticks": ""
             }
            },
            "type": "parcoords"
           }
          ],
          "pie": [
           {
            "automargin": true,
            "type": "pie"
           }
          ],
          "scatter": [
           {
            "marker": {
             "colorbar": {
              "outlinewidth": 0,
              "ticks": ""
             }
            },
            "type": "scatter"
           }
          ],
          "scatter3d": [
           {
            "line": {
             "colorbar": {
              "outlinewidth": 0,
              "ticks": ""
             }
            },
            "marker": {
             "colorbar": {
              "outlinewidth": 0,
              "ticks": ""
             }
            },
            "type": "scatter3d"
           }
          ],
          "scattercarpet": [
           {
            "marker": {
             "colorbar": {
              "outlinewidth": 0,
              "ticks": ""
             }
            },
            "type": "scattercarpet"
           }
          ],
          "scattergeo": [
           {
            "marker": {
             "colorbar": {
              "outlinewidth": 0,
              "ticks": ""
             }
            },
            "type": "scattergeo"
           }
          ],
          "scattergl": [
           {
            "marker": {
             "colorbar": {
              "outlinewidth": 0,
              "ticks": ""
             }
            },
            "type": "scattergl"
           }
          ],
          "scattermapbox": [
           {
            "marker": {
             "colorbar": {
              "outlinewidth": 0,
              "ticks": ""
             }
            },
            "type": "scattermapbox"
           }
          ],
          "scatterpolar": [
           {
            "marker": {
             "colorbar": {
              "outlinewidth": 0,
              "ticks": ""
             }
            },
            "type": "scatterpolar"
           }
          ],
          "scatterpolargl": [
           {
            "marker": {
             "colorbar": {
              "outlinewidth": 0,
              "ticks": ""
             }
            },
            "type": "scatterpolargl"
           }
          ],
          "scatterternary": [
           {
            "marker": {
             "colorbar": {
              "outlinewidth": 0,
              "ticks": ""
             }
            },
            "type": "scatterternary"
           }
          ],
          "surface": [
           {
            "colorbar": {
             "outlinewidth": 0,
             "ticks": ""
            },
            "colorscale": [
             [
              0,
              "#0d0887"
             ],
             [
              0.1111111111111111,
              "#46039f"
             ],
             [
              0.2222222222222222,
              "#7201a8"
             ],
             [
              0.3333333333333333,
              "#9c179e"
             ],
             [
              0.4444444444444444,
              "#bd3786"
             ],
             [
              0.5555555555555556,
              "#d8576b"
             ],
             [
              0.6666666666666666,
              "#ed7953"
             ],
             [
              0.7777777777777778,
              "#fb9f3a"
             ],
             [
              0.8888888888888888,
              "#fdca26"
             ],
             [
              1,
              "#f0f921"
             ]
            ],
            "type": "surface"
           }
          ],
          "table": [
           {
            "cells": {
             "fill": {
              "color": "#EBF0F8"
             },
             "line": {
              "color": "white"
             }
            },
            "header": {
             "fill": {
              "color": "#C8D4E3"
             },
             "line": {
              "color": "white"
             }
            },
            "type": "table"
           }
          ]
         },
         "layout": {
          "annotationdefaults": {
           "arrowcolor": "#2a3f5f",
           "arrowhead": 0,
           "arrowwidth": 1
          },
          "coloraxis": {
           "colorbar": {
            "outlinewidth": 0,
            "ticks": ""
           }
          },
          "colorscale": {
           "diverging": [
            [
             0,
             "#8e0152"
            ],
            [
             0.1,
             "#c51b7d"
            ],
            [
             0.2,
             "#de77ae"
            ],
            [
             0.3,
             "#f1b6da"
            ],
            [
             0.4,
             "#fde0ef"
            ],
            [
             0.5,
             "#f7f7f7"
            ],
            [
             0.6,
             "#e6f5d0"
            ],
            [
             0.7,
             "#b8e186"
            ],
            [
             0.8,
             "#7fbc41"
            ],
            [
             0.9,
             "#4d9221"
            ],
            [
             1,
             "#276419"
            ]
           ],
           "sequential": [
            [
             0,
             "#0d0887"
            ],
            [
             0.1111111111111111,
             "#46039f"
            ],
            [
             0.2222222222222222,
             "#7201a8"
            ],
            [
             0.3333333333333333,
             "#9c179e"
            ],
            [
             0.4444444444444444,
             "#bd3786"
            ],
            [
             0.5555555555555556,
             "#d8576b"
            ],
            [
             0.6666666666666666,
             "#ed7953"
            ],
            [
             0.7777777777777778,
             "#fb9f3a"
            ],
            [
             0.8888888888888888,
             "#fdca26"
            ],
            [
             1,
             "#f0f921"
            ]
           ],
           "sequentialminus": [
            [
             0,
             "#0d0887"
            ],
            [
             0.1111111111111111,
             "#46039f"
            ],
            [
             0.2222222222222222,
             "#7201a8"
            ],
            [
             0.3333333333333333,
             "#9c179e"
            ],
            [
             0.4444444444444444,
             "#bd3786"
            ],
            [
             0.5555555555555556,
             "#d8576b"
            ],
            [
             0.6666666666666666,
             "#ed7953"
            ],
            [
             0.7777777777777778,
             "#fb9f3a"
            ],
            [
             0.8888888888888888,
             "#fdca26"
            ],
            [
             1,
             "#f0f921"
            ]
           ]
          },
          "colorway": [
           "#636efa",
           "#EF553B",
           "#00cc96",
           "#ab63fa",
           "#FFA15A",
           "#19d3f3",
           "#FF6692",
           "#B6E880",
           "#FF97FF",
           "#FECB52"
          ],
          "font": {
           "color": "#2a3f5f"
          },
          "geo": {
           "bgcolor": "white",
           "lakecolor": "white",
           "landcolor": "#E5ECF6",
           "showlakes": true,
           "showland": true,
           "subunitcolor": "white"
          },
          "hoverlabel": {
           "align": "left"
          },
          "hovermode": "closest",
          "mapbox": {
           "style": "light"
          },
          "paper_bgcolor": "white",
          "plot_bgcolor": "#E5ECF6",
          "polar": {
           "angularaxis": {
            "gridcolor": "white",
            "linecolor": "white",
            "ticks": ""
           },
           "bgcolor": "#E5ECF6",
           "radialaxis": {
            "gridcolor": "white",
            "linecolor": "white",
            "ticks": ""
           }
          },
          "scene": {
           "xaxis": {
            "backgroundcolor": "#E5ECF6",
            "gridcolor": "white",
            "gridwidth": 2,
            "linecolor": "white",
            "showbackground": true,
            "ticks": "",
            "zerolinecolor": "white"
           },
           "yaxis": {
            "backgroundcolor": "#E5ECF6",
            "gridcolor": "white",
            "gridwidth": 2,
            "linecolor": "white",
            "showbackground": true,
            "ticks": "",
            "zerolinecolor": "white"
           },
           "zaxis": {
            "backgroundcolor": "#E5ECF6",
            "gridcolor": "white",
            "gridwidth": 2,
            "linecolor": "white",
            "showbackground": true,
            "ticks": "",
            "zerolinecolor": "white"
           }
          },
          "shapedefaults": {
           "line": {
            "color": "#2a3f5f"
           }
          },
          "ternary": {
           "aaxis": {
            "gridcolor": "white",
            "linecolor": "white",
            "ticks": ""
           },
           "baxis": {
            "gridcolor": "white",
            "linecolor": "white",
            "ticks": ""
           },
           "bgcolor": "#E5ECF6",
           "caxis": {
            "gridcolor": "white",
            "linecolor": "white",
            "ticks": ""
           }
          },
          "title": {
           "x": 0.05
          },
          "xaxis": {
           "automargin": true,
           "gridcolor": "white",
           "linecolor": "white",
           "ticks": "",
           "title": {
            "standoff": 15
           },
           "zerolinecolor": "white",
           "zerolinewidth": 2
          },
          "yaxis": {
           "automargin": true,
           "gridcolor": "white",
           "linecolor": "white",
           "ticks": "",
           "title": {
            "standoff": 15
           },
           "zerolinecolor": "white",
           "zerolinewidth": 2
          }
         }
        },
        "xaxis": {
         "anchor": "y",
         "domain": [
          0,
          1
         ],
         "title": {
          "text": "x"
         }
        },
        "yaxis": {
         "anchor": "x",
         "domain": [
          0,
          1
         ],
         "title": {
          "text": "PCAR3.SA"
         }
        }
       }
      },
      "text/html": [
       "<div>\n",
       "        \n",
       "        \n",
       "            <div id=\"44ad1293-1c10-4fc0-aa2b-61975a3b26e1\" class=\"plotly-graph-div\" style=\"height:525px; width:100%;\"></div>\n",
       "            <script type=\"text/javascript\">\n",
       "                require([\"plotly\"], function(Plotly) {\n",
       "                    window.PLOTLYENV=window.PLOTLYENV || {};\n",
       "                    \n",
       "                if (document.getElementById(\"44ad1293-1c10-4fc0-aa2b-61975a3b26e1\")) {\n",
       "                    Plotly.newPlot(\n",
       "                        '44ad1293-1c10-4fc0-aa2b-61975a3b26e1',\n",
       "                        [{\"hovertemplate\": \"x=%{x}<br>PCAR3.SA=%{y}<extra></extra>\", \"legendgroup\": \"\", \"line\": {\"color\": \"#636efa\", \"dash\": \"solid\"}, \"mode\": \"lines\", \"name\": \"\", \"orientation\": \"v\", \"showlegend\": false, \"type\": \"scatter\", \"x\": [\"2021-01-04T00:00:00\", \"2021-01-05T00:00:00\", \"2021-01-06T00:00:00\", \"2021-01-07T00:00:00\", \"2021-01-08T00:00:00\", \"2021-01-11T00:00:00\", \"2021-01-12T00:00:00\", \"2021-01-13T00:00:00\", \"2021-01-14T00:00:00\", \"2021-01-15T00:00:00\", \"2021-01-18T00:00:00\", \"2021-01-19T00:00:00\", \"2021-01-20T00:00:00\", \"2021-01-21T00:00:00\", \"2021-01-22T00:00:00\", \"2021-01-26T00:00:00\", \"2021-01-27T00:00:00\", \"2021-01-28T00:00:00\", \"2021-01-29T00:00:00\", \"2021-02-01T00:00:00\", \"2021-02-02T00:00:00\", \"2021-02-03T00:00:00\", \"2021-02-04T00:00:00\", \"2021-02-05T00:00:00\", \"2021-02-08T00:00:00\", \"2021-02-09T00:00:00\", \"2021-02-10T00:00:00\", \"2021-02-11T00:00:00\", \"2021-02-12T00:00:00\", \"2021-02-18T00:00:00\", \"2021-02-19T00:00:00\", \"2021-02-22T00:00:00\", \"2021-02-23T00:00:00\", \"2021-02-24T00:00:00\", \"2021-02-25T00:00:00\", \"2021-02-26T00:00:00\", \"2021-03-01T00:00:00\", \"2021-03-02T00:00:00\", \"2021-03-03T00:00:00\", \"2021-03-04T00:00:00\", \"2021-03-05T00:00:00\", \"2021-03-08T00:00:00\", \"2021-03-09T00:00:00\", \"2021-03-10T00:00:00\", \"2021-03-11T00:00:00\", \"2021-03-12T00:00:00\", \"2021-03-15T00:00:00\", \"2021-03-16T00:00:00\", \"2021-03-17T00:00:00\", \"2021-03-18T00:00:00\", \"2021-03-19T00:00:00\", \"2021-03-22T00:00:00\", \"2021-03-23T00:00:00\", \"2021-03-24T00:00:00\", \"2021-03-25T00:00:00\", \"2021-03-26T00:00:00\", \"2021-03-29T00:00:00\", \"2021-03-30T00:00:00\", \"2021-03-31T00:00:00\", \"2021-04-01T00:00:00\", \"2021-04-05T00:00:00\", \"2021-04-06T00:00:00\", \"2021-04-07T00:00:00\", \"2021-04-08T00:00:00\", \"2021-04-09T00:00:00\", \"2021-04-12T00:00:00\", \"2021-04-13T00:00:00\", \"2021-04-14T00:00:00\", \"2021-04-15T00:00:00\", \"2021-04-16T00:00:00\", \"2021-04-19T00:00:00\", \"2021-04-20T00:00:00\", \"2021-04-22T00:00:00\", \"2021-04-23T00:00:00\", \"2021-04-26T00:00:00\", \"2021-04-27T00:00:00\", \"2021-04-28T00:00:00\", \"2021-04-29T00:00:00\", \"2021-04-30T00:00:00\", \"2021-05-03T00:00:00\", \"2021-05-04T00:00:00\", \"2021-05-05T00:00:00\", \"2021-05-06T00:00:00\", \"2021-05-07T00:00:00\", \"2021-05-10T00:00:00\", \"2021-05-11T00:00:00\", \"2021-05-12T00:00:00\", \"2021-05-13T00:00:00\", \"2021-05-14T00:00:00\", \"2021-05-17T00:00:00\", \"2021-05-18T00:00:00\", \"2021-05-19T00:00:00\", \"2021-05-20T00:00:00\", \"2021-05-21T00:00:00\", \"2021-05-24T00:00:00\", \"2021-05-25T00:00:00\", \"2021-05-26T00:00:00\", \"2021-05-27T00:00:00\"], \"xaxis\": \"x\", \"y\": [70.97256469726562, 69.31851959228516, 68.75142669677734, 69.97068786621094, 72.34306335449219, 70.3487548828125, 72.1634750366211, 73.57176971435547, 73.06138610839844, 72.2296371459961, 72.4942855834961, 74.29010009765625, 73.03302764892578, 71.85157012939453, 71.2750244140625, 71.2277603149414, 69.96123504638672, 71.37899017333984, 71.3411865234375, 75.05569458007812, 77.2106704711914, 77.50366973876953, 79.13880920410156, 80.43368530273438, 82.79660034179688, 83.09905242919922, 82.45634460449219, 82.73043823242188, 84.07257843017578, 10.780349731445312, 11.13201904296875, 11.192091941833496, 11.222126960754395, 11.304725646972656, 10.611398696899414, 10.387381553649902, 22.050739288330078, 21.379671096801758, 20.179309844970703, 21.04886245727539, 21.65376853942871, 21.59705924987793, 22.40045166015625, 23.468488693237305, 23.534650802612305, 23.534650802612305, 23.629167556762695, 23.336166381835938, 23.534650802612305, 23.629167556762695, 26.75766944885254, 28.109256744384766, 27.835159301757812, 26.634798049926758, 28.03364372253418, 29.687686920166016, 31.795408248901367, 31.94663429260254, 31.360631942749023, 30.52888298034668, 31.20940589904785, 30.85024070739746, 31.228309631347656, 32.92015838623047, 31.85211944580078, 34.971168518066406, 36.96546936035156, 36.105369567871094, 34.27174377441406, 34.56474685668945, 34.10161590576172, 37.145050048828125, 36.62520980834961, 36.05811309814453, 36.23768997192383, 35.78401184082031, 35.51936721801758, 36.90876007080078, 38.496639251708984, 37.91063690185547, 36.48343276977539, 37.52312088012695, 36.0, 36.7400016784668, 37.7400016784668, 37.2599983215332, 36.40999984741211, 37.09000015258789, 36.459999084472656, 36.13999938964844, 35.70000076293945, 34.95000076293945, 35.13999938964844, 35.380001068115234, 36.0099983215332, 37.97999954223633, 37.540000915527344, 38.83000183105469], \"yaxis\": \"y\"}],\n",
       "                        {\"legend\": {\"tracegroupgap\": 0}, \"margin\": {\"t\": 60}, \"template\": {\"data\": {\"bar\": [{\"error_x\": {\"color\": \"#2a3f5f\"}, \"error_y\": {\"color\": \"#2a3f5f\"}, \"marker\": {\"line\": {\"color\": \"#E5ECF6\", \"width\": 0.5}}, \"type\": \"bar\"}], \"barpolar\": [{\"marker\": {\"line\": {\"color\": \"#E5ECF6\", \"width\": 0.5}}, \"type\": \"barpolar\"}], \"carpet\": [{\"aaxis\": {\"endlinecolor\": \"#2a3f5f\", \"gridcolor\": \"white\", \"linecolor\": \"white\", \"minorgridcolor\": \"white\", \"startlinecolor\": \"#2a3f5f\"}, \"baxis\": {\"endlinecolor\": \"#2a3f5f\", \"gridcolor\": \"white\", \"linecolor\": \"white\", \"minorgridcolor\": \"white\", \"startlinecolor\": \"#2a3f5f\"}, \"type\": \"carpet\"}], \"choropleth\": [{\"colorbar\": {\"outlinewidth\": 0, \"ticks\": \"\"}, \"type\": \"choropleth\"}], \"contour\": [{\"colorbar\": {\"outlinewidth\": 0, \"ticks\": \"\"}, \"colorscale\": [[0.0, \"#0d0887\"], [0.1111111111111111, \"#46039f\"], [0.2222222222222222, \"#7201a8\"], [0.3333333333333333, \"#9c179e\"], [0.4444444444444444, \"#bd3786\"], [0.5555555555555556, \"#d8576b\"], [0.6666666666666666, \"#ed7953\"], [0.7777777777777778, \"#fb9f3a\"], [0.8888888888888888, \"#fdca26\"], [1.0, \"#f0f921\"]], \"type\": \"contour\"}], \"contourcarpet\": [{\"colorbar\": {\"outlinewidth\": 0, \"ticks\": \"\"}, \"type\": \"contourcarpet\"}], \"heatmap\": [{\"colorbar\": {\"outlinewidth\": 0, \"ticks\": \"\"}, \"colorscale\": [[0.0, \"#0d0887\"], [0.1111111111111111, \"#46039f\"], [0.2222222222222222, \"#7201a8\"], [0.3333333333333333, \"#9c179e\"], [0.4444444444444444, \"#bd3786\"], [0.5555555555555556, \"#d8576b\"], [0.6666666666666666, \"#ed7953\"], [0.7777777777777778, \"#fb9f3a\"], [0.8888888888888888, \"#fdca26\"], [1.0, \"#f0f921\"]], \"type\": \"heatmap\"}], \"heatmapgl\": [{\"colorbar\": {\"outlinewidth\": 0, \"ticks\": \"\"}, \"colorscale\": [[0.0, \"#0d0887\"], [0.1111111111111111, \"#46039f\"], [0.2222222222222222, \"#7201a8\"], [0.3333333333333333, \"#9c179e\"], [0.4444444444444444, \"#bd3786\"], [0.5555555555555556, \"#d8576b\"], [0.6666666666666666, \"#ed7953\"], [0.7777777777777778, \"#fb9f3a\"], [0.8888888888888888, \"#fdca26\"], [1.0, \"#f0f921\"]], \"type\": \"heatmapgl\"}], \"histogram\": [{\"marker\": {\"colorbar\": {\"outlinewidth\": 0, \"ticks\": \"\"}}, \"type\": \"histogram\"}], \"histogram2d\": [{\"colorbar\": {\"outlinewidth\": 0, \"ticks\": \"\"}, \"colorscale\": [[0.0, \"#0d0887\"], [0.1111111111111111, \"#46039f\"], [0.2222222222222222, \"#7201a8\"], [0.3333333333333333, \"#9c179e\"], [0.4444444444444444, \"#bd3786\"], [0.5555555555555556, \"#d8576b\"], [0.6666666666666666, \"#ed7953\"], [0.7777777777777778, \"#fb9f3a\"], [0.8888888888888888, \"#fdca26\"], [1.0, \"#f0f921\"]], \"type\": \"histogram2d\"}], \"histogram2dcontour\": [{\"colorbar\": {\"outlinewidth\": 0, \"ticks\": \"\"}, \"colorscale\": [[0.0, \"#0d0887\"], [0.1111111111111111, \"#46039f\"], [0.2222222222222222, \"#7201a8\"], [0.3333333333333333, \"#9c179e\"], [0.4444444444444444, \"#bd3786\"], [0.5555555555555556, \"#d8576b\"], [0.6666666666666666, \"#ed7953\"], [0.7777777777777778, \"#fb9f3a\"], [0.8888888888888888, \"#fdca26\"], [1.0, \"#f0f921\"]], \"type\": \"histogram2dcontour\"}], \"mesh3d\": [{\"colorbar\": {\"outlinewidth\": 0, \"ticks\": \"\"}, \"type\": \"mesh3d\"}], \"parcoords\": [{\"line\": {\"colorbar\": {\"outlinewidth\": 0, \"ticks\": \"\"}}, \"type\": \"parcoords\"}], \"pie\": [{\"automargin\": true, \"type\": \"pie\"}], \"scatter\": [{\"marker\": {\"colorbar\": {\"outlinewidth\": 0, \"ticks\": \"\"}}, \"type\": \"scatter\"}], \"scatter3d\": [{\"line\": {\"colorbar\": {\"outlinewidth\": 0, \"ticks\": \"\"}}, \"marker\": {\"colorbar\": {\"outlinewidth\": 0, \"ticks\": \"\"}}, \"type\": \"scatter3d\"}], \"scattercarpet\": [{\"marker\": {\"colorbar\": {\"outlinewidth\": 0, \"ticks\": \"\"}}, \"type\": \"scattercarpet\"}], \"scattergeo\": [{\"marker\": {\"colorbar\": {\"outlinewidth\": 0, \"ticks\": \"\"}}, \"type\": \"scattergeo\"}], \"scattergl\": [{\"marker\": {\"colorbar\": {\"outlinewidth\": 0, \"ticks\": \"\"}}, \"type\": \"scattergl\"}], \"scattermapbox\": [{\"marker\": {\"colorbar\": {\"outlinewidth\": 0, \"ticks\": \"\"}}, \"type\": \"scattermapbox\"}], \"scatterpolar\": [{\"marker\": {\"colorbar\": {\"outlinewidth\": 0, \"ticks\": \"\"}}, \"type\": \"scatterpolar\"}], \"scatterpolargl\": [{\"marker\": {\"colorbar\": {\"outlinewidth\": 0, \"ticks\": \"\"}}, \"type\": \"scatterpolargl\"}], \"scatterternary\": [{\"marker\": {\"colorbar\": {\"outlinewidth\": 0, \"ticks\": \"\"}}, \"type\": \"scatterternary\"}], \"surface\": [{\"colorbar\": {\"outlinewidth\": 0, \"ticks\": \"\"}, \"colorscale\": [[0.0, \"#0d0887\"], [0.1111111111111111, \"#46039f\"], [0.2222222222222222, \"#7201a8\"], [0.3333333333333333, \"#9c179e\"], [0.4444444444444444, \"#bd3786\"], [0.5555555555555556, \"#d8576b\"], [0.6666666666666666, \"#ed7953\"], [0.7777777777777778, \"#fb9f3a\"], [0.8888888888888888, \"#fdca26\"], [1.0, \"#f0f921\"]], \"type\": \"surface\"}], \"table\": [{\"cells\": {\"fill\": {\"color\": \"#EBF0F8\"}, \"line\": {\"color\": \"white\"}}, \"header\": {\"fill\": {\"color\": \"#C8D4E3\"}, \"line\": {\"color\": \"white\"}}, \"type\": \"table\"}]}, \"layout\": {\"annotationdefaults\": {\"arrowcolor\": \"#2a3f5f\", \"arrowhead\": 0, \"arrowwidth\": 1}, \"coloraxis\": {\"colorbar\": {\"outlinewidth\": 0, \"ticks\": \"\"}}, \"colorscale\": {\"diverging\": [[0, \"#8e0152\"], [0.1, \"#c51b7d\"], [0.2, \"#de77ae\"], [0.3, \"#f1b6da\"], [0.4, \"#fde0ef\"], [0.5, \"#f7f7f7\"], [0.6, \"#e6f5d0\"], [0.7, \"#b8e186\"], [0.8, \"#7fbc41\"], [0.9, \"#4d9221\"], [1, \"#276419\"]], \"sequential\": [[0.0, \"#0d0887\"], [0.1111111111111111, \"#46039f\"], [0.2222222222222222, \"#7201a8\"], [0.3333333333333333, \"#9c179e\"], [0.4444444444444444, \"#bd3786\"], [0.5555555555555556, \"#d8576b\"], [0.6666666666666666, \"#ed7953\"], [0.7777777777777778, \"#fb9f3a\"], [0.8888888888888888, \"#fdca26\"], [1.0, \"#f0f921\"]], \"sequentialminus\": [[0.0, \"#0d0887\"], [0.1111111111111111, \"#46039f\"], [0.2222222222222222, \"#7201a8\"], [0.3333333333333333, \"#9c179e\"], [0.4444444444444444, \"#bd3786\"], [0.5555555555555556, \"#d8576b\"], [0.6666666666666666, \"#ed7953\"], [0.7777777777777778, \"#fb9f3a\"], [0.8888888888888888, \"#fdca26\"], [1.0, \"#f0f921\"]]}, \"colorway\": [\"#636efa\", \"#EF553B\", \"#00cc96\", \"#ab63fa\", \"#FFA15A\", \"#19d3f3\", \"#FF6692\", \"#B6E880\", \"#FF97FF\", \"#FECB52\"], \"font\": {\"color\": \"#2a3f5f\"}, \"geo\": {\"bgcolor\": \"white\", \"lakecolor\": \"white\", \"landcolor\": \"#E5ECF6\", \"showlakes\": true, \"showland\": true, \"subunitcolor\": \"white\"}, \"hoverlabel\": {\"align\": \"left\"}, \"hovermode\": \"closest\", \"mapbox\": {\"style\": \"light\"}, \"paper_bgcolor\": \"white\", \"plot_bgcolor\": \"#E5ECF6\", \"polar\": {\"angularaxis\": {\"gridcolor\": \"white\", \"linecolor\": \"white\", \"ticks\": \"\"}, \"bgcolor\": \"#E5ECF6\", \"radialaxis\": {\"gridcolor\": \"white\", \"linecolor\": \"white\", \"ticks\": \"\"}}, \"scene\": {\"xaxis\": {\"backgroundcolor\": \"#E5ECF6\", \"gridcolor\": \"white\", \"gridwidth\": 2, \"linecolor\": \"white\", \"showbackground\": true, \"ticks\": \"\", \"zerolinecolor\": \"white\"}, \"yaxis\": {\"backgroundcolor\": \"#E5ECF6\", \"gridcolor\": \"white\", \"gridwidth\": 2, \"linecolor\": \"white\", \"showbackground\": true, \"ticks\": \"\", \"zerolinecolor\": \"white\"}, \"zaxis\": {\"backgroundcolor\": \"#E5ECF6\", \"gridcolor\": \"white\", \"gridwidth\": 2, \"linecolor\": \"white\", \"showbackground\": true, \"ticks\": \"\", \"zerolinecolor\": \"white\"}}, \"shapedefaults\": {\"line\": {\"color\": \"#2a3f5f\"}}, \"ternary\": {\"aaxis\": {\"gridcolor\": \"white\", \"linecolor\": \"white\", \"ticks\": \"\"}, \"baxis\": {\"gridcolor\": \"white\", \"linecolor\": \"white\", \"ticks\": \"\"}, \"bgcolor\": \"#E5ECF6\", \"caxis\": {\"gridcolor\": \"white\", \"linecolor\": \"white\", \"ticks\": \"\"}}, \"title\": {\"x\": 0.05}, \"xaxis\": {\"automargin\": true, \"gridcolor\": \"white\", \"linecolor\": \"white\", \"ticks\": \"\", \"title\": {\"standoff\": 15}, \"zerolinecolor\": \"white\", \"zerolinewidth\": 2}, \"yaxis\": {\"automargin\": true, \"gridcolor\": \"white\", \"linecolor\": \"white\", \"ticks\": \"\", \"title\": {\"standoff\": 15}, \"zerolinecolor\": \"white\", \"zerolinewidth\": 2}}}, \"xaxis\": {\"anchor\": \"y\", \"domain\": [0.0, 1.0], \"title\": {\"text\": \"x\"}}, \"yaxis\": {\"anchor\": \"x\", \"domain\": [0.0, 1.0], \"title\": {\"text\": \"PCAR3.SA\"}}},\n",
       "                        {\"responsive\": true}\n",
       "                    ).then(function(){\n",
       "                            \n",
       "var gd = document.getElementById('44ad1293-1c10-4fc0-aa2b-61975a3b26e1');\n",
       "var x = new MutationObserver(function (mutations, observer) {{\n",
       "        var display = window.getComputedStyle(gd).display;\n",
       "        if (!display || display === 'none') {{\n",
       "            console.log([gd, 'removed!']);\n",
       "            Plotly.purge(gd);\n",
       "            observer.disconnect();\n",
       "        }}\n",
       "}});\n",
       "\n",
       "// Listen for the removal of the full notebook cells\n",
       "var notebookContainer = gd.closest('#notebook-container');\n",
       "if (notebookContainer) {{\n",
       "    x.observe(notebookContainer, {childList: true});\n",
       "}}\n",
       "\n",
       "// Listen for the clearing of the current output cell\n",
       "var outputEl = gd.closest('.output');\n",
       "if (outputEl) {{\n",
       "    x.observe(outputEl, {childList: true});\n",
       "}}\n",
       "\n",
       "                        })\n",
       "                };\n",
       "                });\n",
       "            </script>\n",
       "        </div>"
      ]
     },
     "metadata": {},
     "output_type": "display_data"
    }
   ],
   "source": [
    "import plotly.express as px\n",
    "fig = px.line(fechamento['2021':], x=fechamento['2021':].index, y=\"PCAR3.SA\")\n",
    "fig.show()"
   ]
  },
  {
   "cell_type": "markdown",
   "metadata": {},
   "source": [
    "Excluindo PCAR3"
   ]
  },
  {
   "cell_type": "code",
   "execution_count": 235,
   "metadata": {},
   "outputs": [],
   "source": [
    "retorno_anual.drop(columns=['PCAR3.SA'],inplace=True)"
   ]
  },
  {
   "cell_type": "markdown",
   "metadata": {},
   "source": [
    "Ordenando retorno do início de 2021 até agora do maior para o menor"
   ]
  },
  {
   "cell_type": "code",
   "execution_count": 236,
   "metadata": {},
   "outputs": [],
   "source": [
    "retorno_ytd = retorno_anual.loc['2021-12-31'].sort_values()"
   ]
  },
  {
   "cell_type": "code",
   "execution_count": 237,
   "metadata": {},
   "outputs": [
    {
     "data": {
      "text/plain": [
       "EZTC3.SA    -0.262956\n",
       "LAME4.SA    -0.254888\n",
       "VVAR3.SA    -0.212871\n",
       "BTOW3.SA    -0.211877\n",
       "SULA11.SA   -0.181725\n",
       "               ...   \n",
       "GGBR4.SA     0.375587\n",
       "CSNA3.SA     0.430607\n",
       "HGTX3.SA     0.899490\n",
       "EMBR3.SA     1.019209\n",
       "BRKM5.SA     1.197285\n",
       "Name: 2021-12-31 00:00:00, Length: 62, dtype: float64"
      ]
     },
     "execution_count": 237,
     "metadata": {},
     "output_type": "execute_result"
    }
   ],
   "source": [
    "retorno_ytd"
   ]
  },
  {
   "cell_type": "markdown",
   "metadata": {},
   "source": [
    "Exibindo os maiores altas \"tail\" em gráficos de barra"
   ]
  },
  {
   "cell_type": "code",
   "execution_count": 238,
   "metadata": {},
   "outputs": [
    {
     "data": {
      "text/plain": [
       "<AxesSubplot:>"
      ]
     },
     "execution_count": 238,
     "metadata": {},
     "output_type": "execute_result"
    },
    {
     "data": {
      "image/png": "[encoded data removed]",
      "text/plain": [
       "<Figure size 432x288 with 1 Axes>"
      ]
     },
     "metadata": {
      "needs_background": "light"
     },
     "output_type": "display_data"
    }
   ],
   "source": [
    "retorno_ytd.tail().plot(kind='bar')"
   ]
  },
  {
   "cell_type": "code",
   "execution_count": 239,
   "metadata": {},
   "outputs": [
    {
     "data": {
      "text/plain": [
       "GGBR4.SA    0.375587\n",
       "CSNA3.SA    0.430607\n",
       "HGTX3.SA    0.899490\n",
       "EMBR3.SA    1.019209\n",
       "BRKM5.SA    1.197285\n",
       "Name: 2021-12-31 00:00:00, dtype: float64"
      ]
     },
     "execution_count": 239,
     "metadata": {},
     "output_type": "execute_result"
    }
   ],
   "source": [
    "retorno_ytd.tail()"
   ]
  },
  {
   "cell_type": "markdown",
   "metadata": {},
   "source": [
    "Usando o índice dos retornos para observar os fechamentos das maiores quedas"
   ]
  },
  {
   "cell_type": "code",
   "execution_count": 240,
   "metadata": {},
   "outputs": [
    {
     "data": {
      "text/html": [
       "<div>\n",
       "<style scoped>\n",
       "    .dataframe tbody tr th:only-of-type {\n",
       "        vertical-align: middle;\n",
       "    }\n",
       "\n",
       "    .dataframe tbody tr th {\n",
       "        vertical-align: top;\n",
       "    }\n",
       "\n",
       "    .dataframe thead th {\n",
       "        text-align: right;\n",
       "    }\n",
       "</style>\n",
       "<table border=\"1\" class=\"dataframe\">\n",
       "  <thead>\n",
       "    <tr style=\"text-align: right;\">\n",
       "      <th></th>\n",
       "      <th>GGBR4.SA</th>\n",
       "      <th>CSNA3.SA</th>\n",
       "      <th>HGTX3.SA</th>\n",
       "      <th>EMBR3.SA</th>\n",
       "      <th>BRKM5.SA</th>\n",
       "    </tr>\n",
       "    <tr>\n",
       "      <th>Date</th>\n",
       "      <th></th>\n",
       "      <th></th>\n",
       "      <th></th>\n",
       "      <th></th>\n",
       "      <th></th>\n",
       "    </tr>\n",
       "  </thead>\n",
       "  <tbody>\n",
       "    <tr>\n",
       "      <th>2010-12-31</th>\n",
       "      <td>18.828848</td>\n",
       "      <td>16.041613</td>\n",
       "      <td>3.937101</td>\n",
       "      <td>10.665159</td>\n",
       "      <td>13.046804</td>\n",
       "    </tr>\n",
       "    <tr>\n",
       "      <th>2011-12-31</th>\n",
       "      <td>12.307294</td>\n",
       "      <td>9.101307</td>\n",
       "      <td>4.178657</td>\n",
       "      <td>10.848492</td>\n",
       "      <td>8.507855</td>\n",
       "    </tr>\n",
       "    <tr>\n",
       "      <th>2012-12-31</th>\n",
       "      <td>15.476332</td>\n",
       "      <td>7.710001</td>\n",
       "      <td>4.926028</td>\n",
       "      <td>13.522031</td>\n",
       "      <td>8.887083</td>\n",
       "    </tr>\n",
       "    <tr>\n",
       "      <th>2013-12-31</th>\n",
       "      <td>16.051191</td>\n",
       "      <td>10.591897</td>\n",
       "      <td>5.582277</td>\n",
       "      <td>17.915955</td>\n",
       "      <td>14.580369</td>\n",
       "    </tr>\n",
       "    <tr>\n",
       "      <th>2014-12-31</th>\n",
       "      <td>8.548304</td>\n",
       "      <td>4.287490</td>\n",
       "      <td>6.136849</td>\n",
       "      <td>23.552658</td>\n",
       "      <td>12.621731</td>\n",
       "    </tr>\n",
       "    <tr>\n",
       "      <th>2015-12-31</th>\n",
       "      <td>4.277765</td>\n",
       "      <td>3.275286</td>\n",
       "      <td>6.739448</td>\n",
       "      <td>29.308617</td>\n",
       "      <td>20.975105</td>\n",
       "    </tr>\n",
       "    <tr>\n",
       "      <th>2016-12-31</th>\n",
       "      <td>9.981117</td>\n",
       "      <td>8.884213</td>\n",
       "      <td>7.515566</td>\n",
       "      <td>15.616085</td>\n",
       "      <td>28.907137</td>\n",
       "    </tr>\n",
       "    <tr>\n",
       "      <th>2017-12-31</th>\n",
       "      <td>11.494811</td>\n",
       "      <td>6.861724</td>\n",
       "      <td>23.212175</td>\n",
       "      <td>19.872679</td>\n",
       "      <td>37.216515</td>\n",
       "    </tr>\n",
       "    <tr>\n",
       "      <th>2018-12-31</th>\n",
       "      <td>14.092520</td>\n",
       "      <td>7.768509</td>\n",
       "      <td>27.443857</td>\n",
       "      <td>21.680000</td>\n",
       "      <td>42.904064</td>\n",
       "    </tr>\n",
       "    <tr>\n",
       "      <th>2019-12-31</th>\n",
       "      <td>19.401278</td>\n",
       "      <td>13.893685</td>\n",
       "      <td>33.027672</td>\n",
       "      <td>19.730000</td>\n",
       "      <td>29.850000</td>\n",
       "    </tr>\n",
       "    <tr>\n",
       "      <th>2020-12-31</th>\n",
       "      <td>24.055178</td>\n",
       "      <td>31.427223</td>\n",
       "      <td>17.104593</td>\n",
       "      <td>8.850000</td>\n",
       "      <td>23.570000</td>\n",
       "    </tr>\n",
       "    <tr>\n",
       "      <th>2021-12-31</th>\n",
       "      <td>33.090000</td>\n",
       "      <td>44.959999</td>\n",
       "      <td>32.490002</td>\n",
       "      <td>17.870001</td>\n",
       "      <td>51.790001</td>\n",
       "    </tr>\n",
       "  </tbody>\n",
       "</table>\n",
       "</div>"
      ],
      "text/plain": [
       "             GGBR4.SA   CSNA3.SA   HGTX3.SA   EMBR3.SA   BRKM5.SA\n",
       "Date                                                             \n",
       "2010-12-31  18.828848  16.041613   3.937101  10.665159  13.046804\n",
       "2011-12-31  12.307294   9.101307   4.178657  10.848492   8.507855\n",
       "2012-12-31  15.476332   7.710001   4.926028  13.522031   8.887083\n",
       "2013-12-31  16.051191  10.591897   5.582277  17.915955  14.580369\n",
       "2014-12-31   8.548304   4.287490   6.136849  23.552658  12.621731\n",
       "2015-12-31   4.277765   3.275286   6.739448  29.308617  20.975105\n",
       "2016-12-31   9.981117   8.884213   7.515566  15.616085  28.907137\n",
       "2017-12-31  11.494811   6.861724  23.212175  19.872679  37.216515\n",
       "2018-12-31  14.092520   7.768509  27.443857  21.680000  42.904064\n",
       "2019-12-31  19.401278  13.893685  33.027672  19.730000  29.850000\n",
       "2020-12-31  24.055178  31.427223  17.104593   8.850000  23.570000\n",
       "2021-12-31  33.090000  44.959999  32.490002  17.870001  51.790001"
      ]
     },
     "execution_count": 240,
     "metadata": {},
     "output_type": "execute_result"
    }
   ],
   "source": [
    "fechamento_anual[retorno_ytd.tail().index]"
   ]
  },
  {
   "cell_type": "markdown",
   "metadata": {},
   "source": [
    "Exibindo os maiores quedas \"head\" em gráficos de barra"
   ]
  },
  {
   "cell_type": "code",
   "execution_count": 241,
   "metadata": {},
   "outputs": [
    {
     "data": {
      "text/plain": [
       "<AxesSubplot:>"
      ]
     },
     "execution_count": 241,
     "metadata": {},
     "output_type": "execute_result"
    },
    {
     "data": {
      "image/png": "[encoded data removed]",
      "text/plain": [
       "<Figure size 432x288 with 1 Axes>"
      ]
     },
     "metadata": {
      "needs_background": "light"
     },
     "output_type": "display_data"
    }
   ],
   "source": [
    "retorno_ytd.head().plot(kind='bar')"
   ]
  },
  {
   "cell_type": "code",
   "execution_count": 242,
   "metadata": {},
   "outputs": [
    {
     "data": {
      "text/plain": [
       "EZTC3.SA    -0.262956\n",
       "LAME4.SA    -0.254888\n",
       "VVAR3.SA    -0.212871\n",
       "BTOW3.SA    -0.211877\n",
       "SULA11.SA   -0.181725\n",
       "Name: 2021-12-31 00:00:00, dtype: float64"
      ]
     },
     "execution_count": 242,
     "metadata": {},
     "output_type": "execute_result"
    }
   ],
   "source": [
    "retorno_ytd.head()"
   ]
  },
  {
   "cell_type": "markdown",
   "metadata": {},
   "source": [
    "Usando o índice dos retornos para observar os fechamentos das maiores quedas"
   ]
  },
  {
   "cell_type": "code",
   "execution_count": 243,
   "metadata": {},
   "outputs": [
    {
     "data": {
      "text/html": [
       "<div>\n",
       "<style scoped>\n",
       "    .dataframe tbody tr th:only-of-type {\n",
       "        vertical-align: middle;\n",
       "    }\n",
       "\n",
       "    .dataframe tbody tr th {\n",
       "        vertical-align: top;\n",
       "    }\n",
       "\n",
       "    .dataframe thead th {\n",
       "        text-align: right;\n",
       "    }\n",
       "</style>\n",
       "<table border=\"1\" class=\"dataframe\">\n",
       "  <thead>\n",
       "    <tr style=\"text-align: right;\">\n",
       "      <th></th>\n",
       "      <th>EZTC3.SA</th>\n",
       "      <th>LAME4.SA</th>\n",
       "      <th>VVAR3.SA</th>\n",
       "      <th>BTOW3.SA</th>\n",
       "      <th>SULA11.SA</th>\n",
       "    </tr>\n",
       "    <tr>\n",
       "      <th>Date</th>\n",
       "      <th></th>\n",
       "      <th></th>\n",
       "      <th></th>\n",
       "      <th></th>\n",
       "      <th></th>\n",
       "    </tr>\n",
       "  </thead>\n",
       "  <tbody>\n",
       "    <tr>\n",
       "      <th>2010-01-04</th>\n",
       "      <td>3.876020</td>\n",
       "      <td>7.475951</td>\n",
       "      <td>3.633857</td>\n",
       "      <td>40.862396</td>\n",
       "      <td>7.934274</td>\n",
       "    </tr>\n",
       "    <tr>\n",
       "      <th>2010-01-05</th>\n",
       "      <td>3.952196</td>\n",
       "      <td>7.214886</td>\n",
       "      <td>3.542718</td>\n",
       "      <td>39.887177</td>\n",
       "      <td>7.819816</td>\n",
       "    </tr>\n",
       "    <tr>\n",
       "      <th>2010-01-06</th>\n",
       "      <td>3.925310</td>\n",
       "      <td>7.077234</td>\n",
       "      <td>3.507665</td>\n",
       "      <td>40.326466</td>\n",
       "      <td>7.806076</td>\n",
       "    </tr>\n",
       "    <tr>\n",
       "      <th>2010-01-07</th>\n",
       "      <td>3.916349</td>\n",
       "      <td>7.072487</td>\n",
       "      <td>3.517013</td>\n",
       "      <td>40.783325</td>\n",
       "      <td>7.691621</td>\n",
       "    </tr>\n",
       "    <tr>\n",
       "      <th>2010-01-08</th>\n",
       "      <td>3.943234</td>\n",
       "      <td>7.096220</td>\n",
       "      <td>3.514676</td>\n",
       "      <td>39.808105</td>\n",
       "      <td>7.705355</td>\n",
       "    </tr>\n",
       "    <tr>\n",
       "      <th>...</th>\n",
       "      <td>...</td>\n",
       "      <td>...</td>\n",
       "      <td>...</td>\n",
       "      <td>...</td>\n",
       "      <td>...</td>\n",
       "    </tr>\n",
       "    <tr>\n",
       "      <th>2021-05-21</th>\n",
       "      <td>29.629999</td>\n",
       "      <td>18.459999</td>\n",
       "      <td>11.870000</td>\n",
       "      <td>56.000000</td>\n",
       "      <td>31.629999</td>\n",
       "    </tr>\n",
       "    <tr>\n",
       "      <th>2021-05-24</th>\n",
       "      <td>29.500000</td>\n",
       "      <td>19.480000</td>\n",
       "      <td>12.460000</td>\n",
       "      <td>58.310001</td>\n",
       "      <td>32.000000</td>\n",
       "    </tr>\n",
       "    <tr>\n",
       "      <th>2021-05-25</th>\n",
       "      <td>30.219999</td>\n",
       "      <td>19.700001</td>\n",
       "      <td>12.430000</td>\n",
       "      <td>59.240002</td>\n",
       "      <td>32.090000</td>\n",
       "    </tr>\n",
       "    <tr>\n",
       "      <th>2021-05-26</th>\n",
       "      <td>30.410000</td>\n",
       "      <td>19.299999</td>\n",
       "      <td>12.510000</td>\n",
       "      <td>57.990002</td>\n",
       "      <td>32.799999</td>\n",
       "    </tr>\n",
       "    <tr>\n",
       "      <th>2021-05-27</th>\n",
       "      <td>30.809999</td>\n",
       "      <td>19.379999</td>\n",
       "      <td>12.720000</td>\n",
       "      <td>59.590000</td>\n",
       "      <td>33.900002</td>\n",
       "    </tr>\n",
       "  </tbody>\n",
       "</table>\n",
       "<p>2823 rows × 5 columns</p>\n",
       "</div>"
      ],
      "text/plain": [
       "             EZTC3.SA   LAME4.SA   VVAR3.SA   BTOW3.SA  SULA11.SA\n",
       "Date                                                             \n",
       "2010-01-04   3.876020   7.475951   3.633857  40.862396   7.934274\n",
       "2010-01-05   3.952196   7.214886   3.542718  39.887177   7.819816\n",
       "2010-01-06   3.925310   7.077234   3.507665  40.326466   7.806076\n",
       "2010-01-07   3.916349   7.072487   3.517013  40.783325   7.691621\n",
       "2010-01-08   3.943234   7.096220   3.514676  39.808105   7.705355\n",
       "...               ...        ...        ...        ...        ...\n",
       "2021-05-21  29.629999  18.459999  11.870000  56.000000  31.629999\n",
       "2021-05-24  29.500000  19.480000  12.460000  58.310001  32.000000\n",
       "2021-05-25  30.219999  19.700001  12.430000  59.240002  32.090000\n",
       "2021-05-26  30.410000  19.299999  12.510000  57.990002  32.799999\n",
       "2021-05-27  30.809999  19.379999  12.720000  59.590000  33.900002\n",
       "\n",
       "[2823 rows x 5 columns]"
      ]
     },
     "execution_count": 243,
     "metadata": {},
     "output_type": "execute_result"
    }
   ],
   "source": [
    "fechamento[retorno_ytd.head().index]"
   ]
  },
  {
   "cell_type": "markdown",
   "metadata": {},
   "source": [
    "## Resampling para dados mensais"
   ]
  },
  {
   "cell_type": "code",
   "execution_count": 244,
   "metadata": {},
   "outputs": [
    {
     "data": {
      "text/html": [
       "<div>\n",
       "<style scoped>\n",
       "    .dataframe tbody tr th:only-of-type {\n",
       "        vertical-align: middle;\n",
       "    }\n",
       "\n",
       "    .dataframe tbody tr th {\n",
       "        vertical-align: top;\n",
       "    }\n",
       "\n",
       "    .dataframe thead th {\n",
       "        text-align: right;\n",
       "    }\n",
       "</style>\n",
       "<table border=\"1\" class=\"dataframe\">\n",
       "  <thead>\n",
       "    <tr style=\"text-align: right;\">\n",
       "      <th></th>\n",
       "      <th>ABEV3.SA</th>\n",
       "      <th>B3SA3.SA</th>\n",
       "      <th>BBAS3.SA</th>\n",
       "      <th>BBDC3.SA</th>\n",
       "      <th>BBDC4.SA</th>\n",
       "      <th>BEEF3.SA</th>\n",
       "      <th>BRAP4.SA</th>\n",
       "      <th>BRFS3.SA</th>\n",
       "      <th>BRKM5.SA</th>\n",
       "      <th>BRML3.SA</th>\n",
       "      <th>...</th>\n",
       "      <th>TAEE11.SA</th>\n",
       "      <th>TIMS3.SA</th>\n",
       "      <th>TOTS3.SA</th>\n",
       "      <th>UGPA3.SA</th>\n",
       "      <th>USIM5.SA</th>\n",
       "      <th>VALE3.SA</th>\n",
       "      <th>VIVT3.SA</th>\n",
       "      <th>VVAR3.SA</th>\n",
       "      <th>WEGE3.SA</th>\n",
       "      <th>YDUQ3.SA</th>\n",
       "    </tr>\n",
       "    <tr>\n",
       "      <th>Date</th>\n",
       "      <th></th>\n",
       "      <th></th>\n",
       "      <th></th>\n",
       "      <th></th>\n",
       "      <th></th>\n",
       "      <th></th>\n",
       "      <th></th>\n",
       "      <th></th>\n",
       "      <th></th>\n",
       "      <th></th>\n",
       "      <th></th>\n",
       "      <th></th>\n",
       "      <th></th>\n",
       "      <th></th>\n",
       "      <th></th>\n",
       "      <th></th>\n",
       "      <th></th>\n",
       "      <th></th>\n",
       "      <th></th>\n",
       "      <th></th>\n",
       "      <th></th>\n",
       "    </tr>\n",
       "  </thead>\n",
       "  <tbody>\n",
       "    <tr>\n",
       "      <th>2010-01-31</th>\n",
       "      <td>NaN</td>\n",
       "      <td>NaN</td>\n",
       "      <td>NaN</td>\n",
       "      <td>NaN</td>\n",
       "      <td>NaN</td>\n",
       "      <td>NaN</td>\n",
       "      <td>NaN</td>\n",
       "      <td>NaN</td>\n",
       "      <td>NaN</td>\n",
       "      <td>NaN</td>\n",
       "      <td>...</td>\n",
       "      <td>NaN</td>\n",
       "      <td>NaN</td>\n",
       "      <td>NaN</td>\n",
       "      <td>NaN</td>\n",
       "      <td>NaN</td>\n",
       "      <td>NaN</td>\n",
       "      <td>NaN</td>\n",
       "      <td>NaN</td>\n",
       "      <td>NaN</td>\n",
       "      <td>NaN</td>\n",
       "    </tr>\n",
       "    <tr>\n",
       "      <th>2010-02-28</th>\n",
       "      <td>-0.005800</td>\n",
       "      <td>-0.069914</td>\n",
       "      <td>0.076227</td>\n",
       "      <td>-0.004111</td>\n",
       "      <td>-0.009446</td>\n",
       "      <td>-0.042090</td>\n",
       "      <td>0.016229</td>\n",
       "      <td>-0.023256</td>\n",
       "      <td>-0.036199</td>\n",
       "      <td>0.146341</td>\n",
       "      <td>...</td>\n",
       "      <td>0.004255</td>\n",
       "      <td>0.050000</td>\n",
       "      <td>-0.055220</td>\n",
       "      <td>0.000000</td>\n",
       "      <td>0.034678</td>\n",
       "      <td>0.031486</td>\n",
       "      <td>-0.051491</td>\n",
       "      <td>-0.172932</td>\n",
       "      <td>-0.021607</td>\n",
       "      <td>-0.000444</td>\n",
       "    </tr>\n",
       "    <tr>\n",
       "      <th>2010-03-31</th>\n",
       "      <td>-0.067491</td>\n",
       "      <td>0.017980</td>\n",
       "      <td>0.009590</td>\n",
       "      <td>0.025178</td>\n",
       "      <td>0.000426</td>\n",
       "      <td>0.151515</td>\n",
       "      <td>0.000000</td>\n",
       "      <td>0.086168</td>\n",
       "      <td>0.024257</td>\n",
       "      <td>-0.106383</td>\n",
       "      <td>...</td>\n",
       "      <td>0.015890</td>\n",
       "      <td>-0.047619</td>\n",
       "      <td>0.037691</td>\n",
       "      <td>-0.125287</td>\n",
       "      <td>0.190300</td>\n",
       "      <td>0.132805</td>\n",
       "      <td>-0.069428</td>\n",
       "      <td>0.217273</td>\n",
       "      <td>0.078454</td>\n",
       "      <td>-0.040000</td>\n",
       "    </tr>\n",
       "    <tr>\n",
       "      <th>2010-04-30</th>\n",
       "      <td>0.065855</td>\n",
       "      <td>-0.044850</td>\n",
       "      <td>0.004690</td>\n",
       "      <td>-0.012490</td>\n",
       "      <td>0.000426</td>\n",
       "      <td>-0.018421</td>\n",
       "      <td>0.000000</td>\n",
       "      <td>-0.052192</td>\n",
       "      <td>-0.039725</td>\n",
       "      <td>0.054286</td>\n",
       "      <td>...</td>\n",
       "      <td>0.006256</td>\n",
       "      <td>-0.109368</td>\n",
       "      <td>0.067060</td>\n",
       "      <td>0.000000</td>\n",
       "      <td>-0.078956</td>\n",
       "      <td>-0.064274</td>\n",
       "      <td>-0.017440</td>\n",
       "      <td>-0.051531</td>\n",
       "      <td>-0.065789</td>\n",
       "      <td>-0.057414</td>\n",
       "    </tr>\n",
       "    <tr>\n",
       "      <th>2010-05-31</th>\n",
       "      <td>0.001223</td>\n",
       "      <td>0.060358</td>\n",
       "      <td>-0.120863</td>\n",
       "      <td>-0.047862</td>\n",
       "      <td>0.000427</td>\n",
       "      <td>-0.121984</td>\n",
       "      <td>0.012046</td>\n",
       "      <td>0.026432</td>\n",
       "      <td>-0.141607</td>\n",
       "      <td>0.071123</td>\n",
       "      <td>...</td>\n",
       "      <td>-0.264767</td>\n",
       "      <td>0.149180</td>\n",
       "      <td>0.086193</td>\n",
       "      <td>0.000000</td>\n",
       "      <td>-0.181964</td>\n",
       "      <td>-0.058381</td>\n",
       "      <td>0.015782</td>\n",
       "      <td>0.031496</td>\n",
       "      <td>-0.042253</td>\n",
       "      <td>-0.030000</td>\n",
       "    </tr>\n",
       "    <tr>\n",
       "      <th>...</th>\n",
       "      <td>...</td>\n",
       "      <td>...</td>\n",
       "      <td>...</td>\n",
       "      <td>...</td>\n",
       "      <td>...</td>\n",
       "      <td>...</td>\n",
       "      <td>...</td>\n",
       "      <td>...</td>\n",
       "      <td>...</td>\n",
       "      <td>...</td>\n",
       "      <td>...</td>\n",
       "      <td>...</td>\n",
       "      <td>...</td>\n",
       "      <td>...</td>\n",
       "      <td>...</td>\n",
       "      <td>...</td>\n",
       "      <td>...</td>\n",
       "      <td>...</td>\n",
       "      <td>...</td>\n",
       "      <td>...</td>\n",
       "      <td>...</td>\n",
       "    </tr>\n",
       "    <tr>\n",
       "      <th>2021-01-31</th>\n",
       "      <td>-0.029903</td>\n",
       "      <td>-0.026417</td>\n",
       "      <td>-0.127320</td>\n",
       "      <td>-0.105131</td>\n",
       "      <td>-0.170705</td>\n",
       "      <td>-0.084566</td>\n",
       "      <td>-0.018835</td>\n",
       "      <td>-0.037205</td>\n",
       "      <td>0.027577</td>\n",
       "      <td>-0.035353</td>\n",
       "      <td>...</td>\n",
       "      <td>-0.025449</td>\n",
       "      <td>-0.092150</td>\n",
       "      <td>-0.011142</td>\n",
       "      <td>-0.082561</td>\n",
       "      <td>-0.096509</td>\n",
       "      <td>0.005718</td>\n",
       "      <td>-0.027957</td>\n",
       "      <td>-0.090965</td>\n",
       "      <td>0.106285</td>\n",
       "      <td>0.019137</td>\n",
       "    </tr>\n",
       "    <tr>\n",
       "      <th>2021-02-28</th>\n",
       "      <td>-0.072138</td>\n",
       "      <td>-0.091973</td>\n",
       "      <td>-0.158872</td>\n",
       "      <td>-0.046934</td>\n",
       "      <td>-0.068826</td>\n",
       "      <td>0.045259</td>\n",
       "      <td>0.005599</td>\n",
       "      <td>0.019793</td>\n",
       "      <td>0.290669</td>\n",
       "      <td>-0.125654</td>\n",
       "      <td>...</td>\n",
       "      <td>-0.054992</td>\n",
       "      <td>-0.037594</td>\n",
       "      <td>0.104930</td>\n",
       "      <td>-0.112948</td>\n",
       "      <td>0.230303</td>\n",
       "      <td>0.074702</td>\n",
       "      <td>-0.026549</td>\n",
       "      <td>-0.191967</td>\n",
       "      <td>-0.068504</td>\n",
       "      <td>-0.102235</td>\n",
       "    </tr>\n",
       "    <tr>\n",
       "      <th>2021-03-31</th>\n",
       "      <td>0.090585</td>\n",
       "      <td>0.019127</td>\n",
       "      <td>0.090851</td>\n",
       "      <td>0.142806</td>\n",
       "      <td>0.164907</td>\n",
       "      <td>0.051546</td>\n",
       "      <td>0.086701</td>\n",
       "      <td>0.165434</td>\n",
       "      <td>0.269674</td>\n",
       "      <td>0.211976</td>\n",
       "      <td>...</td>\n",
       "      <td>0.265279</td>\n",
       "      <td>-0.010156</td>\n",
       "      <td>-0.078075</td>\n",
       "      <td>0.123370</td>\n",
       "      <td>0.052956</td>\n",
       "      <td>0.083194</td>\n",
       "      <td>0.007262</td>\n",
       "      <td>0.016849</td>\n",
       "      <td>-0.039974</td>\n",
       "      <td>-0.113214</td>\n",
       "    </tr>\n",
       "    <tr>\n",
       "      <th>2021-04-30</th>\n",
       "      <td>-0.022891</td>\n",
       "      <td>-0.057122</td>\n",
       "      <td>-0.026601</td>\n",
       "      <td>-0.031334</td>\n",
       "      <td>-0.018469</td>\n",
       "      <td>0.014113</td>\n",
       "      <td>0.082564</td>\n",
       "      <td>-0.175654</td>\n",
       "      <td>0.322751</td>\n",
       "      <td>-0.059288</td>\n",
       "      <td>...</td>\n",
       "      <td>0.073998</td>\n",
       "      <td>-0.037885</td>\n",
       "      <td>0.078130</td>\n",
       "      <td>-0.004715</td>\n",
       "      <td>0.320465</td>\n",
       "      <td>0.112790</td>\n",
       "      <td>0.001335</td>\n",
       "      <td>-0.019884</td>\n",
       "      <td>-0.060891</td>\n",
       "      <td>0.112953</td>\n",
       "    </tr>\n",
       "    <tr>\n",
       "      <th>2021-05-31</th>\n",
       "      <td>0.184070</td>\n",
       "      <td>-0.010874</td>\n",
       "      <td>0.142178</td>\n",
       "      <td>0.108785</td>\n",
       "      <td>0.111131</td>\n",
       "      <td>0.037190</td>\n",
       "      <td>-0.020701</td>\n",
       "      <td>0.245310</td>\n",
       "      <td>-0.013524</td>\n",
       "      <td>0.155462</td>\n",
       "      <td>...</td>\n",
       "      <td>0.016808</td>\n",
       "      <td>-0.012305</td>\n",
       "      <td>0.080386</td>\n",
       "      <td>-0.088584</td>\n",
       "      <td>-0.127168</td>\n",
       "      <td>0.018070</td>\n",
       "      <td>0.024077</td>\n",
       "      <td>0.075232</td>\n",
       "      <td>-0.062839</td>\n",
       "      <td>0.130895</td>\n",
       "    </tr>\n",
       "  </tbody>\n",
       "</table>\n",
       "<p>137 rows × 63 columns</p>\n",
       "</div>"
      ],
      "text/plain": [
       "            ABEV3.SA  B3SA3.SA  BBAS3.SA  BBDC3.SA  BBDC4.SA  BEEF3.SA  \\\n",
       "Date                                                                     \n",
       "2010-01-31       NaN       NaN       NaN       NaN       NaN       NaN   \n",
       "2010-02-28 -0.005800 -0.069914  0.076227 -0.004111 -0.009446 -0.042090   \n",
       "2010-03-31 -0.067491  0.017980  0.009590  0.025178  0.000426  0.151515   \n",
       "2010-04-30  0.065855 -0.044850  0.004690 -0.012490  0.000426 -0.018421   \n",
       "2010-05-31  0.001223  0.060358 -0.120863 -0.047862  0.000427 -0.121984   \n",
       "...              ...       ...       ...       ...       ...       ...   \n",
       "2021-01-31 -0.029903 -0.026417 -0.127320 -0.105131 -0.170705 -0.084566   \n",
       "2021-02-28 -0.072138 -0.091973 -0.158872 -0.046934 -0.068826  0.045259   \n",
       "2021-03-31  0.090585  0.019127  0.090851  0.142806  0.164907  0.051546   \n",
       "2021-04-30 -0.022891 -0.057122 -0.026601 -0.031334 -0.018469  0.014113   \n",
       "2021-05-31  0.184070 -0.010874  0.142178  0.108785  0.111131  0.037190   \n",
       "\n",
       "            BRAP4.SA  BRFS3.SA  BRKM5.SA  BRML3.SA  ...  TAEE11.SA  TIMS3.SA  \\\n",
       "Date                                                ...                        \n",
       "2010-01-31       NaN       NaN       NaN       NaN  ...        NaN       NaN   \n",
       "2010-02-28  0.016229 -0.023256 -0.036199  0.146341  ...   0.004255  0.050000   \n",
       "2010-03-31  0.000000  0.086168  0.024257 -0.106383  ...   0.015890 -0.047619   \n",
       "2010-04-30  0.000000 -0.052192 -0.039725  0.054286  ...   0.006256 -0.109368   \n",
       "2010-05-31  0.012046  0.026432 -0.141607  0.071123  ...  -0.264767  0.149180   \n",
       "...              ...       ...       ...       ...  ...        ...       ...   \n",
       "2021-01-31 -0.018835 -0.037205  0.027577 -0.035353  ...  -0.025449 -0.092150   \n",
       "2021-02-28  0.005599  0.019793  0.290669 -0.125654  ...  -0.054992 -0.037594   \n",
       "2021-03-31  0.086701  0.165434  0.269674  0.211976  ...   0.265279 -0.010156   \n",
       "2021-04-30  0.082564 -0.175654  0.322751 -0.059288  ...   0.073998 -0.037885   \n",
       "2021-05-31 -0.020701  0.245310 -0.013524  0.155462  ...   0.016808 -0.012305   \n",
       "\n",
       "            TOTS3.SA  UGPA3.SA  USIM5.SA  VALE3.SA  VIVT3.SA  VVAR3.SA  \\\n",
       "Date                                                                     \n",
       "2010-01-31       NaN       NaN       NaN       NaN       NaN       NaN   \n",
       "2010-02-28 -0.055220  0.000000  0.034678  0.031486 -0.051491 -0.172932   \n",
       "2010-03-31  0.037691 -0.125287  0.190300  0.132805 -0.069428  0.217273   \n",
       "2010-04-30  0.067060  0.000000 -0.078956 -0.064274 -0.017440 -0.051531   \n",
       "2010-05-31  0.086193  0.000000 -0.181964 -0.058381  0.015782  0.031496   \n",
       "...              ...       ...       ...       ...       ...       ...   \n",
       "2021-01-31 -0.011142 -0.082561 -0.096509  0.005718 -0.027957 -0.090965   \n",
       "2021-02-28  0.104930 -0.112948  0.230303  0.074702 -0.026549 -0.191967   \n",
       "2021-03-31 -0.078075  0.123370  0.052956  0.083194  0.007262  0.016849   \n",
       "2021-04-30  0.078130 -0.004715  0.320465  0.112790  0.001335 -0.019884   \n",
       "2021-05-31  0.080386 -0.088584 -0.127168  0.018070  0.024077  0.075232   \n",
       "\n",
       "            WEGE3.SA  YDUQ3.SA  \n",
       "Date                            \n",
       "2010-01-31       NaN       NaN  \n",
       "2010-02-28 -0.021607 -0.000444  \n",
       "2010-03-31  0.078454 -0.040000  \n",
       "2010-04-30 -0.065789 -0.057414  \n",
       "2010-05-31 -0.042253 -0.030000  \n",
       "...              ...       ...  \n",
       "2021-01-31  0.106285  0.019137  \n",
       "2021-02-28 -0.068504 -0.102235  \n",
       "2021-03-31 -0.039974 -0.113214  \n",
       "2021-04-30 -0.060891  0.112953  \n",
       "2021-05-31 -0.062839  0.130895  \n",
       "\n",
       "[137 rows x 63 columns]"
      ]
     },
     "execution_count": 244,
     "metadata": {},
     "output_type": "execute_result"
    }
   ],
   "source": [
    "retorno_mensal = fechamento.resample('M').last().pct_change()\n",
    "retorno_mensal"
   ]
  },
  {
   "cell_type": "markdown",
   "metadata": {},
   "source": [
    "Média dos retornos mensais e ordenando do menor para o maior"
   ]
  },
  {
   "cell_type": "code",
   "execution_count": 245,
   "metadata": {},
   "outputs": [
    {
     "data": {
      "text/plain": [
       "ABEV3.SA    0.013091\n",
       "B3SA3.SA    0.012248\n",
       "BBAS3.SA    0.013726\n",
       "BBDC3.SA    0.013789\n",
       "BBDC4.SA    0.011920\n",
       "              ...   \n",
       "VALE3.SA    0.014798\n",
       "VIVT3.SA    0.009951\n",
       "VVAR3.SA    0.029573\n",
       "WEGE3.SA    0.023336\n",
       "YDUQ3.SA    0.023343\n",
       "Length: 63, dtype: float64"
      ]
     },
     "execution_count": 245,
     "metadata": {},
     "output_type": "execute_result"
    }
   ],
   "source": [
    "retorno_mensal.mean()"
   ]
  },
  {
   "cell_type": "markdown",
   "metadata": {},
   "source": [
    "Desvio padrão dos retornos"
   ]
  },
  {
   "cell_type": "code",
   "execution_count": 247,
   "metadata": {},
   "outputs": [
    {
     "data": {
      "text/plain": [
       "ABEV3.SA    0.068124\n",
       "B3SA3.SA    0.105525\n",
       "BBAS3.SA    0.120628\n",
       "BBDC3.SA    0.088891\n",
       "BBDC4.SA    0.088682\n",
       "              ...   \n",
       "VALE3.SA    0.104295\n",
       "VIVT3.SA    0.056438\n",
       "VVAR3.SA    0.191884\n",
       "WEGE3.SA    0.078617\n",
       "YDUQ3.SA    0.139439\n",
       "Length: 63, dtype: float64"
      ]
     },
     "execution_count": 247,
     "metadata": {},
     "output_type": "execute_result"
    }
   ],
   "source": [
    "retorno_mensal.std()"
   ]
  },
  {
   "cell_type": "markdown",
   "metadata": {},
   "source": [
    "Construindo um DataFrame com retorno e desvio padrão"
   ]
  },
  {
   "cell_type": "code",
   "execution_count": 249,
   "metadata": {},
   "outputs": [
    {
     "data": {
      "text/html": [
       "<div>\n",
       "<style scoped>\n",
       "    .dataframe tbody tr th:only-of-type {\n",
       "        vertical-align: middle;\n",
       "    }\n",
       "\n",
       "    .dataframe tbody tr th {\n",
       "        vertical-align: top;\n",
       "    }\n",
       "\n",
       "    .dataframe thead th {\n",
       "        text-align: right;\n",
       "    }\n",
       "</style>\n",
       "<table border=\"1\" class=\"dataframe\">\n",
       "  <thead>\n",
       "    <tr style=\"text-align: right;\">\n",
       "      <th></th>\n",
       "      <th>retorno_medio</th>\n",
       "      <th>desv_pad</th>\n",
       "    </tr>\n",
       "  </thead>\n",
       "  <tbody>\n",
       "    <tr>\n",
       "      <th>ABEV3.SA</th>\n",
       "      <td>0.013</td>\n",
       "      <td>0.068</td>\n",
       "    </tr>\n",
       "    <tr>\n",
       "      <th>B3SA3.SA</th>\n",
       "      <td>0.012</td>\n",
       "      <td>0.106</td>\n",
       "    </tr>\n",
       "    <tr>\n",
       "      <th>BBAS3.SA</th>\n",
       "      <td>0.014</td>\n",
       "      <td>0.121</td>\n",
       "    </tr>\n",
       "    <tr>\n",
       "      <th>BBDC3.SA</th>\n",
       "      <td>0.014</td>\n",
       "      <td>0.089</td>\n",
       "    </tr>\n",
       "    <tr>\n",
       "      <th>BBDC4.SA</th>\n",
       "      <td>0.012</td>\n",
       "      <td>0.089</td>\n",
       "    </tr>\n",
       "    <tr>\n",
       "      <th>...</th>\n",
       "      <td>...</td>\n",
       "      <td>...</td>\n",
       "    </tr>\n",
       "    <tr>\n",
       "      <th>VALE3.SA</th>\n",
       "      <td>0.015</td>\n",
       "      <td>0.104</td>\n",
       "    </tr>\n",
       "    <tr>\n",
       "      <th>VIVT3.SA</th>\n",
       "      <td>0.010</td>\n",
       "      <td>0.056</td>\n",
       "    </tr>\n",
       "    <tr>\n",
       "      <th>VVAR3.SA</th>\n",
       "      <td>0.030</td>\n",
       "      <td>0.192</td>\n",
       "    </tr>\n",
       "    <tr>\n",
       "      <th>WEGE3.SA</th>\n",
       "      <td>0.023</td>\n",
       "      <td>0.079</td>\n",
       "    </tr>\n",
       "    <tr>\n",
       "      <th>YDUQ3.SA</th>\n",
       "      <td>0.023</td>\n",
       "      <td>0.139</td>\n",
       "    </tr>\n",
       "  </tbody>\n",
       "</table>\n",
       "<p>63 rows × 2 columns</p>\n",
       "</div>"
      ],
      "text/plain": [
       "          retorno_medio  desv_pad\n",
       "ABEV3.SA          0.013     0.068\n",
       "B3SA3.SA          0.012     0.106\n",
       "BBAS3.SA          0.014     0.121\n",
       "BBDC3.SA          0.014     0.089\n",
       "BBDC4.SA          0.012     0.089\n",
       "...                 ...       ...\n",
       "VALE3.SA          0.015     0.104\n",
       "VIVT3.SA          0.010     0.056\n",
       "VVAR3.SA          0.030     0.192\n",
       "WEGE3.SA          0.023     0.079\n",
       "YDUQ3.SA          0.023     0.139\n",
       "\n",
       "[63 rows x 2 columns]"
      ]
     },
     "execution_count": 249,
     "metadata": {},
     "output_type": "execute_result"
    }
   ],
   "source": [
    "dados_mensais = pd.DataFrame()\n",
    "\n",
    "dados_mensais['retorno_medio'] = retorno_mensal.mean()\n",
    "dados_mensais['desv_pad'] = retorno_mensal.std()\n",
    "dados_mensais.round(3)"
   ]
  },
  {
   "cell_type": "code",
   "execution_count": 250,
   "metadata": {},
   "outputs": [],
   "source": [
    "dados_mensais.dropna(inplace=True)"
   ]
  },
  {
   "cell_type": "markdown",
   "metadata": {},
   "source": [
    "## Risco x Retorno"
   ]
  },
  {
   "cell_type": "markdown",
   "metadata": {},
   "source": [
    "Plotando gráfico de risco X retorno"
   ]
  },
  {
   "cell_type": "code",
   "execution_count": 251,
   "metadata": {},
   "outputs": [
    {
     "data": {
      "application/vnd.plotly.v1+json": {
       "config": {
        "plotlyServerURL": "https://plot.ly"
       },
       "data": [
        {
         "hovertemplate": "<b>%{hovertext}</b><br><br>Risco=%{x}<br>Retorno=%{y}<extra></extra>",
         "hovertext": [
          "ABEV3.SA",
          "B3SA3.SA",
          "BBAS3.SA",
          "BBDC3.SA",
          "BBDC4.SA",
          "BEEF3.SA",
          "BRAP4.SA",
          "BRFS3.SA",
          "BRKM5.SA",
          "BRML3.SA",
          "BTOW3.SA",
          "CCRO3.SA",
          "CIEL3.SA",
          "CMIG4.SA",
          "CPFE3.SA",
          "CPLE6.SA",
          "CSAN3.SA",
          "CSNA3.SA",
          "CYRE3.SA",
          "EGIE3.SA",
          "ELET3.SA",
          "ELET6.SA",
          "EMBR3.SA",
          "ENBR3.SA",
          "ENEV3.SA",
          "ENGI11.SA",
          "EQTL3.SA",
          "EZTC3.SA",
          "FLRY3.SA",
          "GGBR4.SA",
          "GOAU4.SA",
          "GOLL4.SA",
          "HGTX3.SA",
          "HYPE3.SA",
          "IGTA3.SA",
          "ITSA4.SA",
          "ITUB4.SA",
          "JBSS3.SA",
          "JHSF3.SA",
          "LAME4.SA",
          "LREN3.SA",
          "MRFG3.SA",
          "MRVE3.SA",
          "MULT3.SA",
          "PCAR3.SA",
          "PETR3.SA",
          "PETR4.SA",
          "RADL3.SA",
          "RENT3.SA",
          "SANB11.SA",
          "SBSP3.SA",
          "SULA11.SA",
          "SUZB3.SA",
          "TAEE11.SA",
          "TIMS3.SA",
          "TOTS3.SA",
          "UGPA3.SA",
          "USIM5.SA",
          "VALE3.SA",
          "VIVT3.SA",
          "VVAR3.SA",
          "WEGE3.SA",
          "YDUQ3.SA"
         ],
         "legendgroup": "",
         "marker": {
          "color": "#636efa",
          "symbol": "circle"
         },
         "mode": "markers",
         "name": "",
         "orientation": "v",
         "showlegend": false,
         "type": "scatter",
         "x": [
          0.068,
          0.106,
          0.121,
          0.089,
          0.089,
          0.116,
          0.125,
          0.104,
          0.125,
          0.095,
          0.175,
          0.091,
          0.097,
          0.114,
          0.069,
          0.096,
          0.089,
          0.183,
          0.114,
          0.058,
          0.161,
          0.14,
          0.102,
          0.064,
          0.146,
          0.076,
          0.078,
          0.105,
          0.089,
          0.135,
          0.161,
          0.197,
          0.189,
          0.096,
          0.08,
          0.08,
          0.084,
          0.119,
          0.156,
          0.094,
          0.086,
          0.142,
          0.119,
          0.078,
          0.256,
          0.134,
          0.135,
          0.082,
          0.096,
          0.095,
          0.1,
          0.095,
          0.077,
          0.079,
          0.084,
          0.086,
          0.106,
          0.196,
          0.104,
          0.056,
          0.192,
          0.079,
          0.139
         ],
         "xaxis": "x",
         "y": [
          0.013,
          0.012,
          0.014,
          0.014,
          0.012,
          0.01,
          0.016,
          0.007,
          0.021,
          0.01,
          0.018,
          0.01,
          0.004,
          0.014,
          0.01,
          0.013,
          0.018,
          0.023,
          0.01,
          0.013,
          0.018,
          0.02,
          0.011,
          0.01,
          0,
          0.018,
          0.02,
          0.021,
          0.014,
          0.012,
          0.008,
          0.02,
          0.026,
          0.01,
          0.013,
          0.011,
          0.011,
          0.016,
          0.02,
          0.013,
          0.021,
          0.009,
          0.015,
          0.012,
          0.026,
          0.007,
          0.009,
          0.024,
          0.025,
          0.014,
          0.018,
          0.016,
          0.014,
          0.019,
          0.009,
          0.016,
          0.015,
          0.016,
          0.015,
          0.01,
          0.03,
          0.023,
          0.023
         ],
         "yaxis": "y"
        },
        {
         "hovertemplate": "<b>OLS trendline</b><br>retorno_medio = 0.0516355 * desv_pad + 0.00910795<br>R<sup>2</sup>=0.128444<br><br>Risco=%{x}<br>Retorno=%{y} <b>(trend)</b><extra></extra>",
         "legendgroup": "",
         "marker": {
          "color": "#636efa",
          "symbol": "circle"
         },
         "mode": "lines",
         "name": "",
         "showlegend": false,
         "type": "scatter",
         "x": [
          0.056,
          0.058,
          0.064,
          0.068,
          0.069,
          0.076,
          0.077,
          0.078,
          0.078,
          0.079,
          0.079,
          0.08,
          0.08,
          0.082,
          0.084,
          0.084,
          0.086,
          0.086,
          0.089,
          0.089,
          0.089,
          0.089,
          0.091,
          0.094,
          0.095,
          0.095,
          0.095,
          0.096,
          0.096,
          0.096,
          0.097,
          0.1,
          0.102,
          0.104,
          0.104,
          0.105,
          0.106,
          0.106,
          0.114,
          0.114,
          0.116,
          0.119,
          0.119,
          0.121,
          0.125,
          0.125,
          0.134,
          0.135,
          0.135,
          0.139,
          0.14,
          0.142,
          0.146,
          0.156,
          0.161,
          0.161,
          0.175,
          0.183,
          0.189,
          0.192,
          0.196,
          0.197,
          0.256
         ],
         "xaxis": "x",
         "y": [
          0.011999538143568083,
          0.012102809241747213,
          0.012412622536284607,
          0.012619164732642869,
          0.012670800281732435,
          0.013032249125359392,
          0.013083884674448959,
          0.013135520223538524,
          0.013135520223538524,
          0.013187155772628089,
          0.013187155772628089,
          0.013238791321717656,
          0.013238791321717656,
          0.013342062419896786,
          0.013445333518075916,
          0.013445333518075916,
          0.013548604616255048,
          0.013548604616255048,
          0.013703511263523744,
          0.013703511263523744,
          0.013703511263523744,
          0.013703511263523744,
          0.013806782361702876,
          0.013961689008971573,
          0.014013324558061136,
          0.014013324558061136,
          0.014013324558061136,
          0.014064960107150703,
          0.014064960107150703,
          0.014064960107150703,
          0.014116595656240268,
          0.014271502303508965,
          0.014374773401688096,
          0.014478044499867226,
          0.014478044499867226,
          0.014529680048956793,
          0.014581315598046356,
          0.014581315598046356,
          0.014994399990762882,
          0.014994399990762882,
          0.015097671088942013,
          0.015252577736210709,
          0.015252577736210709,
          0.01535584883438984,
          0.015562391030748102,
          0.015562391030748102,
          0.016027110972554194,
          0.016078746521643757,
          0.016078746521643757,
          0.01628528871800202,
          0.016336924267091584,
          0.016440195365270714,
          0.016646737561628978,
          0.017163093052524635,
          0.01742127079797246,
          0.01742127079797246,
          0.018144168485226375,
          0.018557252877942902,
          0.018867066172480296,
          0.01902197281974899,
          0.019228515016107253,
          0.019280150565196816,
          0.022326647961481184
         ],
         "yaxis": "y"
        }
       ],
       "layout": {
        "legend": {
         "tracegroupgap": 0
        },
        "template": {
         "data": {
          "bar": [
           {
            "error_x": {
             "color": "#2a3f5f"
            },
            "error_y": {
             "color": "#2a3f5f"
            },
            "marker": {
             "line": {
              "color": "#E5ECF6",
              "width": 0.5
             }
            },
            "type": "bar"
           }
          ],
          "barpolar": [
           {
            "marker": {
             "line": {
              "color": "#E5ECF6",
              "width": 0.5
             }
            },
            "type": "barpolar"
           }
          ],
          "carpet": [
           {
            "aaxis": {
             "endlinecolor": "#2a3f5f",
             "gridcolor": "white",
             "linecolor": "white",
             "minorgridcolor": "white",
             "startlinecolor": "#2a3f5f"
            },
            "baxis": {
             "endlinecolor": "#2a3f5f",
             "gridcolor": "white",
             "linecolor": "white",
             "minorgridcolor": "white",
             "startlinecolor": "#2a3f5f"
            },
            "type": "carpet"
           }
          ],
          "choropleth": [
           {
            "colorbar": {
             "outlinewidth": 0,
             "ticks": ""
            },
            "type": "choropleth"
           }
          ],
          "contour": [
           {
            "colorbar": {
             "outlinewidth": 0,
             "ticks": ""
            },
            "colorscale": [
             [
              0,
              "#0d0887"
             ],
             [
              0.1111111111111111,
              "#46039f"
             ],
             [
              0.2222222222222222,
              "#7201a8"
             ],
             [
              0.3333333333333333,
              "#9c179e"
             ],
             [
              0.4444444444444444,
              "#bd3786"
             ],
             [
              0.5555555555555556,
              "#d8576b"
             ],
             [
              0.6666666666666666,
              "#ed7953"
             ],
             [
              0.7777777777777778,
              "#fb9f3a"
             ],
             [
              0.8888888888888888,
              "#fdca26"
             ],
             [
              1,
              "#f0f921"
             ]
            ],
            "type": "contour"
           }
          ],
          "contourcarpet": [
           {
            "colorbar": {
             "outlinewidth": 0,
             "ticks": ""
            },
            "type": "contourcarpet"
           }
          ],
          "heatmap": [
           {
            "colorbar": {
             "outlinewidth": 0,
             "ticks": ""
            },
            "colorscale": [
             [
              0,
              "#0d0887"
             ],
             [
              0.1111111111111111,
              "#46039f"
             ],
             [
              0.2222222222222222,
              "#7201a8"
             ],
             [
              0.3333333333333333,
              "#9c179e"
             ],
             [
              0.4444444444444444,
              "#bd3786"
             ],
             [
              0.5555555555555556,
              "#d8576b"
             ],
             [
              0.6666666666666666,
              "#ed7953"
             ],
             [
              0.7777777777777778,
              "#fb9f3a"
             ],
             [
              0.8888888888888888,
              "#fdca26"
             ],
             [
              1,
              "#f0f921"
             ]
            ],
            "type": "heatmap"
           }
          ],
          "heatmapgl": [
           {
            "colorbar": {
             "outlinewidth": 0,
             "ticks": ""
            },
            "colorscale": [
             [
              0,
              "#0d0887"
             ],
             [
              0.1111111111111111,
              "#46039f"
             ],
             [
              0.2222222222222222,
              "#7201a8"
             ],
             [
              0.3333333333333333,
              "#9c179e"
             ],
             [
              0.4444444444444444,
              "#bd3786"
             ],
             [
              0.5555555555555556,
              "#d8576b"
             ],
             [
              0.6666666666666666,
              "#ed7953"
             ],
             [
              0.7777777777777778,
              "#fb9f3a"
             ],
             [
              0.8888888888888888,
              "#fdca26"
             ],
             [
              1,
              "#f0f921"
             ]
            ],
            "type": "heatmapgl"
           }
          ],
          "histogram": [
           {
            "marker": {
             "colorbar": {
              "outlinewidth": 0,
              "ticks": ""
             }
            },
            "type": "histogram"
           }
          ],
          "histogram2d": [
           {
            "colorbar": {
             "outlinewidth": 0,
             "ticks": ""
            },
            "colorscale": [
             [
              0,
              "#0d0887"
             ],
             [
              0.1111111111111111,
              "#46039f"
             ],
             [
              0.2222222222222222,
              "#7201a8"
             ],
             [
              0.3333333333333333,
              "#9c179e"
             ],
             [
              0.4444444444444444,
              "#bd3786"
             ],
             [
              0.5555555555555556,
              "#d8576b"
             ],
             [
              0.6666666666666666,
              "#ed7953"
             ],
             [
              0.7777777777777778,
              "#fb9f3a"
             ],
             [
              0.8888888888888888,
              "#fdca26"
             ],
             [
              1,
              "#f0f921"
             ]
            ],
            "type": "histogram2d"
           }
          ],
          "histogram2dcontour": [
           {
            "colorbar": {
             "outlinewidth": 0,
             "ticks": ""
            },
            "colorscale": [
             [
              0,
              "#0d0887"
             ],
             [
              0.1111111111111111,
              "#46039f"
             ],
             [
              0.2222222222222222,
              "#7201a8"
             ],
             [
              0.3333333333333333,
              "#9c179e"
             ],
             [
              0.4444444444444444,
              "#bd3786"
             ],
             [
              0.5555555555555556,
              "#d8576b"
             ],
             [
              0.6666666666666666,
              "#ed7953"
             ],
             [
              0.7777777777777778,
              "#fb9f3a"
             ],
             [
              0.8888888888888888,
              "#fdca26"
             ],
             [
              1,
              "#f0f921"
             ]
            ],
            "type": "histogram2dcontour"
           }
          ],
          "mesh3d": [
           {
            "colorbar": {
             "outlinewidth": 0,
             "ticks": ""
            },
            "type": "mesh3d"
           }
          ],
          "parcoords": [
           {
            "line": {
             "colorbar": {
              "outlinewidth": 0,
              "ticks": ""
             }
            },
            "type": "parcoords"
           }
          ],
          "pie": [
           {
            "automargin": true,
            "type": "pie"
           }
          ],
          "scatter": [
           {
            "marker": {
             "colorbar": {
              "outlinewidth": 0,
              "ticks": ""
             }
            },
            "type": "scatter"
           }
          ],
          "scatter3d": [
           {
            "line": {
             "colorbar": {
              "outlinewidth": 0,
              "ticks": ""
             }
            },
            "marker": {
             "colorbar": {
              "outlinewidth": 0,
              "ticks": ""
             }
            },
            "type": "scatter3d"
           }
          ],
          "scattercarpet": [
           {
            "marker": {
             "colorbar": {
              "outlinewidth": 0,
              "ticks": ""
             }
            },
            "type": "scattercarpet"
           }
          ],
          "scattergeo": [
           {
            "marker": {
             "colorbar": {
              "outlinewidth": 0,
              "ticks": ""
             }
            },
            "type": "scattergeo"
           }
          ],
          "scattergl": [
           {
            "marker": {
             "colorbar": {
              "outlinewidth": 0,
              "ticks": ""
             }
            },
            "type": "scattergl"
           }
          ],
          "scattermapbox": [
           {
            "marker": {
             "colorbar": {
              "outlinewidth": 0,
              "ticks": ""
             }
            },
            "type": "scattermapbox"
           }
          ],
          "scatterpolar": [
           {
            "marker": {
             "colorbar": {
              "outlinewidth": 0,
              "ticks": ""
             }
            },
            "type": "scatterpolar"
           }
          ],
          "scatterpolargl": [
           {
            "marker": {
             "colorbar": {
              "outlinewidth": 0,
              "ticks": ""
             }
            },
            "type": "scatterpolargl"
           }
          ],
          "scatterternary": [
           {
            "marker": {
             "colorbar": {
              "outlinewidth": 0,
              "ticks": ""
             }
            },
            "type": "scatterternary"
           }
          ],
          "surface": [
           {
            "colorbar": {
             "outlinewidth": 0,
             "ticks": ""
            },
            "colorscale": [
             [
              0,
              "#0d0887"
             ],
             [
              0.1111111111111111,
              "#46039f"
             ],
             [
              0.2222222222222222,
              "#7201a8"
             ],
             [
              0.3333333333333333,
              "#9c179e"
             ],
             [
              0.4444444444444444,
              "#bd3786"
             ],
             [
              0.5555555555555556,
              "#d8576b"
             ],
             [
              0.6666666666666666,
              "#ed7953"
             ],
             [
              0.7777777777777778,
              "#fb9f3a"
             ],
             [
              0.8888888888888888,
              "#fdca26"
             ],
             [
              1,
              "#f0f921"
             ]
            ],
            "type": "surface"
           }
          ],
          "table": [
           {
            "cells": {
             "fill": {
              "color": "#EBF0F8"
             },
             "line": {
              "color": "white"
             }
            },
            "header": {
             "fill": {
              "color": "#C8D4E3"
             },
             "line": {
              "color": "white"
             }
            },
            "type": "table"
           }
          ]
         },
         "layout": {
          "annotationdefaults": {
           "arrowcolor": "#2a3f5f",
           "arrowhead": 0,
           "arrowwidth": 1
          },
          "coloraxis": {
           "colorbar": {
            "outlinewidth": 0,
            "ticks": ""
           }
          },
          "colorscale": {
           "diverging": [
            [
             0,
             "#8e0152"
            ],
            [
             0.1,
             "#c51b7d"
            ],
            [
             0.2,
             "#de77ae"
            ],
            [
             0.3,
             "#f1b6da"
            ],
            [
             0.4,
             "#fde0ef"
            ],
            [
             0.5,
             "#f7f7f7"
            ],
            [
             0.6,
             "#e6f5d0"
            ],
            [
             0.7,
             "#b8e186"
            ],
            [
             0.8,
             "#7fbc41"
            ],
            [
             0.9,
             "#4d9221"
            ],
            [
             1,
             "#276419"
            ]
           ],
           "sequential": [
            [
             0,
             "#0d0887"
            ],
            [
             0.1111111111111111,
             "#46039f"
            ],
            [
             0.2222222222222222,
             "#7201a8"
            ],
            [
             0.3333333333333333,
             "#9c179e"
            ],
            [
             0.4444444444444444,
             "#bd3786"
            ],
            [
             0.5555555555555556,
             "#d8576b"
            ],
            [
             0.6666666666666666,
             "#ed7953"
            ],
            [
             0.7777777777777778,
             "#fb9f3a"
            ],
            [
             0.8888888888888888,
             "#fdca26"
            ],
            [
             1,
             "#f0f921"
            ]
           ],
           "sequentialminus": [
            [
             0,
             "#0d0887"
            ],
            [
             0.1111111111111111,
             "#46039f"
            ],
            [
             0.2222222222222222,
             "#7201a8"
            ],
            [
             0.3333333333333333,
             "#9c179e"
            ],
            [
             0.4444444444444444,
             "#bd3786"
            ],
            [
             0.5555555555555556,
             "#d8576b"
            ],
            [
             0.6666666666666666,
             "#ed7953"
            ],
            [
             0.7777777777777778,
             "#fb9f3a"
            ],
            [
             0.8888888888888888,
             "#fdca26"
            ],
            [
             1,
             "#f0f921"
            ]
           ]
          },
          "colorway": [
           "#636efa",
           "#EF553B",
           "#00cc96",
           "#ab63fa",
           "#FFA15A",
           "#19d3f3",
           "#FF6692",
           "#B6E880",
           "#FF97FF",
           "#FECB52"
          ],
          "font": {
           "color": "#2a3f5f"
          },
          "geo": {
           "bgcolor": "white",
           "lakecolor": "white",
           "landcolor": "#E5ECF6",
           "showlakes": true,
           "showland": true,
           "subunitcolor": "white"
          },
          "hoverlabel": {
           "align": "left"
          },
          "hovermode": "closest",
          "mapbox": {
           "style": "light"
          },
          "paper_bgcolor": "white",
          "plot_bgcolor": "#E5ECF6",
          "polar": {
           "angularaxis": {
            "gridcolor": "white",
            "linecolor": "white",
            "ticks": ""
           },
           "bgcolor": "#E5ECF6",
           "radialaxis": {
            "gridcolor": "white",
            "linecolor": "white",
            "ticks": ""
           }
          },
          "scene": {
           "xaxis": {
            "backgroundcolor": "#E5ECF6",
            "gridcolor": "white",
            "gridwidth": 2,
            "linecolor": "white",
            "showbackground": true,
            "ticks": "",
            "zerolinecolor": "white"
           },
           "yaxis": {
            "backgroundcolor": "#E5ECF6",
            "gridcolor": "white",
            "gridwidth": 2,
            "linecolor": "white",
            "showbackground": true,
            "ticks": "",
            "zerolinecolor": "white"
           },
           "zaxis": {
            "backgroundcolor": "#E5ECF6",
            "gridcolor": "white",
            "gridwidth": 2,
            "linecolor": "white",
            "showbackground": true,
            "ticks": "",
            "zerolinecolor": "white"
           }
          },
          "shapedefaults": {
           "line": {
            "color": "#2a3f5f"
           }
          },
          "ternary": {
           "aaxis": {
            "gridcolor": "white",
            "linecolor": "white",
            "ticks": ""
           },
           "baxis": {
            "gridcolor": "white",
            "linecolor": "white",
            "ticks": ""
           },
           "bgcolor": "#E5ECF6",
           "caxis": {
            "gridcolor": "white",
            "linecolor": "white",
            "ticks": ""
           }
          },
          "title": {
           "x": 0.05
          },
          "xaxis": {
           "automargin": true,
           "gridcolor": "white",
           "linecolor": "white",
           "ticks": "",
           "title": {
            "standoff": 15
           },
           "zerolinecolor": "white",
           "zerolinewidth": 2
          },
          "yaxis": {
           "automargin": true,
           "gridcolor": "white",
           "linecolor": "white",
           "ticks": "",
           "title": {
            "standoff": 15
           },
           "zerolinecolor": "white",
           "zerolinewidth": 2
          }
         }
        },
        "title": {
         "text": "Risco X Retorno"
        },
        "xaxis": {
         "anchor": "y",
         "domain": [
          0,
          1
         ],
         "title": {
          "text": "Risco"
         }
        },
        "yaxis": {
         "anchor": "x",
         "domain": [
          0,
          1
         ],
         "title": {
          "text": "Retorno"
         }
        }
       }
      },
      "text/html": [
       "<div>\n",
       "        \n",
       "        \n",
       "            <div id=\"71cc748f-db9c-4684-9b77-4cecd0c5ce26\" class=\"plotly-graph-div\" style=\"height:525px; width:100%;\"></div>\n",
       "            <script type=\"text/javascript\">\n",
       "                require([\"plotly\"], function(Plotly) {\n",
       "                    window.PLOTLYENV=window.PLOTLYENV || {};\n",
       "                    \n",
       "                if (document.getElementById(\"71cc748f-db9c-4684-9b77-4cecd0c5ce26\")) {\n",
       "                    Plotly.newPlot(\n",
       "                        '71cc748f-db9c-4684-9b77-4cecd0c5ce26',\n",
       "                        [{\"hovertemplate\": \"<b>%{hovertext}</b><br><br>Risco=%{x}<br>Retorno=%{y}<extra></extra>\", \"hovertext\": [\"ABEV3.SA\", \"B3SA3.SA\", \"BBAS3.SA\", \"BBDC3.SA\", \"BBDC4.SA\", \"BEEF3.SA\", \"BRAP4.SA\", \"BRFS3.SA\", \"BRKM5.SA\", \"BRML3.SA\", \"BTOW3.SA\", \"CCRO3.SA\", \"CIEL3.SA\", \"CMIG4.SA\", \"CPFE3.SA\", \"CPLE6.SA\", \"CSAN3.SA\", \"CSNA3.SA\", \"CYRE3.SA\", \"EGIE3.SA\", \"ELET3.SA\", \"ELET6.SA\", \"EMBR3.SA\", \"ENBR3.SA\", \"ENEV3.SA\", \"ENGI11.SA\", \"EQTL3.SA\", \"EZTC3.SA\", \"FLRY3.SA\", \"GGBR4.SA\", \"GOAU4.SA\", \"GOLL4.SA\", \"HGTX3.SA\", \"HYPE3.SA\", \"IGTA3.SA\", \"ITSA4.SA\", \"ITUB4.SA\", \"JBSS3.SA\", \"JHSF3.SA\", \"LAME4.SA\", \"LREN3.SA\", \"MRFG3.SA\", \"MRVE3.SA\", \"MULT3.SA\", \"PCAR3.SA\", \"PETR3.SA\", \"PETR4.SA\", \"RADL3.SA\", \"RENT3.SA\", \"SANB11.SA\", \"SBSP3.SA\", \"SULA11.SA\", \"SUZB3.SA\", \"TAEE11.SA\", \"TIMS3.SA\", \"TOTS3.SA\", \"UGPA3.SA\", \"USIM5.SA\", \"VALE3.SA\", \"VIVT3.SA\", \"VVAR3.SA\", \"WEGE3.SA\", \"YDUQ3.SA\"], \"legendgroup\": \"\", \"marker\": {\"color\": \"#636efa\", \"symbol\": \"circle\"}, \"mode\": \"markers\", \"name\": \"\", \"orientation\": \"v\", \"showlegend\": false, \"type\": \"scatter\", \"x\": [0.068, 0.106, 0.121, 0.089, 0.089, 0.116, 0.125, 0.104, 0.125, 0.095, 0.175, 0.091, 0.097, 0.114, 0.069, 0.096, 0.089, 0.183, 0.114, 0.058, 0.161, 0.14, 0.102, 0.064, 0.146, 0.076, 0.078, 0.105, 0.089, 0.135, 0.161, 0.197, 0.189, 0.096, 0.08, 0.08, 0.084, 0.119, 0.156, 0.094, 0.086, 0.142, 0.119, 0.078, 0.256, 0.134, 0.135, 0.082, 0.096, 0.095, 0.1, 0.095, 0.077, 0.079, 0.084, 0.086, 0.106, 0.196, 0.104, 0.056, 0.192, 0.079, 0.139], \"xaxis\": \"x\", \"y\": [0.013, 0.012, 0.014, 0.014, 0.012, 0.01, 0.016, 0.007, 0.021, 0.01, 0.018, 0.01, 0.004, 0.014, 0.01, 0.013, 0.018, 0.023, 0.01, 0.013, 0.018, 0.02, 0.011, 0.01, -0.0, 0.018, 0.02, 0.021, 0.014, 0.012, 0.008, 0.02, 0.026, 0.01, 0.013, 0.011, 0.011, 0.016, 0.02, 0.013, 0.021, 0.009, 0.015, 0.012, 0.026, 0.007, 0.009, 0.024, 0.025, 0.014, 0.018, 0.016, 0.014, 0.019, 0.009, 0.016, 0.015, 0.016, 0.015, 0.01, 0.03, 0.023, 0.023], \"yaxis\": \"y\"}, {\"hovertemplate\": \"<b>OLS trendline</b><br>retorno_medio = 0.0516355 * desv_pad + 0.00910795<br>R<sup>2</sup>=0.128444<br><br>Risco=%{x}<br>Retorno=%{y} <b>(trend)</b><extra></extra>\", \"legendgroup\": \"\", \"marker\": {\"color\": \"#636efa\", \"symbol\": \"circle\"}, \"mode\": \"lines\", \"name\": \"\", \"showlegend\": false, \"type\": \"scatter\", \"x\": [0.056, 0.058, 0.064, 0.068, 0.069, 0.076, 0.077, 0.078, 0.078, 0.079, 0.079, 0.08, 0.08, 0.082, 0.084, 0.084, 0.086, 0.086, 0.089, 0.089, 0.089, 0.089, 0.091, 0.094, 0.095, 0.095, 0.095, 0.096, 0.096, 0.096, 0.097, 0.1, 0.102, 0.104, 0.104, 0.105, 0.106, 0.106, 0.114, 0.114, 0.116, 0.119, 0.119, 0.121, 0.125, 0.125, 0.134, 0.135, 0.135, 0.139, 0.14, 0.142, 0.146, 0.156, 0.161, 0.161, 0.175, 0.183, 0.189, 0.192, 0.196, 0.197, 0.256], \"xaxis\": \"x\", \"y\": [0.011999538143568083, 0.012102809241747213, 0.012412622536284607, 0.012619164732642869, 0.012670800281732435, 0.013032249125359392, 0.013083884674448959, 0.013135520223538524, 0.013135520223538524, 0.013187155772628089, 0.013187155772628089, 0.013238791321717656, 0.013238791321717656, 0.013342062419896786, 0.013445333518075916, 0.013445333518075916, 0.013548604616255048, 0.013548604616255048, 0.013703511263523744, 0.013703511263523744, 0.013703511263523744, 0.013703511263523744, 0.013806782361702876, 0.013961689008971573, 0.014013324558061136, 0.014013324558061136, 0.014013324558061136, 0.014064960107150703, 0.014064960107150703, 0.014064960107150703, 0.014116595656240268, 0.014271502303508965, 0.014374773401688096, 0.014478044499867226, 0.014478044499867226, 0.014529680048956793, 0.014581315598046356, 0.014581315598046356, 0.014994399990762882, 0.014994399990762882, 0.015097671088942013, 0.015252577736210709, 0.015252577736210709, 0.01535584883438984, 0.015562391030748102, 0.015562391030748102, 0.016027110972554194, 0.016078746521643757, 0.016078746521643757, 0.01628528871800202, 0.016336924267091584, 0.016440195365270714, 0.016646737561628978, 0.017163093052524635, 0.01742127079797246, 0.01742127079797246, 0.018144168485226375, 0.018557252877942902, 0.018867066172480296, 0.01902197281974899, 0.019228515016107253, 0.019280150565196816, 0.022326647961481184], \"yaxis\": \"y\"}],\n",
       "                        {\"legend\": {\"tracegroupgap\": 0}, \"template\": {\"data\": {\"bar\": [{\"error_x\": {\"color\": \"#2a3f5f\"}, \"error_y\": {\"color\": \"#2a3f5f\"}, \"marker\": {\"line\": {\"color\": \"#E5ECF6\", \"width\": 0.5}}, \"type\": \"bar\"}], \"barpolar\": [{\"marker\": {\"line\": {\"color\": \"#E5ECF6\", \"width\": 0.5}}, \"type\": \"barpolar\"}], \"carpet\": [{\"aaxis\": {\"endlinecolor\": \"#2a3f5f\", \"gridcolor\": \"white\", \"linecolor\": \"white\", \"minorgridcolor\": \"white\", \"startlinecolor\": \"#2a3f5f\"}, \"baxis\": {\"endlinecolor\": \"#2a3f5f\", \"gridcolor\": \"white\", \"linecolor\": \"white\", \"minorgridcolor\": \"white\", \"startlinecolor\": \"#2a3f5f\"}, \"type\": \"carpet\"}], \"choropleth\": [{\"colorbar\": {\"outlinewidth\": 0, \"ticks\": \"\"}, \"type\": \"choropleth\"}], \"contour\": [{\"colorbar\": {\"outlinewidth\": 0, \"ticks\": \"\"}, \"colorscale\": [[0.0, \"#0d0887\"], [0.1111111111111111, \"#46039f\"], [0.2222222222222222, \"#7201a8\"], [0.3333333333333333, \"#9c179e\"], [0.4444444444444444, \"#bd3786\"], [0.5555555555555556, \"#d8576b\"], [0.6666666666666666, \"#ed7953\"], [0.7777777777777778, \"#fb9f3a\"], [0.8888888888888888, \"#fdca26\"], [1.0, \"#f0f921\"]], \"type\": \"contour\"}], \"contourcarpet\": [{\"colorbar\": {\"outlinewidth\": 0, \"ticks\": \"\"}, \"type\": \"contourcarpet\"}], \"heatmap\": [{\"colorbar\": {\"outlinewidth\": 0, \"ticks\": \"\"}, \"colorscale\": [[0.0, \"#0d0887\"], [0.1111111111111111, \"#46039f\"], [0.2222222222222222, \"#7201a8\"], [0.3333333333333333, \"#9c179e\"], [0.4444444444444444, \"#bd3786\"], [0.5555555555555556, \"#d8576b\"], [0.6666666666666666, \"#ed7953\"], [0.7777777777777778, \"#fb9f3a\"], [0.8888888888888888, \"#fdca26\"], [1.0, \"#f0f921\"]], \"type\": \"heatmap\"}], \"heatmapgl\": [{\"colorbar\": {\"outlinewidth\": 0, \"ticks\": \"\"}, \"colorscale\": [[0.0, \"#0d0887\"], [0.1111111111111111, \"#46039f\"], [0.2222222222222222, \"#7201a8\"], [0.3333333333333333, \"#9c179e\"], [0.4444444444444444, \"#bd3786\"], [0.5555555555555556, \"#d8576b\"], [0.6666666666666666, \"#ed7953\"], [0.7777777777777778, \"#fb9f3a\"], [0.8888888888888888, \"#fdca26\"], [1.0, \"#f0f921\"]], \"type\": \"heatmapgl\"}], \"histogram\": [{\"marker\": {\"colorbar\": {\"outlinewidth\": 0, \"ticks\": \"\"}}, \"type\": \"histogram\"}], \"histogram2d\": [{\"colorbar\": {\"outlinewidth\": 0, \"ticks\": \"\"}, \"colorscale\": [[0.0, \"#0d0887\"], [0.1111111111111111, \"#46039f\"], [0.2222222222222222, \"#7201a8\"], [0.3333333333333333, \"#9c179e\"], [0.4444444444444444, \"#bd3786\"], [0.5555555555555556, \"#d8576b\"], [0.6666666666666666, \"#ed7953\"], [0.7777777777777778, \"#fb9f3a\"], [0.8888888888888888, \"#fdca26\"], [1.0, \"#f0f921\"]], \"type\": \"histogram2d\"}], \"histogram2dcontour\": [{\"colorbar\": {\"outlinewidth\": 0, \"ticks\": \"\"}, \"colorscale\": [[0.0, \"#0d0887\"], [0.1111111111111111, \"#46039f\"], [0.2222222222222222, \"#7201a8\"], [0.3333333333333333, \"#9c179e\"], [0.4444444444444444, \"#bd3786\"], [0.5555555555555556, \"#d8576b\"], [0.6666666666666666, \"#ed7953\"], [0.7777777777777778, \"#fb9f3a\"], [0.8888888888888888, \"#fdca26\"], [1.0, \"#f0f921\"]], \"type\": \"histogram2dcontour\"}], \"mesh3d\": [{\"colorbar\": {\"outlinewidth\": 0, \"ticks\": \"\"}, \"type\": \"mesh3d\"}], \"parcoords\": [{\"line\": {\"colorbar\": {\"outlinewidth\": 0, \"ticks\": \"\"}}, \"type\": \"parcoords\"}], \"pie\": [{\"automargin\": true, \"type\": \"pie\"}], \"scatter\": [{\"marker\": {\"colorbar\": {\"outlinewidth\": 0, \"ticks\": \"\"}}, \"type\": \"scatter\"}], \"scatter3d\": [{\"line\": {\"colorbar\": {\"outlinewidth\": 0, \"ticks\": \"\"}}, \"marker\": {\"colorbar\": {\"outlinewidth\": 0, \"ticks\": \"\"}}, \"type\": \"scatter3d\"}], \"scattercarpet\": [{\"marker\": {\"colorbar\": {\"outlinewidth\": 0, \"ticks\": \"\"}}, \"type\": \"scattercarpet\"}], \"scattergeo\": [{\"marker\": {\"colorbar\": {\"outlinewidth\": 0, \"ticks\": \"\"}}, \"type\": \"scattergeo\"}], \"scattergl\": [{\"marker\": {\"colorbar\": {\"outlinewidth\": 0, \"ticks\": \"\"}}, \"type\": \"scattergl\"}], \"scattermapbox\": [{\"marker\": {\"colorbar\": {\"outlinewidth\": 0, \"ticks\": \"\"}}, \"type\": \"scattermapbox\"}], \"scatterpolar\": [{\"marker\": {\"colorbar\": {\"outlinewidth\": 0, \"ticks\": \"\"}}, \"type\": \"scatterpolar\"}], \"scatterpolargl\": [{\"marker\": {\"colorbar\": {\"outlinewidth\": 0, \"ticks\": \"\"}}, \"type\": \"scatterpolargl\"}], \"scatterternary\": [{\"marker\": {\"colorbar\": {\"outlinewidth\": 0, \"ticks\": \"\"}}, \"type\": \"scatterternary\"}], \"surface\": [{\"colorbar\": {\"outlinewidth\": 0, \"ticks\": \"\"}, \"colorscale\": [[0.0, \"#0d0887\"], [0.1111111111111111, \"#46039f\"], [0.2222222222222222, \"#7201a8\"], [0.3333333333333333, \"#9c179e\"], [0.4444444444444444, \"#bd3786\"], [0.5555555555555556, \"#d8576b\"], [0.6666666666666666, \"#ed7953\"], [0.7777777777777778, \"#fb9f3a\"], [0.8888888888888888, \"#fdca26\"], [1.0, \"#f0f921\"]], \"type\": \"surface\"}], \"table\": [{\"cells\": {\"fill\": {\"color\": \"#EBF0F8\"}, \"line\": {\"color\": \"white\"}}, \"header\": {\"fill\": {\"color\": \"#C8D4E3\"}, \"line\": {\"color\": \"white\"}}, \"type\": \"table\"}]}, \"layout\": {\"annotationdefaults\": {\"arrowcolor\": \"#2a3f5f\", \"arrowhead\": 0, \"arrowwidth\": 1}, \"coloraxis\": {\"colorbar\": {\"outlinewidth\": 0, \"ticks\": \"\"}}, \"colorscale\": {\"diverging\": [[0, \"#8e0152\"], [0.1, \"#c51b7d\"], [0.2, \"#de77ae\"], [0.3, \"#f1b6da\"], [0.4, \"#fde0ef\"], [0.5, \"#f7f7f7\"], [0.6, \"#e6f5d0\"], [0.7, \"#b8e186\"], [0.8, \"#7fbc41\"], [0.9, \"#4d9221\"], [1, \"#276419\"]], \"sequential\": [[0.0, \"#0d0887\"], [0.1111111111111111, \"#46039f\"], [0.2222222222222222, \"#7201a8\"], [0.3333333333333333, \"#9c179e\"], [0.4444444444444444, \"#bd3786\"], [0.5555555555555556, \"#d8576b\"], [0.6666666666666666, \"#ed7953\"], [0.7777777777777778, \"#fb9f3a\"], [0.8888888888888888, \"#fdca26\"], [1.0, \"#f0f921\"]], \"sequentialminus\": [[0.0, \"#0d0887\"], [0.1111111111111111, \"#46039f\"], [0.2222222222222222, \"#7201a8\"], [0.3333333333333333, \"#9c179e\"], [0.4444444444444444, \"#bd3786\"], [0.5555555555555556, \"#d8576b\"], [0.6666666666666666, \"#ed7953\"], [0.7777777777777778, \"#fb9f3a\"], [0.8888888888888888, \"#fdca26\"], [1.0, \"#f0f921\"]]}, \"colorway\": [\"#636efa\", \"#EF553B\", \"#00cc96\", \"#ab63fa\", \"#FFA15A\", \"#19d3f3\", \"#FF6692\", \"#B6E880\", \"#FF97FF\", \"#FECB52\"], \"font\": {\"color\": \"#2a3f5f\"}, \"geo\": {\"bgcolor\": \"white\", \"lakecolor\": \"white\", \"landcolor\": \"#E5ECF6\", \"showlakes\": true, \"showland\": true, \"subunitcolor\": \"white\"}, \"hoverlabel\": {\"align\": \"left\"}, \"hovermode\": \"closest\", \"mapbox\": {\"style\": \"light\"}, \"paper_bgcolor\": \"white\", \"plot_bgcolor\": \"#E5ECF6\", \"polar\": {\"angularaxis\": {\"gridcolor\": \"white\", \"linecolor\": \"white\", \"ticks\": \"\"}, \"bgcolor\": \"#E5ECF6\", \"radialaxis\": {\"gridcolor\": \"white\", \"linecolor\": \"white\", \"ticks\": \"\"}}, \"scene\": {\"xaxis\": {\"backgroundcolor\": \"#E5ECF6\", \"gridcolor\": \"white\", \"gridwidth\": 2, \"linecolor\": \"white\", \"showbackground\": true, \"ticks\": \"\", \"zerolinecolor\": \"white\"}, \"yaxis\": {\"backgroundcolor\": \"#E5ECF6\", \"gridcolor\": \"white\", \"gridwidth\": 2, \"linecolor\": \"white\", \"showbackground\": true, \"ticks\": \"\", \"zerolinecolor\": \"white\"}, \"zaxis\": {\"backgroundcolor\": \"#E5ECF6\", \"gridcolor\": \"white\", \"gridwidth\": 2, \"linecolor\": \"white\", \"showbackground\": true, \"ticks\": \"\", \"zerolinecolor\": \"white\"}}, \"shapedefaults\": {\"line\": {\"color\": \"#2a3f5f\"}}, \"ternary\": {\"aaxis\": {\"gridcolor\": \"white\", \"linecolor\": \"white\", \"ticks\": \"\"}, \"baxis\": {\"gridcolor\": \"white\", \"linecolor\": \"white\", \"ticks\": \"\"}, \"bgcolor\": \"#E5ECF6\", \"caxis\": {\"gridcolor\": \"white\", \"linecolor\": \"white\", \"ticks\": \"\"}}, \"title\": {\"x\": 0.05}, \"xaxis\": {\"automargin\": true, \"gridcolor\": \"white\", \"linecolor\": \"white\", \"ticks\": \"\", \"title\": {\"standoff\": 15}, \"zerolinecolor\": \"white\", \"zerolinewidth\": 2}, \"yaxis\": {\"automargin\": true, \"gridcolor\": \"white\", \"linecolor\": \"white\", \"ticks\": \"\", \"title\": {\"standoff\": 15}, \"zerolinecolor\": \"white\", \"zerolinewidth\": 2}}}, \"title\": {\"text\": \"Risco X Retorno\"}, \"xaxis\": {\"anchor\": \"y\", \"domain\": [0.0, 1.0], \"title\": {\"text\": \"Risco\"}}, \"yaxis\": {\"anchor\": \"x\", \"domain\": [0.0, 1.0], \"title\": {\"text\": \"Retorno\"}}},\n",
       "                        {\"responsive\": true}\n",
       "                    ).then(function(){\n",
       "                            \n",
       "var gd = document.getElementById('71cc748f-db9c-4684-9b77-4cecd0c5ce26');\n",
       "var x = new MutationObserver(function (mutations, observer) {{\n",
       "        var display = window.getComputedStyle(gd).display;\n",
       "        if (!display || display === 'none') {{\n",
       "            console.log([gd, 'removed!']);\n",
       "            Plotly.purge(gd);\n",
       "            observer.disconnect();\n",
       "        }}\n",
       "}});\n",
       "\n",
       "// Listen for the removal of the full notebook cells\n",
       "var notebookContainer = gd.closest('#notebook-container');\n",
       "if (notebookContainer) {{\n",
       "    x.observe(notebookContainer, {childList: true});\n",
       "}}\n",
       "\n",
       "// Listen for the clearing of the current output cell\n",
       "var outputEl = gd.closest('.output');\n",
       "if (outputEl) {{\n",
       "    x.observe(outputEl, {childList: true});\n",
       "}}\n",
       "\n",
       "                        })\n",
       "                };\n",
       "                });\n",
       "            </script>\n",
       "        </div>"
      ]
     },
     "metadata": {},
     "output_type": "display_data"
    }
   ],
   "source": [
    "import plotly.express as px\n",
    "\n",
    "fig = px.scatter(\n",
    "    dados_mensais.round(3), \n",
    "    x=\"desv_pad\",\n",
    "    y=\"retorno_medio\", \n",
    "    trendline=\"ols\",\n",
    "    title='Risco X Retorno',\n",
    "    hover_name=dados_mensais.index,\n",
    "    labels={\n",
    "             \"retorno_medio\": \"Retorno\",\n",
    "             \"desv_pad\": \"Risco\",\n",
    "                 }\n",
    "    )\n",
    "\n",
    "fig.show()"
   ]
  },
  {
   "cell_type": "code",
   "execution_count": null,
   "metadata": {},
   "outputs": [],
   "source": []
  }
 ],
 "metadata": {
  "kernelspec": {
   "display_name": "Python 3",
   "language": "python",
   "name": "python3"
  },
  "language_info": {
   "codemirror_mode": {
    "name": "ipython",
    "version": 3
   },
   "file_extension": ".py",
   "mimetype": "text/x-python",
   "name": "python",
   "nbconvert_exporter": "python",
   "pygments_lexer": "ipython3",
   "version": "3.8.4"
  }
 },
 "nbformat": 4,
 "nbformat_minor": 4
}
